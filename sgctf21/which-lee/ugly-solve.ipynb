{
 "cells": [
  {
   "cell_type": "code",
   "execution_count": 1,
   "id": "unavailable-address",
   "metadata": {},
   "outputs": [
    {
     "name": "stdout",
     "output_type": "stream",
     "text": [
      "0.png  3.png\t       Untitled1.ipynb\tdistrib.zip  params.py\n",
      "1.png  4.png\t       __pycache__\teval.py\n",
      "2.png  Untitled.ipynb  distrib\t\tleenet.ph\n"
     ]
    }
   ],
   "source": [
    "!ls"
   ]
  },
  {
   "cell_type": "code",
   "execution_count": 2,
   "id": "rolled-description",
   "metadata": {},
   "outputs": [],
   "source": [
    "from PIL import Image\n",
    "from IPython.display import display\n",
    "import numpy as np\n",
    "\n",
    "import torch\n",
    "import torch.nn as nn\n",
    "from torch.autograd import Function, Variable\n",
    "from torch.nn.parameter import Parameter\n",
    "from torchvision import datasets, transforms\n",
    "import torch.nn.functional as F"
   ]
  },
  {
   "cell_type": "code",
   "execution_count": 3,
   "id": "graduate-enterprise",
   "metadata": {},
   "outputs": [],
   "source": [
    "NFEATURES=16*16\n",
    "NHIDDEN=8*8\n",
    "NCL=5\n",
    "EPS = 0.00001\n",
    "\n",
    "# not LeNet\n",
    "class LeeNet(nn.Module):\n",
    "    def __init__(self, nFeatures=NFEATURES, nHidden=NHIDDEN, nCl=NCL):\n",
    "        super().__init__()\n",
    "        self.fc1 = nn.Linear(nFeatures, nHidden)\n",
    "        self.fc2 = nn.Linear(nHidden, nCl)\n",
    "        \n",
    "    def forward(self, x):\n",
    "        nBatch = x.size(0)\n",
    "\n",
    "        # Normal FC network.\n",
    "        x = x.view(nBatch, -1)\n",
    "        x = F.relu(self.fc1(x))\n",
    "        x = F.relu(self.fc2(x))\n",
    "        x = F.layer_norm(x, x.size()[1:], eps=1e-50)\n",
    "        \n",
    "        probs = F.softmax(x, dim=1) \n",
    "        \n",
    "        return probs"
   ]
  },
  {
   "cell_type": "code",
   "execution_count": 4,
   "id": "decimal-wealth",
   "metadata": {},
   "outputs": [
    {
     "data": {
      "text/plain": [
       "<All keys matched successfully>"
      ]
     },
     "execution_count": 4,
     "metadata": {},
     "output_type": "execute_result"
    }
   ],
   "source": [
    "model = LeeNet()\n",
    "model.load_state_dict(torch.load(\"./leenet.ph\"))"
   ]
  },
  {
   "cell_type": "code",
   "execution_count": 5,
   "id": "decent-momentum",
   "metadata": {},
   "outputs": [
    {
     "data": {
      "text/plain": [
       "LeeNet(\n",
       "  (fc1): Linear(in_features=256, out_features=64, bias=True)\n",
       "  (fc2): Linear(in_features=64, out_features=5, bias=True)\n",
       ")"
      ]
     },
     "execution_count": 5,
     "metadata": {},
     "output_type": "execute_result"
    }
   ],
   "source": [
    "model"
   ]
  },
  {
   "cell_type": "code",
   "execution_count": 6,
   "id": "silent-tractor",
   "metadata": {},
   "outputs": [],
   "source": [
    "for param in model.parameters():\n",
    "    param.requires_grad = True"
   ]
  },
  {
   "cell_type": "code",
   "execution_count": 7,
   "id": "parental-maximum",
   "metadata": {},
   "outputs": [],
   "source": [
    "im = Image.new('L', (16, 16), (128))"
   ]
  },
  {
   "cell_type": "code",
   "execution_count": 8,
   "id": "structural-dryer",
   "metadata": {},
   "outputs": [
    {
     "data": {
      "image/png": "[encoded data removed]",
      "text/plain": [
       "<PIL.Image.Image image mode=L size=16x16 at 0x7FF3043DBA00>"
      ]
     },
     "metadata": {},
     "output_type": "display_data"
    }
   ],
   "source": [
    "display(im)"
   ]
  },
  {
   "cell_type": "code",
   "execution_count": 9,
   "id": "mature-explanation",
   "metadata": {},
   "outputs": [
    {
     "data": {
      "text/plain": [
       "array([[0.5, 0.5, 0.5, 0.5, 0.5, 0.5, 0.5, 0.5, 0.5, 0.5, 0.5, 0.5, 0.5,\n",
       "        0.5, 0.5, 0.5, 0.5, 0.5, 0.5, 0.5, 0.5, 0.5, 0.5, 0.5, 0.5, 0.5,\n",
       "        0.5, 0.5, 0.5, 0.5, 0.5, 0.5, 0.5, 0.5, 0.5, 0.5, 0.5, 0.5, 0.5,\n",
       "        0.5, 0.5, 0.5, 0.5, 0.5, 0.5, 0.5, 0.5, 0.5, 0.5, 0.5, 0.5, 0.5,\n",
       "        0.5, 0.5, 0.5, 0.5, 0.5, 0.5, 0.5, 0.5, 0.5, 0.5, 0.5, 0.5, 0.5,\n",
       "        0.5, 0.5, 0.5, 0.5, 0.5, 0.5, 0.5, 0.5, 0.5, 0.5, 0.5, 0.5, 0.5,\n",
       "        0.5, 0.5, 0.5, 0.5, 0.5, 0.5, 0.5, 0.5, 0.5, 0.5, 0.5, 0.5, 0.5,\n",
       "        0.5, 0.5, 0.5, 0.5, 0.5, 0.5, 0.5, 0.5, 0.5, 0.5, 0.5, 0.5, 0.5,\n",
       "        0.5, 0.5, 0.5, 0.5, 0.5, 0.5, 0.5, 0.5, 0.5, 0.5, 0.5, 0.5, 0.5,\n",
       "        0.5, 0.5, 0.5, 0.5, 0.5, 0.5, 0.5, 0.5, 0.5, 0.5, 0.5, 0.5, 0.5,\n",
       "        0.5, 0.5, 0.5, 0.5, 0.5, 0.5, 0.5, 0.5, 0.5, 0.5, 0.5, 0.5, 0.5,\n",
       "        0.5, 0.5, 0.5, 0.5, 0.5, 0.5, 0.5, 0.5, 0.5, 0.5, 0.5, 0.5, 0.5,\n",
       "        0.5, 0.5, 0.5, 0.5, 0.5, 0.5, 0.5, 0.5, 0.5, 0.5, 0.5, 0.5, 0.5,\n",
       "        0.5, 0.5, 0.5, 0.5, 0.5, 0.5, 0.5, 0.5, 0.5, 0.5, 0.5, 0.5, 0.5,\n",
       "        0.5, 0.5, 0.5, 0.5, 0.5, 0.5, 0.5, 0.5, 0.5, 0.5, 0.5, 0.5, 0.5,\n",
       "        0.5, 0.5, 0.5, 0.5, 0.5, 0.5, 0.5, 0.5, 0.5, 0.5, 0.5, 0.5, 0.5,\n",
       "        0.5, 0.5, 0.5, 0.5, 0.5, 0.5, 0.5, 0.5, 0.5, 0.5, 0.5, 0.5, 0.5,\n",
       "        0.5, 0.5, 0.5, 0.5, 0.5, 0.5, 0.5, 0.5, 0.5, 0.5, 0.5, 0.5, 0.5,\n",
       "        0.5, 0.5, 0.5, 0.5, 0.5, 0.5, 0.5, 0.5, 0.5, 0.5, 0.5, 0.5, 0.5,\n",
       "        0.5, 0.5, 0.5, 0.5, 0.5, 0.5, 0.5, 0.5, 0.5]])"
      ]
     },
     "execution_count": 9,
     "metadata": {},
     "output_type": "execute_result"
    }
   ],
   "source": [
    "im_np = np.asarray(im).reshape(1, NFEATURES) / 256\n",
    "im_np"
   ]
  },
  {
   "cell_type": "code",
   "execution_count": 10,
   "id": "plastic-carol",
   "metadata": {},
   "outputs": [
    {
     "data": {
      "text/plain": [
       "tensor([[0.5000, 0.5000, 0.5000, 0.5000, 0.5000, 0.5000, 0.5000, 0.5000, 0.5000,\n",
       "         0.5000, 0.5000, 0.5000, 0.5000, 0.5000, 0.5000, 0.5000, 0.5000, 0.5000,\n",
       "         0.5000, 0.5000, 0.5000, 0.5000, 0.5000, 0.5000, 0.5000, 0.5000, 0.5000,\n",
       "         0.5000, 0.5000, 0.5000, 0.5000, 0.5000, 0.5000, 0.5000, 0.5000, 0.5000,\n",
       "         0.5000, 0.5000, 0.5000, 0.5000, 0.5000, 0.5000, 0.5000, 0.5000, 0.5000,\n",
       "         0.5000, 0.5000, 0.5000, 0.5000, 0.5000, 0.5000, 0.5000, 0.5000, 0.5000,\n",
       "         0.5000, 0.5000, 0.5000, 0.5000, 0.5000, 0.5000, 0.5000, 0.5000, 0.5000,\n",
       "         0.5000, 0.5000, 0.5000, 0.5000, 0.5000, 0.5000, 0.5000, 0.5000, 0.5000,\n",
       "         0.5000, 0.5000, 0.5000, 0.5000, 0.5000, 0.5000, 0.5000, 0.5000, 0.5000,\n",
       "         0.5000, 0.5000, 0.5000, 0.5000, 0.5000, 0.5000, 0.5000, 0.5000, 0.5000,\n",
       "         0.5000, 0.5000, 0.5000, 0.5000, 0.5000, 0.5000, 0.5000, 0.5000, 0.5000,\n",
       "         0.5000, 0.5000, 0.5000, 0.5000, 0.5000, 0.5000, 0.5000, 0.5000, 0.5000,\n",
       "         0.5000, 0.5000, 0.5000, 0.5000, 0.5000, 0.5000, 0.5000, 0.5000, 0.5000,\n",
       "         0.5000, 0.5000, 0.5000, 0.5000, 0.5000, 0.5000, 0.5000, 0.5000, 0.5000,\n",
       "         0.5000, 0.5000, 0.5000, 0.5000, 0.5000, 0.5000, 0.5000, 0.5000, 0.5000,\n",
       "         0.5000, 0.5000, 0.5000, 0.5000, 0.5000, 0.5000, 0.5000, 0.5000, 0.5000,\n",
       "         0.5000, 0.5000, 0.5000, 0.5000, 0.5000, 0.5000, 0.5000, 0.5000, 0.5000,\n",
       "         0.5000, 0.5000, 0.5000, 0.5000, 0.5000, 0.5000, 0.5000, 0.5000, 0.5000,\n",
       "         0.5000, 0.5000, 0.5000, 0.5000, 0.5000, 0.5000, 0.5000, 0.5000, 0.5000,\n",
       "         0.5000, 0.5000, 0.5000, 0.5000, 0.5000, 0.5000, 0.5000, 0.5000, 0.5000,\n",
       "         0.5000, 0.5000, 0.5000, 0.5000, 0.5000, 0.5000, 0.5000, 0.5000, 0.5000,\n",
       "         0.5000, 0.5000, 0.5000, 0.5000, 0.5000, 0.5000, 0.5000, 0.5000, 0.5000,\n",
       "         0.5000, 0.5000, 0.5000, 0.5000, 0.5000, 0.5000, 0.5000, 0.5000, 0.5000,\n",
       "         0.5000, 0.5000, 0.5000, 0.5000, 0.5000, 0.5000, 0.5000, 0.5000, 0.5000,\n",
       "         0.5000, 0.5000, 0.5000, 0.5000, 0.5000, 0.5000, 0.5000, 0.5000, 0.5000,\n",
       "         0.5000, 0.5000, 0.5000, 0.5000, 0.5000, 0.5000, 0.5000, 0.5000, 0.5000,\n",
       "         0.5000, 0.5000, 0.5000, 0.5000, 0.5000, 0.5000, 0.5000, 0.5000, 0.5000,\n",
       "         0.5000, 0.5000, 0.5000, 0.5000, 0.5000, 0.5000, 0.5000, 0.5000, 0.5000,\n",
       "         0.5000, 0.5000, 0.5000, 0.5000]], requires_grad=True)"
      ]
     },
     "execution_count": 10,
     "metadata": {},
     "output_type": "execute_result"
    }
   ],
   "source": [
    "im_tensor = torch.Tensor(im_np)\n",
    "im_tensor.requires_grad = True\n",
    "im_tensor"
   ]
  },
  {
   "cell_type": "code",
   "execution_count": 11,
   "id": "bacterial-information",
   "metadata": {},
   "outputs": [
    {
     "name": "stderr",
     "output_type": "stream",
     "text": [
      "/opt/conda/lib/python3.8/site-packages/torch/autograd/__init__.py:145: UserWarning: CUDA initialization: Found no NVIDIA driver on your system. Please check that you have an NVIDIA GPU and installed a driver from http://www.nvidia.com/Download/index.aspx (Triggered internally at  ../c10/cuda/CUDAFunctions.cpp:104.)\n",
      "  Variable._execution_engine.run_backward(\n"
     ]
    },
    {
     "data": {
      "text/plain": [
       "tensor(1.5843, grad_fn=<NllLossBackward>)"
      ]
     },
     "execution_count": 11,
     "metadata": {},
     "output_type": "execute_result"
    }
   ],
   "source": [
    "im_tensor.grad = None\n",
    "model.zero_grad()\n",
    "preds = model(im_tensor)\n",
    "target = torch.empty([1], dtype=torch.long)\n",
    "target[0] = 1\n",
    "loss = nn.CrossEntropyLoss()\n",
    "output = loss(preds, target)\n",
    "output.backward()\n",
    "output"
   ]
  },
  {
   "cell_type": "code",
   "execution_count": 12,
   "id": "chinese-malaysia",
   "metadata": {},
   "outputs": [
    {
     "data": {
      "text/plain": [
       "tensor([[0.4840, 0.5024, 0.5076, 0.4929, 0.5118, 0.5018, 0.4755, 0.5197, 0.5313,\n",
       "         0.5118, 0.4900, 0.5524, 0.4432, 0.4769, 0.4607, 0.4685, 0.4043, 0.4905,\n",
       "         0.4742, 0.5461, 0.5727, 0.4363, 0.4767, 0.4839, 0.4906, 0.5387, 0.4519,\n",
       "         0.5255, 0.5083, 0.4954, 0.5289, 0.4148, 0.4635, 0.4890, 0.4682, 0.5188,\n",
       "         0.5421, 0.5007, 0.5283, 0.4658, 0.4977, 0.5336, 0.4901, 0.5218, 0.5264,\n",
       "         0.4376, 0.5242, 0.5321, 0.4514, 0.5138, 0.4714, 0.5224, 0.5453, 0.4778,\n",
       "         0.4652, 0.4903, 0.4715, 0.4892, 0.5908, 0.5384, 0.5032, 0.5080, 0.4694,\n",
       "         0.5074, 0.4898, 0.4167, 0.4945, 0.4610, 0.4798, 0.4316, 0.4581, 0.4991,\n",
       "         0.4965, 0.4673, 0.5108, 0.5224, 0.5675, 0.5273, 0.5143, 0.5684, 0.5113,\n",
       "         0.5555, 0.4385, 0.4856, 0.5707, 0.4919, 0.5663, 0.4429, 0.5192, 0.5064,\n",
       "         0.5244, 0.5011, 0.5153, 0.5211, 0.5387, 0.4443, 0.5415, 0.4890, 0.5044,\n",
       "         0.5348, 0.5245, 0.5401, 0.5299, 0.4814, 0.5381, 0.4514, 0.4638, 0.5091,\n",
       "         0.5288, 0.4785, 0.5122, 0.5006, 0.5077, 0.5230, 0.4878, 0.4501, 0.5388,\n",
       "         0.4730, 0.4823, 0.5343, 0.5000, 0.5264, 0.4457, 0.4970, 0.5136, 0.4490,\n",
       "         0.5110, 0.4574, 0.4970, 0.4586, 0.5123, 0.4296, 0.5319, 0.5081, 0.5094,\n",
       "         0.4370, 0.4930, 0.4971, 0.5096, 0.4838, 0.5298, 0.5523, 0.5003, 0.4988,\n",
       "         0.4529, 0.4737, 0.5621, 0.4635, 0.5512, 0.5086, 0.4774, 0.4877, 0.4675,\n",
       "         0.5317, 0.4575, 0.5282, 0.5067, 0.5589, 0.4773, 0.5119, 0.5384, 0.4918,\n",
       "         0.4725, 0.4884, 0.5078, 0.4783, 0.5263, 0.4871, 0.5037, 0.5450, 0.5393,\n",
       "         0.4317, 0.4670, 0.5637, 0.5430, 0.5084, 0.4841, 0.5035, 0.5234, 0.4840,\n",
       "         0.5470, 0.4366, 0.4546, 0.5549, 0.4703, 0.5330, 0.5064, 0.4765, 0.4942,\n",
       "         0.5166, 0.4945, 0.4787, 0.5183, 0.4851, 0.4821, 0.5196, 0.5000, 0.4826,\n",
       "         0.4890, 0.4752, 0.5411, 0.5346, 0.5381, 0.5481, 0.4817, 0.5141, 0.4177,\n",
       "         0.5327, 0.5240, 0.5018, 0.4986, 0.4930, 0.4873, 0.5077, 0.4976, 0.4903,\n",
       "         0.5445, 0.4362, 0.5167, 0.4936, 0.5046, 0.4850, 0.5286, 0.4695, 0.5162,\n",
       "         0.4659, 0.5054, 0.5414, 0.5010, 0.4987, 0.4388, 0.5127, 0.5291, 0.4953,\n",
       "         0.4808, 0.4806, 0.4994, 0.5516, 0.4881, 0.5117, 0.5305, 0.6141, 0.5576,\n",
       "         0.4672, 0.4889, 0.5101, 0.5345, 0.4798, 0.5311, 0.4764, 0.5143, 0.4522,\n",
       "         0.5379, 0.4813, 0.4791, 0.4953]], grad_fn=<SubBackward0>)"
      ]
     },
     "execution_count": 12,
     "metadata": {},
     "output_type": "execute_result"
    }
   ],
   "source": [
    "im_tensor = im_tensor - im_tensor.grad\n",
    "im_tensor"
   ]
  },
  {
   "cell_type": "code",
   "execution_count": 13,
   "id": "tender-tension",
   "metadata": {},
   "outputs": [
    {
     "data": {
      "text/plain": [
       "array([[0.48396084, 0.50242853, 0.50757617, 0.4929314 , 0.5117811 ,\n",
       "        0.5017587 , 0.4754557 , 0.5197366 , 0.53126913, 0.5117519 ,\n",
       "        0.4899784 , 0.55238974, 0.44322702, 0.4769237 , 0.46068242,\n",
       "        0.46847698, 0.4042772 , 0.4905003 , 0.47416022, 0.54611826,\n",
       "        0.5726891 , 0.43630168, 0.47666442, 0.4839468 , 0.49061292,\n",
       "        0.53868544, 0.45191017, 0.5255328 , 0.50831515, 0.49537763,\n",
       "        0.52894074, 0.41478947, 0.4634701 , 0.4889504 , 0.46822247,\n",
       "        0.51879245, 0.54211485, 0.5007308 , 0.5282778 , 0.46580112,\n",
       "        0.49774894, 0.53363276, 0.49008328, 0.5217825 , 0.5263531 ,\n",
       "        0.43761384, 0.5242292 , 0.53213936, 0.45141175, 0.5137749 ,\n",
       "        0.47137958, 0.5223932 , 0.5452998 , 0.4778059 , 0.4652325 ,\n",
       "        0.49034524, 0.47146654, 0.4891581 , 0.5908044 , 0.53842264,\n",
       "        0.5031902 , 0.50798064, 0.46944162, 0.50740236, 0.4897881 ,\n",
       "        0.41672307, 0.49453205, 0.461012  , 0.47983873, 0.43160218,\n",
       "        0.45814124, 0.49911287, 0.49651286, 0.46729213, 0.5108345 ,\n",
       "        0.5223837 , 0.5675051 , 0.52731293, 0.514289  , 0.56841975,\n",
       "        0.5112894 , 0.55549145, 0.4384632 , 0.4856156 , 0.5707298 ,\n",
       "        0.4918651 , 0.56631047, 0.4429206 , 0.5192231 , 0.5064208 ,\n",
       "        0.5243851 , 0.50106025, 0.5153166 , 0.5211066 , 0.5387121 ,\n",
       "        0.4442665 , 0.54153484, 0.48895094, 0.5043947 , 0.534761  ,\n",
       "        0.5244728 , 0.54006195, 0.52986354, 0.4813545 , 0.53810614,\n",
       "        0.45139688, 0.4638342 , 0.50910926, 0.52879584, 0.4785054 ,\n",
       "        0.5121791 , 0.5006204 , 0.50769204, 0.52297986, 0.48781124,\n",
       "        0.45012176, 0.53875446, 0.4730146 , 0.48232323, 0.53434306,\n",
       "        0.4999946 , 0.5263528 , 0.44565967, 0.49695918, 0.5136265 ,\n",
       "        0.4490019 , 0.5110333 , 0.45743525, 0.49695644, 0.45861286,\n",
       "        0.51225096, 0.4296141 , 0.53185254, 0.5081323 , 0.5094138 ,\n",
       "        0.4370075 , 0.49297303, 0.49707013, 0.50956523, 0.48375458,\n",
       "        0.52983326, 0.55229145, 0.50025433, 0.49884754, 0.452917  ,\n",
       "        0.4737151 , 0.56213397, 0.46351922, 0.55122334, 0.50862545,\n",
       "        0.47744513, 0.48766863, 0.4674895 , 0.53170574, 0.45752496,\n",
       "        0.52822363, 0.50669134, 0.55885744, 0.47734872, 0.5118516 ,\n",
       "        0.53842664, 0.49182907, 0.4725413 , 0.48842317, 0.5078054 ,\n",
       "        0.47830045, 0.52628815, 0.48709005, 0.5036877 , 0.5449717 ,\n",
       "        0.53931713, 0.43166655, 0.46704447, 0.5636874 , 0.5429856 ,\n",
       "        0.508366  , 0.4841097 , 0.5035413 , 0.523419  , 0.4839923 ,\n",
       "        0.5470107 , 0.43661726, 0.4545568 , 0.55487925, 0.47026762,\n",
       "        0.5329814 , 0.5063718 , 0.47648206, 0.49423173, 0.5166365 ,\n",
       "        0.4945045 , 0.47874507, 0.51827425, 0.4851282 , 0.48209986,\n",
       "        0.5195926 , 0.5000423 , 0.48260584, 0.48899993, 0.47519392,\n",
       "        0.541059  , 0.53460747, 0.5380801 , 0.5480535 , 0.48171923,\n",
       "        0.5141082 , 0.41771924, 0.53268296, 0.5240035 , 0.50178194,\n",
       "        0.4985557 , 0.4930449 , 0.4872657 , 0.5076889 , 0.4975911 ,\n",
       "        0.49032795, 0.54449666, 0.43616238, 0.51671886, 0.4936039 ,\n",
       "        0.504638  , 0.48502076, 0.5285621 , 0.4695177 , 0.5162297 ,\n",
       "        0.46585828, 0.5054034 , 0.54144466, 0.50100595, 0.49872166,\n",
       "        0.43876287, 0.5127373 , 0.52913225, 0.4953182 , 0.48080117,\n",
       "        0.4806246 , 0.49935523, 0.55164313, 0.48805377, 0.5116615 ,\n",
       "        0.5304821 , 0.6140865 , 0.55764   , 0.4672488 , 0.48888195,\n",
       "        0.5100986 , 0.5345286 , 0.47981846, 0.5310734 , 0.47639248,\n",
       "        0.51427263, 0.4522069 , 0.53790635, 0.48126066, 0.4790522 ,\n",
       "        0.49526778]], dtype=float32)"
      ]
     },
     "execution_count": 13,
     "metadata": {},
     "output_type": "execute_result"
    }
   ],
   "source": [
    "im_tensor.detach().numpy()"
   ]
  },
  {
   "cell_type": "code",
   "execution_count": 14,
   "id": "accredited-fellow",
   "metadata": {},
   "outputs": [
    {
     "data": {
      "text/plain": [
       "array([[0.48396084, 0.50242853, 0.50757617, 0.4929314 , 0.5117811 ,\n",
       "        0.5017587 , 0.4754557 , 0.5197366 , 0.53126913, 0.5117519 ,\n",
       "        0.4899784 , 0.55238974, 0.44322702, 0.4769237 , 0.46068242,\n",
       "        0.46847698, 0.4042772 , 0.4905003 , 0.47416022, 0.54611826,\n",
       "        0.5726891 , 0.43630168, 0.47666442, 0.4839468 , 0.49061292,\n",
       "        0.53868544, 0.45191017, 0.5255328 , 0.50831515, 0.49537763,\n",
       "        0.52894074, 0.41478947, 0.4634701 , 0.4889504 , 0.46822247,\n",
       "        0.51879245, 0.54211485, 0.5007308 , 0.5282778 , 0.46580112,\n",
       "        0.49774894, 0.53363276, 0.49008328, 0.5217825 , 0.5263531 ,\n",
       "        0.43761384, 0.5242292 , 0.53213936, 0.45141175, 0.5137749 ,\n",
       "        0.47137958, 0.5223932 , 0.5452998 , 0.4778059 , 0.4652325 ,\n",
       "        0.49034524, 0.47146654, 0.4891581 , 0.5908044 , 0.53842264,\n",
       "        0.5031902 , 0.50798064, 0.46944162, 0.50740236, 0.4897881 ,\n",
       "        0.41672307, 0.49453205, 0.461012  , 0.47983873, 0.43160218,\n",
       "        0.45814124, 0.49911287, 0.49651286, 0.46729213, 0.5108345 ,\n",
       "        0.5223837 , 0.5675051 , 0.52731293, 0.514289  , 0.56841975,\n",
       "        0.5112894 , 0.55549145, 0.4384632 , 0.4856156 , 0.5707298 ,\n",
       "        0.4918651 , 0.56631047, 0.4429206 , 0.5192231 , 0.5064208 ,\n",
       "        0.5243851 , 0.50106025, 0.5153166 , 0.5211066 , 0.5387121 ,\n",
       "        0.4442665 , 0.54153484, 0.48895094, 0.5043947 , 0.534761  ,\n",
       "        0.5244728 , 0.54006195, 0.52986354, 0.4813545 , 0.53810614,\n",
       "        0.45139688, 0.4638342 , 0.50910926, 0.52879584, 0.4785054 ,\n",
       "        0.5121791 , 0.5006204 , 0.50769204, 0.52297986, 0.48781124,\n",
       "        0.45012176, 0.53875446, 0.4730146 , 0.48232323, 0.53434306,\n",
       "        0.4999946 , 0.5263528 , 0.44565967, 0.49695918, 0.5136265 ,\n",
       "        0.4490019 , 0.5110333 , 0.45743525, 0.49695644, 0.45861286,\n",
       "        0.51225096, 0.4296141 , 0.53185254, 0.5081323 , 0.5094138 ,\n",
       "        0.4370075 , 0.49297303, 0.49707013, 0.50956523, 0.48375458,\n",
       "        0.52983326, 0.55229145, 0.50025433, 0.49884754, 0.452917  ,\n",
       "        0.4737151 , 0.56213397, 0.46351922, 0.55122334, 0.50862545,\n",
       "        0.47744513, 0.48766863, 0.4674895 , 0.53170574, 0.45752496,\n",
       "        0.52822363, 0.50669134, 0.55885744, 0.47734872, 0.5118516 ,\n",
       "        0.53842664, 0.49182907, 0.4725413 , 0.48842317, 0.5078054 ,\n",
       "        0.47830045, 0.52628815, 0.48709005, 0.5036877 , 0.5449717 ,\n",
       "        0.53931713, 0.43166655, 0.46704447, 0.5636874 , 0.5429856 ,\n",
       "        0.508366  , 0.4841097 , 0.5035413 , 0.523419  , 0.4839923 ,\n",
       "        0.5470107 , 0.43661726, 0.4545568 , 0.55487925, 0.47026762,\n",
       "        0.5329814 , 0.5063718 , 0.47648206, 0.49423173, 0.5166365 ,\n",
       "        0.4945045 , 0.47874507, 0.51827425, 0.4851282 , 0.48209986,\n",
       "        0.5195926 , 0.5000423 , 0.48260584, 0.48899993, 0.47519392,\n",
       "        0.541059  , 0.53460747, 0.5380801 , 0.5480535 , 0.48171923,\n",
       "        0.5141082 , 0.41771924, 0.53268296, 0.5240035 , 0.50178194,\n",
       "        0.4985557 , 0.4930449 , 0.4872657 , 0.5076889 , 0.4975911 ,\n",
       "        0.49032795, 0.54449666, 0.43616238, 0.51671886, 0.4936039 ,\n",
       "        0.504638  , 0.48502076, 0.5285621 , 0.4695177 , 0.5162297 ,\n",
       "        0.46585828, 0.5054034 , 0.54144466, 0.50100595, 0.49872166,\n",
       "        0.43876287, 0.5127373 , 0.52913225, 0.4953182 , 0.48080117,\n",
       "        0.4806246 , 0.49935523, 0.55164313, 0.48805377, 0.5116615 ,\n",
       "        0.5304821 , 0.6140865 , 0.55764   , 0.4672488 , 0.48888195,\n",
       "        0.5100986 , 0.5345286 , 0.47981846, 0.5310734 , 0.47639248,\n",
       "        0.51427263, 0.4522069 , 0.53790635, 0.48126066, 0.4790522 ,\n",
       "        0.49526778]], dtype=float32)"
      ]
     },
     "execution_count": 14,
     "metadata": {},
     "output_type": "execute_result"
    }
   ],
   "source": [
    "new_im_np = im_tensor.detach().numpy()\n",
    "new_im_np"
   ]
  },
  {
   "cell_type": "code",
   "execution_count": 15,
   "id": "impossible-sport",
   "metadata": {},
   "outputs": [
    {
     "data": {
      "text/plain": [
       "array([[123, 128, 129, 125, 130, 127, 121, 132, 135, 130, 124, 140, 113,\n",
       "        121, 117, 119],\n",
       "       [103, 125, 120, 139, 146, 111, 121, 123, 125, 137, 115, 134, 129,\n",
       "        126, 134, 105],\n",
       "       [118, 124, 119, 132, 138, 127, 134, 118, 126, 136, 124, 133, 134,\n",
       "        111, 133, 135],\n",
       "       [115, 131, 120, 133, 139, 121, 118, 125, 120, 124, 150, 137, 128,\n",
       "        129, 119, 129],\n",
       "       [124, 106, 126, 117, 122, 110, 116, 127, 126, 119, 130, 133, 144,\n",
       "        134, 131, 144],\n",
       "       [130, 141, 111, 123, 145, 125, 144, 112, 132, 129, 133, 127, 131,\n",
       "        132, 137, 113],\n",
       "       [138, 124, 128, 136, 133, 137, 135, 122, 137, 115, 118, 129, 134,\n",
       "        122, 130, 127],\n",
       "       [129, 133, 124, 114, 137, 120, 122, 136, 127, 134, 113, 126, 130,\n",
       "        114, 130, 116],\n",
       "       [126, 116, 130, 109, 135, 129, 129, 111, 125, 126, 129, 123, 135,\n",
       "        140, 127, 127],\n",
       "       [115, 120, 143, 118, 140, 129, 121, 124, 119, 135, 116, 134, 129,\n",
       "        142, 121, 130],\n",
       "       [137, 125, 120, 124, 129, 121, 134, 124, 128, 138, 137, 110, 119,\n",
       "        143, 138, 129],\n",
       "       [123, 128, 133, 123, 139, 111, 115, 141, 119, 135, 129, 121, 126,\n",
       "        131, 126, 122],\n",
       "       [132, 123, 122, 132, 127, 123, 124, 121, 137, 136, 137, 139, 122,\n",
       "        131, 106, 135],\n",
       "       [133, 127, 127, 125, 124, 129, 126, 125, 138, 111, 131, 125, 128,\n",
       "        123, 134, 119],\n",
       "       [131, 118, 128, 138, 127, 127, 111, 130, 134, 126, 122, 122, 127,\n",
       "        140, 124, 130],\n",
       "       [135, 156, 142, 119, 124, 130, 136, 122, 135, 121, 131, 115, 137,\n",
       "        122, 122, 126]], dtype=uint8)"
      ]
     },
     "execution_count": 15,
     "metadata": {},
     "output_type": "execute_result"
    }
   ],
   "source": [
    "new_im_raw = (new_im_np * 255).clip(0, 255).astype(np.uint8).reshape((16, 16))\n",
    "new_im_raw"
   ]
  },
  {
   "cell_type": "code",
   "execution_count": 16,
   "id": "bright-papua",
   "metadata": {},
   "outputs": [
    {
     "data": {
      "image/png": "[encoded data removed]",
      "text/plain": [
       "<PIL.Image.Image image mode=L size=16x16 at 0x7FF23F797970>"
      ]
     },
     "metadata": {},
     "output_type": "display_data"
    }
   ],
   "source": [
    "new_im = Image.fromarray(new_im_raw)\n",
    "display(new_im)"
   ]
  },
  {
   "cell_type": "code",
   "execution_count": 17,
   "id": "greek-ecuador",
   "metadata": {},
   "outputs": [],
   "source": [
    "# cls_weights = torch.Tensor(np.asarray([0.01, 0.49, 0.01, 0.49, 0.01]))\n",
    "# cls_weights = torch.Tensor(np.asarray([0.001, 0.001, 0.001, 0.996, 0.001]))\n",
    "# cls_weights = torch.Tensor(np.asarray([1, 1, 1, 1, 1]))\n",
    "# loss = nn.CrossEntropyLoss(weight=cls_weights)"
   ]
  },
  {
   "cell_type": "code",
   "execution_count": 33,
   "id": "stupid-printer",
   "metadata": {},
   "outputs": [],
   "source": [
    "def step_image(im_np, label=0, lr=100, debug=True):\n",
    "    im_tensor = torch.Tensor(im_np)\n",
    "    im_tensor.requires_grad = True\n",
    "    im_tensor.grad = None\n",
    "    model.zero_grad()\n",
    "    preds = model(im_tensor)\n",
    "    if debug:\n",
    "        print(preds)\n",
    "    target = torch.empty([1], dtype=torch.long)\n",
    "    target[0] = label\n",
    "    loss = nn.CrossEntropyLoss()\n",
    "    output = loss(preds, target)\n",
    "    if debug:\n",
    "        print(output)\n",
    "    output.backward()\n",
    "    new_im_tensor = im_tensor - im_tensor.grad * lr\n",
    "    new_im_np = new_im_tensor.detach().numpy().clip(0, 1)\n",
    "    \n",
    "    if debug:\n",
    "        new_im_raw = (new_im_np * 255).astype(np.uint8).reshape((16, 16))\n",
    "        new_im = Image.fromarray(new_im_raw)\n",
    "        display(new_im)\n",
    "    return new_im_np"
   ]
  },
  {
   "cell_type": "code",
   "execution_count": 105,
   "id": "continental-tiffany",
   "metadata": {},
   "outputs": [],
   "source": [
    "def generate_adversarial(LABEL, prefix='', debug=True):\n",
    "    im_np = np.random.rand(1, 256)\n",
    "    for i in range(1001):\n",
    "        im_np = step_image(im_np, label=LABEL, lr=(i / 1000) ** 2 * 1000 + 1, debug=i % 100 == 0 and debug)\n",
    "        \n",
    "    new_im_raw = (im_np * 255).astype(np.uint8).reshape((16, 16))\n",
    "    new_im = Image.fromarray(new_im_raw)\n",
    "    \n",
    "    if debug:\n",
    "        print(np.asarray(new_im) / 255)\n",
    "    \n",
    "    if debug:\n",
    "        print(f'{LABEL}.png')\n",
    "    new_im.save(f'{prefix}{LABEL}.png')"
   ]
  },
  {
   "cell_type": "code",
   "execution_count": 62,
   "id": "framed-montgomery",
   "metadata": {
    "collapsed": true,
    "jupyter": {
     "outputs_hidden": true
    }
   },
   "outputs": [
    {
     "name": "stdout",
     "output_type": "stream",
     "text": [
      "tensor([[0.0497, 0.2014, 0.0635, 0.0497, 0.6358]], grad_fn=<SoftmaxBackward>)\n",
      "tensor(1.7875, grad_fn=<NllLossBackward>)\n"
     ]
    },
    {
     "data": {
      "image/png": "[encoded data removed]",
      "text/plain": [
       "<PIL.Image.Image image mode=L size=16x16 at 0x7FF23AA0B1F0>"
      ]
     },
     "metadata": {},
     "output_type": "display_data"
    },
    {
     "name": "stdout",
     "output_type": "stream",
     "text": [
      "tensor([[0.0543, 0.3608, 0.0543, 0.0543, 0.4764]], grad_fn=<SoftmaxBackward>)\n",
      "tensor(1.7722, grad_fn=<NllLossBackward>)\n"
     ]
    },
    {
     "data": {
      "image/png": "[encoded data removed]",
      "text/plain": [
       "<PIL.Image.Image image mode=L size=16x16 at 0x7FF23AA0B640>"
      ]
     },
     "metadata": {},
     "output_type": "display_data"
    },
    {
     "name": "stdout",
     "output_type": "stream",
     "text": [
      "tensor([[0.7528, 0.0618, 0.0618, 0.0618, 0.0618]], grad_fn=<SoftmaxBackward>)\n",
      "tensor(1.1000, grad_fn=<NllLossBackward>)\n"
     ]
    },
    {
     "data": {
      "image/png": "[encoded data removed]",
      "text/plain": [
       "<PIL.Image.Image image mode=L size=16x16 at 0x7FF23AA0B160>"
      ]
     },
     "metadata": {},
     "output_type": "display_data"
    },
    {
     "name": "stdout",
     "output_type": "stream",
     "text": [
      "tensor([[0.7528, 0.0618, 0.0618, 0.0618, 0.0618]], grad_fn=<SoftmaxBackward>)\n",
      "tensor(1.1000, grad_fn=<NllLossBackward>)\n"
     ]
    },
    {
     "data": {
      "image/png": "[encoded data removed]",
      "text/plain": [
       "<PIL.Image.Image image mode=L size=16x16 at 0x7FF23AA0B130>"
      ]
     },
     "metadata": {},
     "output_type": "display_data"
    },
    {
     "name": "stdout",
     "output_type": "stream",
     "text": [
      "tensor([[0.7528, 0.0618, 0.0618, 0.0618, 0.0618]], grad_fn=<SoftmaxBackward>)\n",
      "tensor(1.1000, grad_fn=<NllLossBackward>)\n"
     ]
    },
    {
     "data": {
      "image/png": "[encoded data removed]",
      "text/plain": [
       "<PIL.Image.Image image mode=L size=16x16 at 0x7FF23AA0B5E0>"
      ]
     },
     "metadata": {},
     "output_type": "display_data"
    },
    {
     "name": "stdout",
     "output_type": "stream",
     "text": [
      "0.png\n"
     ]
    }
   ],
   "source": [
    "generate_adversarial(0)"
   ]
  },
  {
   "cell_type": "code",
   "execution_count": 56,
   "id": "creative-medline",
   "metadata": {
    "collapsed": true,
    "jupyter": {
     "outputs_hidden": true
    }
   },
   "outputs": [
    {
     "name": "stdout",
     "output_type": "stream",
     "text": [
      "tensor([[0.0480, 0.2982, 0.0719, 0.0480, 0.5339]], grad_fn=<SoftmaxBackward>)\n",
      "tensor(1.5305, grad_fn=<NllLossBackward>)\n"
     ]
    },
    {
     "data": {
      "image/png": "[encoded data removed]",
      "text/plain": [
       "<PIL.Image.Image image mode=L size=16x16 at 0x7FF3043E2040>"
      ]
     },
     "metadata": {},
     "output_type": "display_data"
    },
    {
     "name": "stdout",
     "output_type": "stream",
     "text": [
      "tensor([[0.0618, 0.7528, 0.0618, 0.0618, 0.0618]], grad_fn=<SoftmaxBackward>)\n",
      "tensor(1.1000, grad_fn=<NllLossBackward>)\n"
     ]
    },
    {
     "data": {
      "image/png": "[encoded data removed]",
      "text/plain": [
       "<PIL.Image.Image image mode=L size=16x16 at 0x7FF3043DB820>"
      ]
     },
     "metadata": {},
     "output_type": "display_data"
    },
    {
     "name": "stdout",
     "output_type": "stream",
     "text": [
      "tensor([[0.0618, 0.7528, 0.0618, 0.0618, 0.0618]], grad_fn=<SoftmaxBackward>)\n",
      "tensor(1.1000, grad_fn=<NllLossBackward>)\n"
     ]
    },
    {
     "data": {
      "image/png": "[encoded data removed]",
      "text/plain": [
       "<PIL.Image.Image image mode=L size=16x16 at 0x7FF23F812B50>"
      ]
     },
     "metadata": {},
     "output_type": "display_data"
    },
    {
     "name": "stdout",
     "output_type": "stream",
     "text": [
      "tensor([[0.0618, 0.7528, 0.0618, 0.0618, 0.0618]], grad_fn=<SoftmaxBackward>)\n",
      "tensor(1.1000, grad_fn=<NllLossBackward>)\n"
     ]
    },
    {
     "data": {
      "image/png": "[encoded data removed]",
      "text/plain": [
       "<PIL.Image.Image image mode=L size=16x16 at 0x7FF3043E2040>"
      ]
     },
     "metadata": {},
     "output_type": "display_data"
    },
    {
     "name": "stdout",
     "output_type": "stream",
     "text": [
      "tensor([[0.0618, 0.7528, 0.0618, 0.0618, 0.0618]], grad_fn=<SoftmaxBackward>)\n",
      "tensor(1.1000, grad_fn=<NllLossBackward>)\n"
     ]
    },
    {
     "data": {
      "image/png": "[encoded data removed]",
      "text/plain": [
       "<PIL.Image.Image image mode=L size=16x16 at 0x7FF3043DB820>"
      ]
     },
     "metadata": {},
     "output_type": "display_data"
    },
    {
     "name": "stdout",
     "output_type": "stream",
     "text": [
      "1.png\n"
     ]
    }
   ],
   "source": [
    "generate_adversarial(1)"
   ]
  },
  {
   "cell_type": "code",
   "execution_count": 41,
   "id": "international-panic",
   "metadata": {
    "collapsed": true,
    "jupyter": {
     "outputs_hidden": true
    }
   },
   "outputs": [
    {
     "name": "stdout",
     "output_type": "stream",
     "text": [
      "tensor([[0.0536, 0.1602, 0.0536, 0.0536, 0.6789]], grad_fn=<SoftmaxBackward>)\n",
      "tensor(1.7886, grad_fn=<NllLossBackward>)\n"
     ]
    },
    {
     "data": {
      "image/png": "[encoded data removed]",
      "text/plain": [
       "<PIL.Image.Image image mode=L size=16x16 at 0x7FF23AA0BA30>"
      ]
     },
     "metadata": {},
     "output_type": "display_data"
    },
    {
     "name": "stdout",
     "output_type": "stream",
     "text": [
      "tensor([[0.0543, 0.4185, 0.0543, 0.0543, 0.4185]], grad_fn=<SoftmaxBackward>)\n",
      "tensor(1.7713, grad_fn=<NllLossBackward>)\n"
     ]
    },
    {
     "data": {
      "image/png": "[encoded data removed]",
      "text/plain": [
       "<PIL.Image.Image image mode=L size=16x16 at 0x7FF23AAD2A60>"
      ]
     },
     "metadata": {},
     "output_type": "display_data"
    },
    {
     "name": "stdout",
     "output_type": "stream",
     "text": [
      "tensor([[0.0543, 0.3717, 0.0543, 0.0543, 0.4654]], grad_fn=<SoftmaxBackward>)\n",
      "tensor(1.7719, grad_fn=<NllLossBackward>)\n"
     ]
    },
    {
     "data": {
      "image/png": "[encoded data removed]",
      "text/plain": [
       "<PIL.Image.Image image mode=L size=16x16 at 0x7FF23F7974C0>"
      ]
     },
     "metadata": {},
     "output_type": "display_data"
    },
    {
     "name": "stdout",
     "output_type": "stream",
     "text": [
      "tensor([[0.0542, 0.4965, 0.0542, 0.0542, 0.3409]], grad_fn=<SoftmaxBackward>)\n",
      "tensor(1.7730, grad_fn=<NllLossBackward>)\n"
     ]
    },
    {
     "data": {
      "image/png": "[encoded data removed]",
      "text/plain": [
       "<PIL.Image.Image image mode=L size=16x16 at 0x7FF23AAD2A60>"
      ]
     },
     "metadata": {},
     "output_type": "display_data"
    },
    {
     "name": "stdout",
     "output_type": "stream",
     "text": [
      "tensor([[0.0618, 0.0618, 0.7528, 0.0618, 0.0618]], grad_fn=<SoftmaxBackward>)\n",
      "tensor(1.1000, grad_fn=<NllLossBackward>)\n"
     ]
    },
    {
     "data": {
      "image/png": "[encoded data removed]",
      "text/plain": [
       "<PIL.Image.Image image mode=L size=16x16 at 0x7FF23F7974C0>"
      ]
     },
     "metadata": {},
     "output_type": "display_data"
    },
    {
     "name": "stdout",
     "output_type": "stream",
     "text": [
      "2.png\n"
     ]
    }
   ],
   "source": [
    "generate_adversarial(2)"
   ]
  },
  {
   "cell_type": "code",
   "execution_count": 55,
   "id": "viral-coating",
   "metadata": {
    "collapsed": true,
    "jupyter": {
     "outputs_hidden": true
    }
   },
   "outputs": [
    {
     "name": "stdout",
     "output_type": "stream",
     "text": [
      "tensor([[0.0481, 0.0695, 0.1656, 0.0481, 0.6687]], grad_fn=<SoftmaxBackward>)\n",
      "tensor(1.7928, grad_fn=<NllLossBackward>)\n"
     ]
    },
    {
     "data": {
      "image/png": "[encoded data removed]",
      "text/plain": [
       "<PIL.Image.Image image mode=L size=16x16 at 0x7FF23F812190>"
      ]
     },
     "metadata": {},
     "output_type": "display_data"
    },
    {
     "name": "stdout",
     "output_type": "stream",
     "text": [
      "tensor([[0.0496, 0.0649, 0.2669, 0.0496, 0.5690]], grad_fn=<SoftmaxBackward>)\n",
      "tensor(1.7816, grad_fn=<NllLossBackward>)\n"
     ]
    },
    {
     "data": {
      "image/png": "[encoded data removed]",
      "text/plain": [
       "<PIL.Image.Image image mode=L size=16x16 at 0x7FF23F7F59D0>"
      ]
     },
     "metadata": {},
     "output_type": "display_data"
    },
    {
     "name": "stdout",
     "output_type": "stream",
     "text": [
      "tensor([[0.0761, 0.0527, 0.0746, 0.7438, 0.0527]], grad_fn=<SoftmaxBackward>)\n",
      "tensor(1.1076, grad_fn=<NllLossBackward>)\n"
     ]
    },
    {
     "data": {
      "image/png": "[encoded data removed]",
      "text/plain": [
       "<PIL.Image.Image image mode=L size=16x16 at 0x7FF23F90C4C0>"
      ]
     },
     "metadata": {},
     "output_type": "display_data"
    },
    {
     "name": "stdout",
     "output_type": "stream",
     "text": [
      "tensor([[0.0618, 0.0618, 0.0618, 0.7528, 0.0618]], grad_fn=<SoftmaxBackward>)\n",
      "tensor(1.1000, grad_fn=<NllLossBackward>)\n"
     ]
    },
    {
     "data": {
      "image/png": "[encoded data removed]",
      "text/plain": [
       "<PIL.Image.Image image mode=L size=16x16 at 0x7FF23F90C4C0>"
      ]
     },
     "metadata": {},
     "output_type": "display_data"
    },
    {
     "name": "stdout",
     "output_type": "stream",
     "text": [
      "tensor([[0.0618, 0.0618, 0.0618, 0.7528, 0.0618]], grad_fn=<SoftmaxBackward>)\n",
      "tensor(1.1000, grad_fn=<NllLossBackward>)\n"
     ]
    },
    {
     "data": {
      "image/png": "[encoded data removed]",
      "text/plain": [
       "<PIL.Image.Image image mode=L size=16x16 at 0x7FF23F7F59D0>"
      ]
     },
     "metadata": {},
     "output_type": "display_data"
    },
    {
     "name": "stdout",
     "output_type": "stream",
     "text": [
      "3.png\n"
     ]
    }
   ],
   "source": [
    "generate_adversarial(3)"
   ]
  },
  {
   "cell_type": "code",
   "execution_count": 57,
   "id": "concerned-meeting",
   "metadata": {
    "collapsed": true,
    "jupyter": {
     "outputs_hidden": true
    }
   },
   "outputs": [
    {
     "name": "stdout",
     "output_type": "stream",
     "text": [
      "tensor([[0.0538, 0.1483, 0.0538, 0.0538, 0.6904]], grad_fn=<SoftmaxBackward>)\n",
      "tensor(1.1534, grad_fn=<NllLossBackward>)\n"
     ]
    },
    {
     "data": {
      "image/png": "[encoded data removed]",
      "text/plain": [
       "<PIL.Image.Image image mode=L size=16x16 at 0x7FF23F789F40>"
      ]
     },
     "metadata": {},
     "output_type": "display_data"
    },
    {
     "name": "stdout",
     "output_type": "stream",
     "text": [
      "tensor([[0.0618, 0.0618, 0.0618, 0.0618, 0.7528]], grad_fn=<SoftmaxBackward>)\n",
      "tensor(1.1000, grad_fn=<NllLossBackward>)\n"
     ]
    },
    {
     "data": {
      "image/png": "[encoded data removed]",
      "text/plain": [
       "<PIL.Image.Image image mode=L size=16x16 at 0x7FF23AA0B970>"
      ]
     },
     "metadata": {},
     "output_type": "display_data"
    },
    {
     "name": "stdout",
     "output_type": "stream",
     "text": [
      "tensor([[0.0618, 0.0618, 0.0618, 0.0618, 0.7528]], grad_fn=<SoftmaxBackward>)\n",
      "tensor(1.1000, grad_fn=<NllLossBackward>)\n"
     ]
    },
    {
     "data": {
      "image/png": "[encoded data removed]",
      "text/plain": [
       "<PIL.Image.Image image mode=L size=16x16 at 0x7FF23AA0BE50>"
      ]
     },
     "metadata": {},
     "output_type": "display_data"
    },
    {
     "name": "stdout",
     "output_type": "stream",
     "text": [
      "tensor([[0.0618, 0.0618, 0.0618, 0.0618, 0.7528]], grad_fn=<SoftmaxBackward>)\n",
      "tensor(1.1000, grad_fn=<NllLossBackward>)\n"
     ]
    },
    {
     "data": {
      "image/png": "[encoded data removed]",
      "text/plain": [
       "<PIL.Image.Image image mode=L size=16x16 at 0x7FF23AA0B970>"
      ]
     },
     "metadata": {},
     "output_type": "display_data"
    },
    {
     "name": "stdout",
     "output_type": "stream",
     "text": [
      "tensor([[0.0618, 0.0618, 0.0618, 0.0618, 0.7528]], grad_fn=<SoftmaxBackward>)\n",
      "tensor(1.1000, grad_fn=<NllLossBackward>)\n"
     ]
    },
    {
     "data": {
      "image/png": "[encoded data removed]",
      "text/plain": [
       "<PIL.Image.Image image mode=L size=16x16 at 0x7FF23AA0BE50>"
      ]
     },
     "metadata": {},
     "output_type": "display_data"
    },
    {
     "name": "stdout",
     "output_type": "stream",
     "text": [
      "4.png\n"
     ]
    }
   ],
   "source": [
    "generate_adversarial(4)"
   ]
  },
  {
   "cell_type": "code",
   "execution_count": 72,
   "id": "controversial-lighter",
   "metadata": {},
   "outputs": [],
   "source": [
    "!rm test/label0/*"
   ]
  },
  {
   "cell_type": "code",
   "execution_count": 108,
   "id": "adverse-paradise",
   "metadata": {
    "collapsed": true,
    "jupyter": {
     "outputs_hidden": true
    }
   },
   "outputs": [
    {
     "name": "stdout",
     "output_type": "stream",
     "text": [
      "tensor([[0.0513, 0.1509, 0.0593, 0.0513, 0.6871]], grad_fn=<SoftmaxBackward>)\n",
      "tensor(1.7919, grad_fn=<NllLossBackward>)\n"
     ]
    },
    {
     "data": {
      "image/png": "[encoded data removed]",
      "text/plain": [
       "<PIL.Image.Image image mode=L size=16x16 at 0x7FF23F89EFA0>"
      ]
     },
     "metadata": {},
     "output_type": "display_data"
    },
    {
     "name": "stdout",
     "output_type": "stream",
     "text": [
      "tensor([[0.0543, 0.4185, 0.0543, 0.0543, 0.4185]], grad_fn=<SoftmaxBackward>)\n",
      "tensor(1.7713, grad_fn=<NllLossBackward>)\n"
     ]
    },
    {
     "data": {
      "image/png": "[encoded data removed]",
      "text/plain": [
       "<PIL.Image.Image image mode=L size=16x16 at 0x7FF23F89EFA0>"
      ]
     },
     "metadata": {},
     "output_type": "display_data"
    },
    {
     "name": "stdout",
     "output_type": "stream",
     "text": [
      "tensor([[0.0543, 0.4185, 0.0543, 0.0543, 0.4185]], grad_fn=<SoftmaxBackward>)\n",
      "tensor(1.7713, grad_fn=<NllLossBackward>)\n"
     ]
    },
    {
     "data": {
      "image/png": "[encoded data removed]",
      "text/plain": [
       "<PIL.Image.Image image mode=L size=16x16 at 0x7FF23F89EFA0>"
      ]
     },
     "metadata": {},
     "output_type": "display_data"
    },
    {
     "name": "stdout",
     "output_type": "stream",
     "text": [
      "tensor([[0.0543, 0.4185, 0.0543, 0.0543, 0.4185]], grad_fn=<SoftmaxBackward>)\n",
      "tensor(1.7713, grad_fn=<NllLossBackward>)\n"
     ]
    },
    {
     "data": {
      "image/png": "[encoded data removed]",
      "text/plain": [
       "<PIL.Image.Image image mode=L size=16x16 at 0x7FF23F89EFA0>"
      ]
     },
     "metadata": {},
     "output_type": "display_data"
    },
    {
     "name": "stdout",
     "output_type": "stream",
     "text": [
      "tensor([[0.0543, 0.4185, 0.0543, 0.0543, 0.4185]], grad_fn=<SoftmaxBackward>)\n",
      "tensor(1.7713, grad_fn=<NllLossBackward>)\n"
     ]
    },
    {
     "data": {
      "image/png": "[encoded data removed]",
      "text/plain": [
       "<PIL.Image.Image image mode=L size=16x16 at 0x7FF23F89EFA0>"
      ]
     },
     "metadata": {},
     "output_type": "display_data"
    },
    {
     "name": "stdout",
     "output_type": "stream",
     "text": [
      "tensor([[0.0543, 0.4185, 0.0543, 0.0543, 0.4185]], grad_fn=<SoftmaxBackward>)\n",
      "tensor(1.7713, grad_fn=<NllLossBackward>)\n"
     ]
    },
    {
     "data": {
      "image/png": "[encoded data removed]",
      "text/plain": [
       "<PIL.Image.Image image mode=L size=16x16 at 0x7FF23F89EFA0>"
      ]
     },
     "metadata": {},
     "output_type": "display_data"
    },
    {
     "name": "stdout",
     "output_type": "stream",
     "text": [
      "tensor([[0.0543, 0.4185, 0.0543, 0.0543, 0.4185]], grad_fn=<SoftmaxBackward>)\n",
      "tensor(1.7713, grad_fn=<NllLossBackward>)\n"
     ]
    },
    {
     "data": {
      "image/png": "[encoded data removed]",
      "text/plain": [
       "<PIL.Image.Image image mode=L size=16x16 at 0x7FF23F89EFA0>"
      ]
     },
     "metadata": {},
     "output_type": "display_data"
    },
    {
     "name": "stdout",
     "output_type": "stream",
     "text": [
      "tensor([[0.0543, 0.4185, 0.0543, 0.0543, 0.4185]], grad_fn=<SoftmaxBackward>)\n",
      "tensor(1.7713, grad_fn=<NllLossBackward>)\n"
     ]
    },
    {
     "data": {
      "image/png": "[encoded data removed]",
      "text/plain": [
       "<PIL.Image.Image image mode=L size=16x16 at 0x7FF23F89EFA0>"
      ]
     },
     "metadata": {},
     "output_type": "display_data"
    },
    {
     "name": "stdout",
     "output_type": "stream",
     "text": [
      "tensor([[0.0543, 0.4185, 0.0543, 0.0543, 0.4185]], grad_fn=<SoftmaxBackward>)\n",
      "tensor(1.7713, grad_fn=<NllLossBackward>)\n"
     ]
    },
    {
     "data": {
      "image/png": "[encoded data removed]",
      "text/plain": [
       "<PIL.Image.Image image mode=L size=16x16 at 0x7FF23F89EFA0>"
      ]
     },
     "metadata": {},
     "output_type": "display_data"
    },
    {
     "name": "stdout",
     "output_type": "stream",
     "text": [
      "tensor([[0.0543, 0.4185, 0.0543, 0.0543, 0.4185]], grad_fn=<SoftmaxBackward>)\n",
      "tensor(1.7713, grad_fn=<NllLossBackward>)\n"
     ]
    },
    {
     "data": {
      "image/png": "[encoded data removed]",
      "text/plain": [
       "<PIL.Image.Image image mode=L size=16x16 at 0x7FF23F89EFA0>"
      ]
     },
     "metadata": {},
     "output_type": "display_data"
    },
    {
     "name": "stdout",
     "output_type": "stream",
     "text": [
      "tensor([[0.0543, 0.4185, 0.0543, 0.0543, 0.4185]], grad_fn=<SoftmaxBackward>)\n",
      "tensor(1.7713, grad_fn=<NllLossBackward>)\n"
     ]
    },
    {
     "data": {
      "image/png": "[encoded data removed]",
      "text/plain": [
       "<PIL.Image.Image image mode=L size=16x16 at 0x7FF23F89EFA0>"
      ]
     },
     "metadata": {},
     "output_type": "display_data"
    },
    {
     "name": "stdout",
     "output_type": "stream",
     "text": [
      "[[0.91372549 0.70980392 0.09019608 0.03921569 0.18823529 0.69019608\n",
      "  0.19607843 0.74509804 0.99607843 0.94117647 0.71372549 0.59215686\n",
      "  0.25882353 0.68235294 0.38039216 0.78823529]\n",
      " [0.64313725 0.56078431 0.32941176 0.98823529 0.67058824 0.\n",
      "  0.61568627 0.16862745 0.4745098  0.59215686 0.8745098  0.38823529\n",
      "  0.22352941 0.4627451  0.57254902 0.09411765]\n",
      " [0.11764706 1.         0.31764706 0.57254902 0.02745098 0.57254902\n",
      "  0.18039216 0.39607843 0.39607843 0.91372549 1.         0.64313725\n",
      "  0.41960784 0.22745098 0.43137255 0.69019608]\n",
      " [0.50980392 0.70980392 0.16862745 0.79215686 0.73333333 0.17647059\n",
      "  0.         0.57254902 0.11764706 0.99607843 0.44705882 0.16078431\n",
      "  0.00392157 0.25882353 0.75686275 0.5254902 ]\n",
      " [0.76862745 0.64313725 0.12156863 0.87058824 0.43921569 0.83529412\n",
      "  0.         0.1254902  0.14901961 0.65098039 0.99215686 0.38039216\n",
      "  0.53333333 0.94509804 0.29019608 0.93333333]\n",
      " [0.6        0.87843137 0.         0.12156863 0.62352941 0.96078431\n",
      "  0.4745098  0.         0.98039216 0.2745098  0.68627451 0.22352941\n",
      "  0.36862745 0.52156863 0.32941176 0.64705882]\n",
      " [0.51764706 0.65490196 0.3372549  0.79607843 0.04705882 0.30588235\n",
      "  0.49411765 0.61176471 0.57254902 0.83137255 0.6        0.56862745\n",
      "  0.50588235 0.47058824 0.50588235 0.57647059]\n",
      " [0.76470588 0.75294118 0.78039216 0.8        0.71372549 0.39607843\n",
      "  0.36862745 0.19607843 0.16078431 0.69019608 0.         0.09411765\n",
      "  0.62745098 0.71372549 0.24705882 0.82352941]\n",
      " [0.19607843 0.12941176 0.05098039 0.18039216 0.37254902 0.99607843\n",
      "  0.3254902  0.05490196 0.63529412 0.         0.46666667 0.45098039\n",
      "  0.44313725 0.12156863 0.40784314 0.79607843]\n",
      " [0.94117647 0.25490196 0.71372549 0.47843137 0.35686275 0.65490196\n",
      "  0.19607843 0.60784314 0.88627451 0.45882353 0.48627451 0.0627451\n",
      "  0.64705882 0.64313725 0.45098039 0.80784314]\n",
      " [0.14509804 0.20392157 0.73333333 0.35686275 0.16078431 0.00392157\n",
      "  0.09411765 0.24705882 0.38431373 0.9372549  0.25882353 0.36078431\n",
      "  0.24313725 0.70980392 0.3254902  0.10196078]\n",
      " [0.50980392 0.1254902  0.36862745 0.60392157 0.14117647 0.83529412\n",
      "  0.57647059 0.58823529 0.81176471 0.94509804 0.79215686 0.94117647\n",
      "  0.29411765 0.10588235 0.38039216 0.30588235]\n",
      " [0.14901961 0.52156863 0.77254902 0.29411765 0.94901961 0.51372549\n",
      "  0.36078431 0.         0.30980392 0.5372549  0.93333333 0.12156863\n",
      "  0.80392157 0.5372549  0.67843137 0.54117647]\n",
      " [0.0627451  0.2745098  0.55686275 0.92941176 0.40784314 0.63137255\n",
      "  0.32941176 0.29803922 0.09019608 0.49803922 0.84705882 0.83137255\n",
      "  0.19215686 0.33333333 0.24313725 0.        ]\n",
      " [0.12941176 0.2745098  0.35686275 0.8745098  0.39607843 0.39215686\n",
      "  0.65098039 0.89019608 0.14117647 0.21960784 0.03529412 0.35294118\n",
      "  0.14117647 0.15294118 0.04313725 0.27843137]\n",
      " [0.62352941 0.31764706 0.56078431 0.03137255 0.41568627 0.21960784\n",
      "  0.16470588 0.78431373 0.38823529 0.17254902 0.54509804 0.56078431\n",
      "  0.54117647 0.09803922 0.60784314 0.49803922]]\n",
      "0.png\n"
     ]
    }
   ],
   "source": [
    "generate_adversarial(0, prefix=f'test/label0/', debug=True)"
   ]
  },
  {
   "cell_type": "code",
   "execution_count": 109,
   "id": "amended-programmer",
   "metadata": {},
   "outputs": [],
   "source": [
    "import subprocess"
   ]
  },
  {
   "cell_type": "code",
   "execution_count": 116,
   "id": "rapid-assignment",
   "metadata": {},
   "outputs": [
    {
     "name": "stdout",
     "output_type": "stream",
     "text": [
      "1\n",
      "1\n",
      "1\n",
      "1\n",
      "1\n",
      "4\n",
      "1\n",
      "1\n",
      "3\n",
      "1\n",
      "4\n",
      "1\n",
      "1\n",
      "4\n",
      "1\n",
      "4\n",
      "1\n",
      "2\n",
      "1\n",
      "1\n",
      "1\n",
      "4\n",
      "1\n",
      "1\n",
      "1\n",
      "1\n",
      "1\n",
      "1\n",
      "1\n",
      "4\n",
      "1\n",
      "1\n",
      "4\n",
      "2\n",
      "1\n",
      "1\n",
      "1\n",
      "1\n",
      "1\n",
      "4\n",
      "1\n",
      "1\n",
      "1\n",
      "1\n",
      "1\n",
      "4\n",
      "1\n",
      "1\n",
      "1\n",
      "1\n",
      "1\n",
      "1\n",
      "1\n",
      "1\n",
      "1\n",
      "1\n",
      "1\n",
      "4\n",
      "1\n",
      "1\n",
      "1\n",
      "1\n",
      "1\n",
      "4\n",
      "1\n",
      "2\n",
      "1\n",
      "1\n",
      "1\n",
      "1\n",
      "1\n",
      "1\n",
      "4\n",
      "1\n",
      "4\n",
      "1\n",
      "1\n",
      "1\n",
      "1\n",
      "1\n",
      "1\n",
      "4\n",
      "1\n",
      "4\n",
      "1\n",
      "1\n",
      "1\n",
      "1\n",
      "1\n",
      "1\n",
      "1\n",
      "1\n",
      "4\n",
      "1\n",
      "1\n",
      "1\n",
      "1\n",
      "4\n",
      "1\n",
      "4\n",
      "1\n",
      "1\n",
      "1\n",
      "4\n",
      "4\n",
      "1\n",
      "1\n",
      "1\n",
      "4\n",
      "1\n",
      "1\n",
      "1\n",
      "1\n",
      "1\n",
      "4\n",
      "1\n",
      "1\n",
      "1\n",
      "1\n",
      "1\n",
      "1\n",
      "1\n",
      "1\n",
      "1\n",
      "4\n",
      "1\n",
      "1\n",
      "1\n",
      "1\n",
      "1\n",
      "4\n",
      "1\n",
      "1\n",
      "1\n",
      "1\n",
      "4\n",
      "4\n",
      "4\n",
      "1\n",
      "1\n",
      "1\n",
      "2\n",
      "1\n",
      "1\n",
      "1\n",
      "1\n",
      "4\n",
      "1\n",
      "1\n",
      "1\n",
      "1\n",
      "1\n",
      "4\n",
      "4\n",
      "1\n",
      "2\n",
      "4\n",
      "1\n",
      "1\n",
      "1\n",
      "1\n",
      "4\n",
      "1\n",
      "1\n",
      "1\n",
      "1\n",
      "1\n",
      "1\n",
      "1\n",
      "1\n",
      "1\n",
      "1\n",
      "1\n",
      "1\n",
      "1\n",
      "1\n",
      "1\n",
      "1\n",
      "1\n",
      "1\n",
      "1\n",
      "1\n",
      "4\n",
      "1\n",
      "1\n",
      "1\n",
      "1\n",
      "2\n",
      "1\n",
      "4\n",
      "1\n",
      "1\n",
      "1\n",
      "1\n",
      "1\n",
      "4\n",
      "1\n",
      "1\n",
      "1\n",
      "1\n",
      "1\n",
      "4\n",
      "1\n",
      "1\n",
      "1\n",
      "1\n",
      "1\n",
      "1\n",
      "4\n",
      "4\n",
      "1\n",
      "4\n",
      "1\n",
      "1\n",
      "1\n",
      "1\n",
      "1\n",
      "1\n",
      "1\n",
      "1\n",
      "1\n",
      "1\n",
      "4\n",
      "1\n",
      "1\n",
      "1\n",
      "1\n",
      "1\n",
      "1\n",
      "1\n",
      "1\n",
      "1\n",
      "1\n",
      "1\n",
      "1\n",
      "1\n",
      "1\n",
      "1\n",
      "3\n",
      "4\n",
      "1\n",
      "4\n",
      "4\n",
      "1\n",
      "1\n",
      "1\n",
      "4\n",
      "4\n",
      "4\n",
      "4\n",
      "1\n",
      "1\n",
      "1\n",
      "1\n",
      "4\n",
      "1\n",
      "1\n",
      "1\n",
      "4\n",
      "1\n",
      "1\n",
      "1\n",
      "4\n",
      "1\n",
      "1\n",
      "1\n",
      "1\n",
      "2\n",
      "4\n",
      "4\n",
      "1\n",
      "1\n",
      "1\n",
      "1\n",
      "1\n",
      "1\n",
      "1\n",
      "1\n",
      "1\n",
      "1\n",
      "4\n",
      "1\n",
      "2\n",
      "1\n",
      "1\n",
      "1\n",
      "4\n",
      "1\n",
      "1\n",
      "1\n",
      "1\n",
      "4\n",
      "1\n",
      "1\n",
      "1\n",
      "1\n",
      "4\n",
      "4\n",
      "1\n",
      "1\n",
      "2\n",
      "2\n",
      "1\n",
      "1\n",
      "1\n",
      "1\n",
      "1\n",
      "1\n",
      "1\n",
      "1\n",
      "4\n",
      "1\n",
      "4\n",
      "1\n",
      "4\n",
      "1\n",
      "1\n",
      "1\n",
      "1\n",
      "1\n",
      "1\n",
      "4\n",
      "4\n",
      "1\n",
      "1\n",
      "1\n",
      "1\n",
      "1\n",
      "1\n",
      "1\n",
      "1\n",
      "1\n",
      "1\n",
      "1\n",
      "4\n",
      "1\n",
      "0\n"
     ]
    }
   ],
   "source": [
    "while True:\n",
    "    generate_adversarial(0, prefix=f'test/label0/', debug=False)\n",
    "    output = subprocess.check_output([\"python3\", \"eval.py\", \"./test/\"]).decode().split('\\n')[2].strip()\n",
    "    print(output)\n",
    "    if output == '0':\n",
    "        break"
   ]
  },
  {
   "cell_type": "code",
   "execution_count": 89,
   "id": "confidential-titanium",
   "metadata": {},
   "outputs": [],
   "source": [
    "def step_even_image(im_np, lr=100, debug=True):\n",
    "    im_tensor = torch.Tensor(im_np)\n",
    "    im_tensor.requires_grad = True\n",
    "    im_tensor.grad = None\n",
    "    model.zero_grad()\n",
    "    preds = model(im_tensor)\n",
    "    if debug:\n",
    "        print(preds)\n",
    "        \n",
    "    for label in range(5):\n",
    "        target = torch.empty([1], dtype=torch.long)\n",
    "        target[0] = label\n",
    "        loss = nn.CrossEntropyLoss()\n",
    "        output = loss(preds, target)\n",
    "#         if debug:\n",
    "#             print(output)\n",
    "    output.backward()\n",
    "    new_im_tensor = im_tensor - im_tensor.grad * 0.2 * lr \n",
    "    new_im_np = new_im_tensor.detach().numpy().clip(0, 1)\n",
    "    \n",
    "    if debug:\n",
    "        new_im_raw = (new_im_np * 255).astype(np.uint8).reshape((16, 16))\n",
    "        new_im = Image.fromarray(new_im_raw)\n",
    "        display(new_im)\n",
    "    return new_im_np"
   ]
  },
  {
   "cell_type": "code",
   "execution_count": 94,
   "id": "entire-planning",
   "metadata": {},
   "outputs": [],
   "source": [
    "def generate_even_adversarial(prefix=''):\n",
    "    im_np = np.random.rand(1, 256)\n",
    "    for i in range(101):\n",
    "        im_np = step_even_image(im_np, lr=(i / 100) ** 2 * 1000 + 1, debug=i % 25 == 0)\n",
    "        \n",
    "    new_im_raw = (im_np * 255).astype(np.uint8).reshape((16, 16))\n",
    "    new_im = Image.fromarray(new_im_raw)\n",
    "    \n",
    "#     print(np.asarray(new_im) / 255)\n",
    "    new_im.save(f'{prefix}hoboy.png')"
   ]
  },
  {
   "cell_type": "code",
   "execution_count": 95,
   "id": "usual-employer",
   "metadata": {
    "collapsed": true,
    "jupyter": {
     "outputs_hidden": true
    }
   },
   "outputs": [
    {
     "name": "stdout",
     "output_type": "stream",
     "text": [
      "tensor([[0.0430, 0.1241, 0.6583, 0.0430, 0.1316]], grad_fn=<SoftmaxBackward>)\n"
     ]
    },
    {
     "data": {
      "image/png": "[encoded data removed]",
      "text/plain": [
       "<PIL.Image.Image image mode=L size=16x16 at 0x7FF23AA0BB80>"
      ]
     },
     "metadata": {},
     "output_type": "display_data"
    },
    {
     "name": "stdout",
     "output_type": "stream",
     "text": [
      "tensor([[0.0618, 0.0618, 0.0618, 0.0618, 0.7528]], grad_fn=<SoftmaxBackward>)\n"
     ]
    },
    {
     "data": {
      "image/png": "[encoded data removed]",
      "text/plain": [
       "<PIL.Image.Image image mode=L size=16x16 at 0x7FF23AA0BB80>"
      ]
     },
     "metadata": {},
     "output_type": "display_data"
    },
    {
     "name": "stdout",
     "output_type": "stream",
     "text": [
      "tensor([[0.0618, 0.0618, 0.0618, 0.0618, 0.7528]], grad_fn=<SoftmaxBackward>)\n"
     ]
    },
    {
     "data": {
      "image/png": "[encoded data removed]",
      "text/plain": [
       "<PIL.Image.Image image mode=L size=16x16 at 0x7FF23AA0BB80>"
      ]
     },
     "metadata": {},
     "output_type": "display_data"
    },
    {
     "name": "stdout",
     "output_type": "stream",
     "text": [
      "tensor([[0.0618, 0.0618, 0.0618, 0.0618, 0.7528]], grad_fn=<SoftmaxBackward>)\n"
     ]
    },
    {
     "data": {
      "image/png": "[encoded data removed]",
      "text/plain": [
       "<PIL.Image.Image image mode=L size=16x16 at 0x7FF23AA0BB80>"
      ]
     },
     "metadata": {},
     "output_type": "display_data"
    },
    {
     "name": "stdout",
     "output_type": "stream",
     "text": [
      "tensor([[0.0618, 0.0618, 0.0618, 0.0618, 0.7528]], grad_fn=<SoftmaxBackward>)\n"
     ]
    },
    {
     "data": {
      "image/png": "[encoded data removed]",
      "text/plain": [
       "<PIL.Image.Image image mode=L size=16x16 at 0x7FF23AA0BEE0>"
      ]
     },
     "metadata": {},
     "output_type": "display_data"
    }
   ],
   "source": [
    "generate_even_adversarial(prefix=f'even/label0/')"
   ]
  },
  {
   "cell_type": "code",
   "execution_count": null,
   "id": "proper-dividend",
   "metadata": {},
   "outputs": [],
   "source": []
  }
 ],
 "metadata": {
  "kernelspec": {
   "display_name": "Python 3",
   "language": "python",
   "name": "python3"
  },
  "language_info": {
   "codemirror_mode": {
    "name": "ipython",
    "version": 3
   },
   "file_extension": ".py",
   "mimetype": "text/x-python",
   "name": "python",
   "nbconvert_exporter": "python",
   "pygments_lexer": "ipython3",
   "version": "3.8.5"
  }
 },
 "nbformat": 4,
 "nbformat_minor": 5
}
