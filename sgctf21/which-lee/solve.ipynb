{
 "cells": [
  {
   "cell_type": "code",
   "execution_count": 1,
   "id": "monetary-engine",
   "metadata": {},
   "outputs": [
    {
     "name": "stdout",
     "output_type": "stream",
     "text": [
      "--2021-03-14 08:04:19--  https://api.ctf.sg/file?id=ckm71i64d18oz0856ldrj424b&name=distrib.zip\n",
      "Resolving api.ctf.sg (api.ctf.sg)... 172.67.194.92, 104.21.36.126, 2606:4700:3037::6815:247e, ...\n",
      "Connecting to api.ctf.sg (api.ctf.sg)|172.67.194.92|:443... connected.\n",
      "HTTP request sent, awaiting response... 200 OK\n",
      "Length: 63757 (62K) [application/zip]\n",
      "Saving to: ‘challenge/distrib.zip’\n",
      "\n",
      "challenge/distrib.z 100%[===================>]  62.26K  --.-KB/s    in 0.1s    \n",
      "\n",
      "2021-03-14 08:04:20 (515 KB/s) - ‘challenge/distrib.zip’ saved [63757/63757]\n",
      "\n"
     ]
    }
   ],
   "source": [
    "# !mkdir -p challenge/ \n",
    "# !wget -O challenge/distrib.zip \"https://api.ctf.sg/file?id=ckm71i64d18oz0856ldrj424b&name=distrib.zip\""
   ]
  },
  {
   "cell_type": "code",
   "execution_count": 2,
   "id": "tutorial-somerset",
   "metadata": {},
   "outputs": [
    {
     "name": "stdout",
     "output_type": "stream",
     "text": [
      "Archive:  challenge/distrib.zip\n",
      "  inflating: distrib/eval.py         \n",
      "  inflating: distrib/leenet.ph       \n"
     ]
    }
   ],
   "source": [
    "!unzip -o challenge/distrib.zip"
   ]
  },
  {
   "cell_type": "code",
   "execution_count": 3,
   "id": "overall-forge",
   "metadata": {},
   "outputs": [],
   "source": [
    "!mv distrib/* .\n",
    "!rmdir distrib"
   ]
  },
  {
   "cell_type": "code",
   "execution_count": 4,
   "id": "cosmetic-pocket",
   "metadata": {},
   "outputs": [],
   "source": [
    "from PIL import Image\n",
    "from IPython.display import display\n",
    "import numpy as np\n",
    "import subprocess\n",
    "import requests\n",
    "\n",
    "import torch\n",
    "import torch.nn as nn\n",
    "from torch.autograd import Function, Variable\n",
    "from torch.nn.parameter import Parameter\n",
    "from torchvision import datasets, transforms\n",
    "import torch.nn.functional as F"
   ]
  },
  {
   "cell_type": "code",
   "execution_count": 5,
   "id": "welcome-producer",
   "metadata": {},
   "outputs": [],
   "source": [
    "NFEATURES=16*16\n",
    "NHIDDEN=8*8\n",
    "NCL=5\n",
    "EPS = 0.00001\n",
    "\n",
    "# not LeNet\n",
    "class LeeNet(nn.Module):\n",
    "    def __init__(self, nFeatures=NFEATURES, nHidden=NHIDDEN, nCl=NCL):\n",
    "        super().__init__()\n",
    "        self.fc1 = nn.Linear(nFeatures, nHidden)\n",
    "        self.fc2 = nn.Linear(nHidden, nCl)\n",
    "        \n",
    "    def forward(self, x):\n",
    "        nBatch = x.size(0)\n",
    "\n",
    "        # Normal FC network.\n",
    "        x = x.view(nBatch, -1)\n",
    "        x = F.relu(self.fc1(x))\n",
    "        x = F.relu(self.fc2(x))\n",
    "        \n",
    "        # Remove layer norm\n",
    "        # We want x to be all 0 or negative\n",
    "        # x = F.layer_norm(x, x.size()[1:], eps=1e-50)\n",
    "        # probs = F.softmax(x, dim=1) \n",
    "        \n",
    "        return x"
   ]
  },
  {
   "cell_type": "code",
   "execution_count": 6,
   "id": "adjustable-emergency",
   "metadata": {},
   "outputs": [
    {
     "data": {
      "text/plain": [
       "<All keys matched successfully>"
      ]
     },
     "execution_count": 6,
     "metadata": {},
     "output_type": "execute_result"
    }
   ],
   "source": [
    "model = LeeNet()\n",
    "model.load_state_dict(torch.load(\"./leenet.ph\"))"
   ]
  },
  {
   "cell_type": "code",
   "execution_count": 7,
   "id": "fifty-brush",
   "metadata": {},
   "outputs": [],
   "source": [
    "for param in model.parameters():\n",
    "    param.requires_grad = True"
   ]
  },
  {
   "cell_type": "code",
   "execution_count": 8,
   "id": "stunning-multiple",
   "metadata": {},
   "outputs": [],
   "source": [
    "def step_adversarial(im_np, lr=100):\n",
    "    im_tensor = torch.Tensor(im_np)\n",
    "    im_tensor.requires_grad = True\n",
    "    im_tensor.grad = None\n",
    "    preds = model(im_tensor)\n",
    "    print(preds)\n",
    "    # Propagate loss on any labels that are still positive\n",
    "    target = torch.empty([1, 5]).fill_(0)\n",
    "    loss = nn.L1Loss()\n",
    "    output = loss(preds, target)\n",
    "    output.backward()\n",
    "    new_im_np = (im_np - im_tensor.grad.clone().detach().numpy() * 100).clip(0, 1)\n",
    "    return new_im_np"
   ]
  },
  {
   "cell_type": "code",
   "execution_count": 9,
   "id": "surprising-graduate",
   "metadata": {},
   "outputs": [
    {
     "name": "stdout",
     "output_type": "stream",
     "text": [
      "tensor([[0.0000, 0.1602, 0.0770, 0.0000, 0.1955]], grad_fn=<ReluBackward0>)\n",
      "tensor([[0., 0., 0., 0., 0.]], grad_fn=<ReluBackward0>)\n",
      "tensor([[0., 0., 0., 0., 0.]], grad_fn=<ReluBackward0>)\n",
      "tensor([[0., 0., 0., 0., 0.]], grad_fn=<ReluBackward0>)\n",
      "tensor([[0., 0., 0., 0., 0.]], grad_fn=<ReluBackward0>)\n",
      "tensor([[0., 0., 0., 0., 0.]], grad_fn=<ReluBackward0>)\n",
      "tensor([[0., 0., 0., 0., 0.]], grad_fn=<ReluBackward0>)\n",
      "tensor([[0., 0., 0., 0., 0.]], grad_fn=<ReluBackward0>)\n",
      "tensor([[0., 0., 0., 0., 0.]], grad_fn=<ReluBackward0>)\n",
      "tensor([[0., 0., 0., 0., 0.]], grad_fn=<ReluBackward0>)\n"
     ]
    },
    {
     "name": "stderr",
     "output_type": "stream",
     "text": [
      "/opt/conda/lib/python3.8/site-packages/torch/autograd/__init__.py:145: UserWarning: CUDA initialization: Found no NVIDIA driver on your system. Please check that you have an NVIDIA GPU and installed a driver from http://www.nvidia.com/Download/index.aspx (Triggered internally at  ../c10/cuda/CUDAFunctions.cpp:104.)\n",
      "  Variable._execution_engine.run_backward(\n"
     ]
    }
   ],
   "source": [
    "# Generate image!\n",
    "im_np = np.random.rand(1, 256)\n",
    "for i in range(10):\n",
    "    im_np = step_adversarial(im_np)"
   ]
  },
  {
   "cell_type": "code",
   "execution_count": 10,
   "id": "detected-sender",
   "metadata": {},
   "outputs": [
    {
     "data": {
      "image/png": "[encoded data removed]",
      "text/plain": [
       "<PIL.Image.Image image mode=L size=16x16 at 0x7F4D5F75EC10>"
      ]
     },
     "metadata": {},
     "output_type": "display_data"
    }
   ],
   "source": [
    "im_np = (im_np * 255).clip(0, 255).astype(np.uint8).reshape((16, 16))\n",
    "im = Image.fromarray(im_np)\n",
    "display(im)\n",
    "!mkdir -p test/test\n",
    "im.save('test/test/win.png')"
   ]
  },
  {
   "cell_type": "code",
   "execution_count": 11,
   "id": "rubber-bailey",
   "metadata": {},
   "outputs": [
    {
     "name": "stdout",
     "output_type": "stream",
     "text": [
      "0\n",
      "\n"
     ]
    }
   ],
   "source": [
    "print(subprocess.check_output([\"python3\", \"eval.py\", \"./test/\"]).decode())"
   ]
  },
  {
   "cell_type": "code",
   "execution_count": 12,
   "id": "special-disability",
   "metadata": {},
   "outputs": [],
   "source": [
    "res = requests.post(\n",
    "    'http://which-lee.chals.ctf.sg:13337/check_lee',\n",
    "    data=open('test/test/win.png', 'rb'),\n",
    "    headers={'Content-Type': 'application/x-www-form-urlencoded'}\n",
    ")"
   ]
  },
  {
   "cell_type": "code",
   "execution_count": 13,
   "id": "adverse-baseline",
   "metadata": {},
   "outputs": [
    {
     "data": {
      "text/plain": [
       "'{\"class\":0,\"flag\":\"CTFSG{holee_shit_how_did_you_get_this}\"}'"
      ]
     },
     "execution_count": 13,
     "metadata": {},
     "output_type": "execute_result"
    }
   ],
   "source": [
    "res.text"
   ]
  }
 ],
 "metadata": {
  "kernelspec": {
   "display_name": "Python 3",
   "language": "python",
   "name": "python3"
  },
  "language_info": {
   "codemirror_mode": {
    "name": "ipython",
    "version": 3
   },
   "file_extension": ".py",
   "mimetype": "text/x-python",
   "name": "python",
   "nbconvert_exporter": "python",
   "pygments_lexer": "ipython3",
   "version": "3.8.5"
  }
 },
 "nbformat": 4,
 "nbformat_minor": 5
}
