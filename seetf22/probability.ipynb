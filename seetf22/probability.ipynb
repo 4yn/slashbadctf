{
 "cells": [
  {
   "cell_type": "markdown",
   "id": "9e96e75a",
   "metadata": {},
   "source": [
    "# Probability\n",
    "\n",
    "> Crypto | 988 | 7 Solves\n",
    "> \n",
    "> Author: Neobeo\n",
    "> \n",
    "> I've been learning about probability distributions, but it's all very confusing so I'm just going to assume that my variant of blackjack gives an advantage to the house. I'll even bet a flag on it.\n",
    "> \n",
    "> nc fun.chall.seetf.sg 30001\n",
    "> \n",
    "> Attachment: [crypto_probability.zip](attachments/crypto_probability.zip)  \n",
    "> MD5: dd434228be35b701d160121a6504af69\n",
    "\n",
    "First blooded a bit more than 2 hours into the contest.\n",
    "\n",
    "Play floating point blackjack against the house using python `random.random()`. Though the game uses floating point numbers which discard some bits of random state each iteration, [it is still possible to obtain the mersenne twister state using this floating point data](https://github.com/qxxxb/ctf/tree/master/2021/zh3r0_ctf/real_mersenne). Start with a decent \"stand after ~0.5-0.6 score\" strategy to prolong rounds early in the game, then afterwards recover the random state and play optimally by picking moves using dynamic programming.\n",
    "\n",
    "The text UI of this challenge is not very kind, so some smart usage of `r.recvuntil()` and regex helps."
   ]
  },
  {
   "cell_type": "code",
   "execution_count": 1,
   "id": "00de110b",
   "metadata": {},
   "outputs": [
    {
     "name": "stdout",
     "output_type": "stream",
     "text": [
      "  HTTP/1.1 200 OK\r\n",
      "  Connection: keep-alive\r\n",
      "  Content-Length: 6234\r\n",
      "  Cache-Control: max-age=300\r\n",
      "  Content-Security-Policy: default-src 'none'; style-src 'unsafe-inline'; sandbox\r\n",
      "  Content-Type: text/plain; charset=utf-8\r\n",
      "  ETag: \"802e603450052319ce5cca4d073de1462fb771d727258f6c9143dd44bbe08403\"\r\n",
      "  Strict-Transport-Security: max-age=31536000\r\n",
      "  X-Content-Type-Options: nosniff\r\n",
      "  X-Frame-Options: deny\r\n",
      "  X-XSS-Protection: 1; mode=block\r\n",
      "  X-GitHub-Request-Id: 9E5C:3622:1ED2:41C93:62A21CF0\r\n",
      "  Accept-Ranges: bytes\r\n",
      "  Date: Thu, 09 Jun 2022 16:36:32 GMT\r\n",
      "  Via: 1.1 varnish\r\n",
      "  X-Served-By: cache-qpg1222-QPG\r\n",
      "  X-Cache: HIT\r\n",
      "  X-Cache-Hits: 1\r\n",
      "  X-Timer: S1654792593.667101,VS0,VE305\r\n",
      "  Vary: Authorization,Accept-Encoding,Origin\r\n",
      "  Access-Control-Allow-Origin: *\r\n",
      "  X-Fastly-Request-ID: 261b5b62809ec74b4ce1556256625b3360f7d51b\r\n",
      "  Expires: Thu, 09 Jun 2022 16:41:32 GMT\r\n",
      "  Source-Age: 0\r\n"
     ]
    }
   ],
   "source": [
    "!wget \"https://raw.githubusercontent.com/qxxxb/ctf/master/2021/zh3r0_ctf/real_mersenne/solve.py\" -O stolen_untwister.py -q"
   ]
  },
  {
   "cell_type": "code",
   "execution_count": 2,
   "id": "8bf36b44",
   "metadata": {},
   "outputs": [
    {
     "name": "stdout",
     "output_type": "stream",
     "text": [
      "[x] Starting local process '/bin/sh'\n",
      "[+] Starting local process '/bin/sh': pid 2341\n"
     ]
    }
   ],
   "source": [
    "import re\n",
    "from pwn import *\n",
    "from tqdm.auto import tqdm\n",
    "from stolen_untwister import Untwister, get_a_b_str"
   ]
  },
  {
   "cell_type": "code",
   "execution_count": 3,
   "id": "2d3e126a",
   "metadata": {},
   "outputs": [
    {
     "name": "stdout",
     "output_type": "stream",
     "text": [
      "[x] Opening connection to fun.chall.seetf.sg on port 30001\n",
      "[x] Opening connection to fun.chall.seetf.sg on port 30001: Trying 34.131.197.225\n",
      "[+] Opening connection to fun.chall.seetf.sg on port 30001: Done\n"
     ]
    }
   ],
   "source": [
    "r = remote(\"fun.chall.seetf.sg\", 30001)\n",
    "r.recvuntil(b\"Good luck!  \\n\")\n",
    "\n",
    "numbers = []\n",
    "\n",
    "def parse_turn(turn):\n",
    "  floats = re.findall(r\"\\[(\\d.\\d+)\\]\", turn)\n",
    "  floats = [float(i) for i in floats]\n",
    "  player = re.findall(r\"\\(p1 = (\\d.\\d+)\\)\", turn)[-1]\n",
    "  player = float(player)\n",
    "  \n",
    "  return floats, player\n",
    "\n",
    "while True:\n",
    "  turn = r.recvuntil(b\"? \").decode()\n",
    "  floats, player = parse_turn(turn)\n",
    "\n",
    "  numbers.extend(floats)\n",
    "  if len(numbers) >= 800:\n",
    "    break\n",
    "  # keep hitting until player exceeds 0.6 score\n",
    "  if player > 0.6:\n",
    "    r.sendline(b\"s\")\n",
    "  else:\n",
    "    r.sendline(b\"h\")"
   ]
  },
  {
   "cell_type": "code",
   "execution_count": 4,
   "id": "805545da",
   "metadata": {},
   "outputs": [
    {
     "name": "stdout",
     "output_type": "stream",
     "text": [
      "Solving...\n",
      "Solved! (in 6.502s)\n"
     ]
    },
    {
     "data": {
      "text/plain": [
       "[0.43067896598203004,\n",
       " 0.8849627446744969,\n",
       " 0.4277448462489709,\n",
       " 0.6935075844466775,\n",
       " 0.7393106923514381]"
      ]
     },
     "execution_count": 4,
     "metadata": {},
     "output_type": "execute_result"
    }
   ],
   "source": [
    "ut = Untwister()\n",
    "for i in numbers:\n",
    "  a, b = get_a_b_str(int(2 ** 53 * i))\n",
    "  ut.submit(a)\n",
    "  ut.submit(b)\n",
    "rnd = ut.get_random()\n",
    "oracle_data = [rnd.random() for i in range(10000)]\n",
    "oracle_data[:5]"
   ]
  },
  {
   "cell_type": "code",
   "execution_count": 5,
   "id": "e30500c7",
   "metadata": {},
   "outputs": [
    {
     "data": {
      "text/plain": [
       "[(387, 1309, 4722, 3, True),\n",
       " (389, 1309, 4722, 1, False),\n",
       " (389, 1309, 4722, 2, False),\n",
       " (388, 1310, 4726, 1, False),\n",
       " (388, 1310, 4727, 2, True),\n",
       " (390, 1310, 4727, 1, False)]"
      ]
     },
     "execution_count": 5,
     "metadata": {},
     "output_type": "execute_result"
    }
   ],
   "source": [
    "# we resume from last round, give the player a card with their current score\n",
    "dp_data = [player] + oracle_data[len(floats):]\n",
    "\n",
    "# dp[number drawn] = (score difference, game count, player starts taking from, player stops taking from, will player bust)\n",
    "dp = [(-9999, -1, -1, -1, -1) for _ in dp_data]\n",
    "dp[0] = (0, 0, -1, -1, -1)\n",
    "\n",
    "winturn = None\n",
    "for idx in range(len(dp)):\n",
    "  (cur_score, games, _, _, _) = dp[idx]\n",
    "  \n",
    "  # Early stopping\n",
    "  if (cur_score + games) // 2 == 850: \n",
    "    winturn = idx\n",
    "    break\n",
    "    \n",
    "  cur = idx\n",
    "  \n",
    "  # player forced to draw first card\n",
    "  player = dp_data[cur]\n",
    "  cur += 1\n",
    "\n",
    "  while player < 1:\n",
    "    # player stands\n",
    "    \n",
    "    # enemy draws until wins or busts\n",
    "    en_cur = cur\n",
    "    enemy = dp_data[en_cur]\n",
    "    en_cur += 1\n",
    "    while enemy < player and enemy <= 1:\n",
    "      enemy += dp_data[en_cur]\n",
    "      en_cur += 1\n",
    "    \n",
    "    if enemy >= 1 and dp[en_cur][0] < cur_score + 1:\n",
    "      # player wins\n",
    "      dp[en_cur] = (cur_score + 1, games + 1, idx, cur - idx, False)\n",
    "    elif dp[en_cur][0] < cur_score - 1:\n",
    "      # enemy wins\n",
    "      dp[en_cur] = (cur_score - 1, games + 1, idx, cur - idx, False)\n",
    "\n",
    "    # player hits\n",
    "    player += dp_data[cur]\n",
    "    cur += 1\n",
    "  \n",
    "  # player bust\n",
    "  if dp[cur][0] < cur_score - 1:\n",
    "    dp[cur] = (cur_score - 1, games + 1, idx, cur - idx, True)\n",
    "\n",
    "dp[winturn-5:winturn+1]"
   ]
  },
  {
   "cell_type": "code",
   "execution_count": 6,
   "id": "5ee0be26",
   "metadata": {},
   "outputs": [
    {
     "data": {
      "text/plain": [
       "['s', 's', 's', 's', 'h']"
      ]
     },
     "execution_count": 6,
     "metadata": {},
     "output_type": "execute_result"
    }
   ],
   "source": [
    "# recover what moves to take from the dp table\n",
    "backtrack = []\n",
    "cur = winturn\n",
    "while cur != -1:\n",
    "  _, _, back, take, bust = dp[cur]\n",
    "  if not bust:\n",
    "    backtrack.append(\"s\")\n",
    "  for _ in range(take - 1):\n",
    "    backtrack.append(\"h\")\n",
    "  cur = back\n",
    "backtrack = backtrack[::-1]\n",
    "backtrack[:5]"
   ]
  },
  {
   "cell_type": "code",
   "execution_count": 7,
   "id": "865fa562",
   "metadata": {},
   "outputs": [
    {
     "name": "stdout",
     "output_type": "stream",
     "text": [
      "5)\n",
      "Do you want to hit or stand? You draw a [0.39427085666512307]. (p1 = 0.8021422333016556)\n",
      "Do you want to hit or stand? Dealer draws a [0.19214036549336933]. (p2 = 0.19214036549336933)\n",
      "Dealer draws a [0.5454431306767824]. (p2 = 0.7375834961701517)\n",
      "Dealer draws a [0.28792670182837277]. (p2 = 1.0255101979985244)\n",
      "Dealer has gone bust. You win!\n",
      "Score: 800-537\n",
      "--------------------------------------------------------------------------------\n",
      "Here is your flag: SEE{1337_card_counting_24ca335ed1cabbcf}\n",
      "\n"
     ]
    }
   ],
   "source": [
    "# send all the moves at once\n",
    "r.send(\"\\n\".join(backtrack).encode())\n",
    "data = r.clean(0.2)\n",
    "print(data[-500:].decode())"
   ]
  }
 ],
 "metadata": {
  "kernelspec": {
   "display_name": "Python 3",
   "language": "python",
   "name": "python3"
  },
  "language_info": {
   "codemirror_mode": {
    "name": "ipython",
    "version": 3
   },
   "file_extension": ".py",
   "mimetype": "text/x-python",
   "name": "python",
   "nbconvert_exporter": "python",
   "pygments_lexer": "ipython3",
   "version": "3.9.7"
  }
 },
 "nbformat": 4,
 "nbformat_minor": 5
}
