{
 "cells": [
  {
   "cell_type": "markdown",
   "metadata": {},
   "source": [
    "# IOT RSA Token\n",
    "\n",
    "> 3000 | INTERNET OF THINGS \n",
    ">\n",
    "> We were able to get our hands on a RSA token that is used as 2FA for a website. From the token, we sniffed some data (capture.logicdata) and took some photos of the token. Lastly, we found a key written at the back of the token, the contents of which we placed into key.txt. Unfortunately, we dropped the token in the toilet bowl and it is no longer working. Using the data sniffed and the photos (rsa_token_setup.png and welcome_msg.png) taken, make sense of the data that is displayed on the rsa token, help us predict what the next rsa token will be!\n",
    ">\n",
    "> [Login Page](http://yhi8bpzolrog3yw17fe0wlwrnwllnhic.alttablabs.sg:40551/)\n",
    ">\n",
    "> [Attachment: iot-challenge-5.zip](files/challenge/iot-challenge-5.zip)\n",
    "\n",
    "Writeup by [@4yn](https://github.com/4yn)\n",
    "\n",
    "My team Mushroom didn't complete this challenge while the CTF was running. I wasted 6 hours near the 20 hour mark of the CTF trying to decode I2C packets into character data by replaying the packets on an actual LCD, but I only managed to do so 2 hours before the contest was going to end, and that wasn't enough time to figure out the key generation algorithm. Here's the solution that was completed after the CTF had ended.\n",
    "\n",
    "Respect to team SIG0CT that was the only category 2 team to solve during contest!\n",
    "\n",
    "[A tl;dr solution is available below](#Summary)"
   ]
  },
  {
   "cell_type": "markdown",
   "metadata": {},
   "source": [
    "## What we have to work with"
   ]
  },
  {
   "cell_type": "markdown",
   "metadata": {},
   "source": [
    "Login page has fields for \"Username\", \"Password\" and \"Token\", and nothing else too suspicious. The description sounds about right, we will need to derive a valid token / one time password to be keyed into this portal."
   ]
  },
  {
   "cell_type": "markdown",
   "metadata": {},
   "source": [
    "![Web portal screenshot](files/images/web-portal.png)"
   ]
  },
  {
   "cell_type": "code",
   "execution_count": 1,
   "metadata": {
    "scrolled": false
   },
   "outputs": [
    {
     "name": "stdout",
     "output_type": "stream",
     "text": [
      "challenge/iot-challenge-5.zip: Zip archive data, at least v2.0 to extract\n",
      "Archive:  challenge/iot-challenge-5.zip\n",
      "  inflating: capture.logicdata       \n",
      " extracting: key.txt                 \n",
      "  inflating: rsa_token_setup.png     \n",
      "  inflating: welcome_msg.png         \n"
     ]
    }
   ],
   "source": [
    "!file challenge/iot-challenge-5.zip\n",
    "!unzip -o challenge/iot-challenge-5.zip"
   ]
  },
  {
   "cell_type": "code",
   "execution_count": 2,
   "metadata": {
    "scrolled": true
   },
   "outputs": [
    {
     "name": "stdout",
     "output_type": "stream",
     "text": [
      "de ed a1 13 7a b0 12 02"
     ]
    }
   ],
   "source": [
    "!cat key.txt"
   ]
  },
  {
   "cell_type": "markdown",
   "metadata": {},
   "source": [
    "`key.txt` has 8 bytes of data in hex format, so we will be looking for some sort of OTP algorithm that uses a 8 byte / 64 bit key."
   ]
  },
  {
   "cell_type": "markdown",
   "metadata": {},
   "source": [
    "![rsa_token_setup](files/rsa_token_setup.png)\n",
    "_The \"RSA Token\"_"
   ]
  },
  {
   "cell_type": "markdown",
   "metadata": {},
   "source": [
    "![rsa_token_setup](files/welcome_msg.png)\n",
    "_A welcome message_"
   ]
  },
  {
   "cell_type": "markdown",
   "metadata": {},
   "source": [
    "The images given show a [16 by 2 LCD screen with an I2C backpack](https://learn.adafruit.com/i2c-spi-lcd-backpack)*, which people often use with hardware projects with Arduinos or Raspberry Pis. The two data probes are connected to the SDA and SCL pins of the I2C backpack, which likely means `capture.logicdata` has a log of voltage levels sent over the I2C bus, so we should be able to figure out what packets were transmitted over the I2C bus. This also means that we probably only know what was displayed on the RSA token and have no way to inspect the actual token generation.\n",
    "\n",
    "\\* If you've never touched hardware before, you could probably figure this out by a [quick google of \"screen sda scl\"](https://www.google.com/search?q=lcd+sda+scl&tbm=isch)"
   ]
  },
  {
   "cell_type": "markdown",
   "metadata": {},
   "source": [
    "## Extracting I2C Packets"
   ]
  },
  {
   "cell_type": "markdown",
   "metadata": {},
   "source": [
    "Using  [Saleae Logic 1.2.18](https://www.saleae.com/downloads/) to open `capture.logicdata`, we find around 35 seconds of data capture. By zooming in we see channel 0 is alternating between high and low voltage and is probably the serial clock wire / \"SCL\", while the other channel 1 would then be the serial data wire / \"SDA\". We can use Saleae Logic's \"Analyzer\" feature to interpret the signals on the two channels for us, where we then get a log of all the I2C packets transmitted in hex format. Finally, we can export this into a CSV format for further processing."
   ]
  },
  {
   "cell_type": "markdown",
   "metadata": {},
   "source": [
    "![Saleae screenshot](files/images/saleae.png)"
   ]
  },
  {
   "cell_type": "code",
   "execution_count": 3,
   "metadata": {},
   "outputs": [],
   "source": [
    "import pandas as pd"
   ]
  },
  {
   "cell_type": "code",
   "execution_count": 4,
   "metadata": {
    "scrolled": false
   },
   "outputs": [
    {
     "name": "stdout",
     "output_type": "stream",
     "text": [
      "(1443, 6)\n"
     ]
    },
    {
     "data": {
      "text/html": [
       "<div>\n",
       "<style scoped>\n",
       "    .dataframe tbody tr th:only-of-type {\n",
       "        vertical-align: middle;\n",
       "    }\n",
       "\n",
       "    .dataframe tbody tr th {\n",
       "        vertical-align: top;\n",
       "    }\n",
       "\n",
       "    .dataframe thead th {\n",
       "        text-align: right;\n",
       "    }\n",
       "</style>\n",
       "<table border=\"1\" class=\"dataframe\">\n",
       "  <thead>\n",
       "    <tr style=\"text-align: right;\">\n",
       "      <th></th>\n",
       "      <th>Time [s]</th>\n",
       "      <th>Packet ID</th>\n",
       "      <th>Address</th>\n",
       "      <th>Data</th>\n",
       "      <th>Read/Write</th>\n",
       "      <th>ACK/NAK</th>\n",
       "    </tr>\n",
       "  </thead>\n",
       "  <tbody>\n",
       "    <tr>\n",
       "      <th>0</th>\n",
       "      <td>1.396228</td>\n",
       "      <td>1</td>\n",
       "      <td>0x4E</td>\n",
       "      <td>0x00</td>\n",
       "      <td>Write</td>\n",
       "      <td>ACK</td>\n",
       "    </tr>\n",
       "    <tr>\n",
       "      <th>1</th>\n",
       "      <td>1.496450</td>\n",
       "      <td>2</td>\n",
       "      <td>0x4E</td>\n",
       "      <td>0x34</td>\n",
       "      <td>Write</td>\n",
       "      <td>ACK</td>\n",
       "    </tr>\n",
       "    <tr>\n",
       "      <th>2</th>\n",
       "      <td>1.496680</td>\n",
       "      <td>3</td>\n",
       "      <td>0x4E</td>\n",
       "      <td>0x30</td>\n",
       "      <td>Write</td>\n",
       "      <td>ACK</td>\n",
       "    </tr>\n",
       "    <tr>\n",
       "      <th>3</th>\n",
       "      <td>1.501438</td>\n",
       "      <td>4</td>\n",
       "      <td>0x4E</td>\n",
       "      <td>0x34</td>\n",
       "      <td>Write</td>\n",
       "      <td>ACK</td>\n",
       "    </tr>\n",
       "    <tr>\n",
       "      <th>4</th>\n",
       "      <td>1.501668</td>\n",
       "      <td>5</td>\n",
       "      <td>0x4E</td>\n",
       "      <td>0x30</td>\n",
       "      <td>Write</td>\n",
       "      <td>ACK</td>\n",
       "    </tr>\n",
       "  </tbody>\n",
       "</table>\n",
       "</div>"
      ],
      "text/plain": [
       "   Time [s]  Packet ID Address  Data Read/Write ACK/NAK\n",
       "0  1.396228          1    0x4E  0x00      Write     ACK\n",
       "1  1.496450          2    0x4E  0x34      Write     ACK\n",
       "2  1.496680          3    0x4E  0x30      Write     ACK\n",
       "3  1.501438          4    0x4E  0x34      Write     ACK\n",
       "4  1.501668          5    0x4E  0x30      Write     ACK"
      ]
     },
     "execution_count": 4,
     "metadata": {},
     "output_type": "execute_result"
    }
   ],
   "source": [
    "df = pd.read_csv('logic-export.csv')\n",
    "print(df.shape)\n",
    "df.head()"
   ]
  },
  {
   "cell_type": "code",
   "execution_count": 5,
   "metadata": {},
   "outputs": [
    {
     "data": {
      "text/html": [
       "<div>\n",
       "<style scoped>\n",
       "    .dataframe tbody tr th:only-of-type {\n",
       "        vertical-align: middle;\n",
       "    }\n",
       "\n",
       "    .dataframe tbody tr th {\n",
       "        vertical-align: top;\n",
       "    }\n",
       "\n",
       "    .dataframe thead th {\n",
       "        text-align: right;\n",
       "    }\n",
       "</style>\n",
       "<table border=\"1\" class=\"dataframe\">\n",
       "  <thead>\n",
       "    <tr style=\"text-align: right;\">\n",
       "      <th></th>\n",
       "      <th>Time [s]</th>\n",
       "      <th>Packet ID</th>\n",
       "      <th>Address</th>\n",
       "      <th>Data</th>\n",
       "      <th>Read/Write</th>\n",
       "      <th>ACK/NAK</th>\n",
       "      <th>hex_data</th>\n",
       "    </tr>\n",
       "  </thead>\n",
       "  <tbody>\n",
       "    <tr>\n",
       "      <th>0</th>\n",
       "      <td>1.396228</td>\n",
       "      <td>1</td>\n",
       "      <td>0x4E</td>\n",
       "      <td>0x00</td>\n",
       "      <td>Write</td>\n",
       "      <td>ACK</td>\n",
       "      <td>00</td>\n",
       "    </tr>\n",
       "    <tr>\n",
       "      <th>1</th>\n",
       "      <td>1.496450</td>\n",
       "      <td>2</td>\n",
       "      <td>0x4E</td>\n",
       "      <td>0x34</td>\n",
       "      <td>Write</td>\n",
       "      <td>ACK</td>\n",
       "      <td>34</td>\n",
       "    </tr>\n",
       "    <tr>\n",
       "      <th>2</th>\n",
       "      <td>1.496680</td>\n",
       "      <td>3</td>\n",
       "      <td>0x4E</td>\n",
       "      <td>0x30</td>\n",
       "      <td>Write</td>\n",
       "      <td>ACK</td>\n",
       "      <td>30</td>\n",
       "    </tr>\n",
       "    <tr>\n",
       "      <th>3</th>\n",
       "      <td>1.501438</td>\n",
       "      <td>4</td>\n",
       "      <td>0x4E</td>\n",
       "      <td>0x34</td>\n",
       "      <td>Write</td>\n",
       "      <td>ACK</td>\n",
       "      <td>34</td>\n",
       "    </tr>\n",
       "    <tr>\n",
       "      <th>4</th>\n",
       "      <td>1.501668</td>\n",
       "      <td>5</td>\n",
       "      <td>0x4E</td>\n",
       "      <td>0x30</td>\n",
       "      <td>Write</td>\n",
       "      <td>ACK</td>\n",
       "      <td>30</td>\n",
       "    </tr>\n",
       "  </tbody>\n",
       "</table>\n",
       "</div>"
      ],
      "text/plain": [
       "   Time [s]  Packet ID Address  Data Read/Write ACK/NAK hex_data\n",
       "0  1.396228          1    0x4E  0x00      Write     ACK       00\n",
       "1  1.496450          2    0x4E  0x34      Write     ACK       34\n",
       "2  1.496680          3    0x4E  0x30      Write     ACK       30\n",
       "3  1.501438          4    0x4E  0x34      Write     ACK       34\n",
       "4  1.501668          5    0x4E  0x30      Write     ACK       30"
      ]
     },
     "execution_count": 5,
     "metadata": {},
     "output_type": "execute_result"
    }
   ],
   "source": [
    "df['hex_data'] = df['Data'].map(lambda x: x[2:])\n",
    "df.head()"
   ]
  },
  {
   "cell_type": "code",
   "execution_count": 6,
   "metadata": {},
   "outputs": [
    {
     "data": {
      "text/plain": [
       "0x4E    1443\n",
       "Name: Address, dtype: int64"
      ]
     },
     "execution_count": 6,
     "metadata": {},
     "output_type": "execute_result"
    }
   ],
   "source": [
    "# I2C addresses used\n",
    "df['Address'].value_counts()"
   ]
  },
  {
   "cell_type": "code",
   "execution_count": 7,
   "metadata": {},
   "outputs": [
    {
     "data": {
      "text/plain": [
       "Write    1443\n",
       "Name: Read/Write, dtype: int64"
      ]
     },
     "execution_count": 7,
     "metadata": {},
     "output_type": "execute_result"
    }
   ],
   "source": [
    "# Read or Write operations\n",
    "df['Read/Write'].value_counts()"
   ]
  },
  {
   "cell_type": "code",
   "execution_count": 8,
   "metadata": {},
   "outputs": [
    {
     "data": {
      "text/plain": [
       "(2, 2)"
      ]
     },
     "execution_count": 8,
     "metadata": {},
     "output_type": "execute_result"
    }
   ],
   "source": [
    "# Min and max data transmitted per packet\n",
    "df['hex_data'].str.len().min(), df['hex_data'].str.len().max()"
   ]
  },
  {
   "cell_type": "code",
   "execution_count": 9,
   "metadata": {},
   "outputs": [
    {
     "data": {
      "text/plain": [
       "<AxesSubplot:ylabel='Frequency'>"
      ]
     },
     "execution_count": 9,
     "metadata": {},
     "output_type": "execute_result"
    },
    {
     "data": {
      "image/png": "[encoded data removed]",
      "text/plain": [
       "<Figure size 720x360 with 1 Axes>"
      ]
     },
     "metadata": {
      "needs_background": "light"
     },
     "output_type": "display_data"
    }
   ],
   "source": [
    "df['Time [s]'].plot.hist(bins=100, figsize=(10, 5))"
   ]
  },
  {
   "cell_type": "markdown",
   "metadata": {},
   "source": [
    "For this data capture, looks like there wasonly one I2C device at address `0x4E`. This packet received only write operations with only one byte of data per transmission, and received 1443 packets in total. This means that there aren't any other devices that sent or received data. Packets also seemed to be sent in \"bursts\" from 20 to 150 packets in one conversation. Now we can take these packets and try to decipher what text was shown on the LCD."
   ]
  },
  {
   "cell_type": "markdown",
   "metadata": {},
   "source": [
    "But first, `0x4E`? Actually this is not very correct - Saleae logic's I2C analyzer for some reason concatenates the 7 bit device address with the 1 bit read/write flag. The I2C backpacks used with the 1602 LCDs are usually at address `0x27`. Sure enough, if we unpack the first 7 bits we get the address `0x27`."
   ]
  },
  {
   "cell_type": "code",
   "execution_count": 10,
   "metadata": {},
   "outputs": [
    {
     "data": {
      "text/plain": [
       "('0x27', 0)"
      ]
     },
     "execution_count": 10,
     "metadata": {},
     "output_type": "execute_result"
    }
   ],
   "source": [
    "# Packets sent to address 0x27 with 0 r/w flag indicating write operation\n",
    "hex(0x4E >> 1), 0x4E & 1"
   ]
  },
  {
   "cell_type": "markdown",
   "metadata": {},
   "source": [
    "## 1602 LCD + I2C Backpack Message Reconstruction"
   ]
  },
  {
   "cell_type": "markdown",
   "metadata": {},
   "source": [
    "Right before the CTF had ended, I managed to replay the I2C packets to an actual 1602 LCD + I2C backpack setup on an arduino. That method can be found further below and was extremely time consuming. After the CTF had ended some guys on discord also found a javascript 1602 emulator online that could definitely work. Alas, it turns out there was a much simpler way to decipher the packet protocol that can be done statically with some reading up."
   ]
  },
  {
   "cell_type": "markdown",
   "metadata": {},
   "source": [
    "What happens if we directly convert packets into string?"
   ]
  },
  {
   "cell_type": "code",
   "execution_count": 11,
   "metadata": {},
   "outputs": [
    {
     "data": {
      "text/plain": [
       "' 6D 69 3D 39 7D 79 4D 49 6D 69 6D 69 2D 29 0D 09 CC C8 0C 08 2D 29 0D 09 7D 79 7D 79 6D 69 5D 59 6D 69 CD C9 6D 69 3D 39 6D 69 FD F9 6D 69 DD D9 6D 69 5D 59 2D 29 0D 09 7D 79 4D 49 6D 69 FD F9 2D 29 0'"
      ]
     },
     "execution_count": 11,
     "metadata": {},
     "output_type": "execute_result"
    }
   ],
   "source": [
    "\" \".join(list(df['hex_data']))[200:400]"
   ]
  },
  {
   "cell_type": "code",
   "execution_count": 12,
   "metadata": {
    "scrolled": true
   },
   "outputs": [
    {
     "data": {
      "text/plain": [
       "b'i\\xcd\\xc9mi=9mi\\xfd\\xf9mi\\xdd\\xd9mi]Y-)\\r\\t}yMImi\\xfd\\xf9-)\\r\\tmi\\x9d\\x99mi\\xfd\\xf9}yMI-)\\r\\t\\x0c\\x08\\x1c\\x18\\x0c\\x08,(-)\\r\\t}y]Y}y=9mi]Y}y-)mi\\xed\\xe9mi\\x1d\\x19mi\\xdd\\xd9mi]Y=9\\xad\\xa9-'"
      ]
     },
     "execution_count": 12,
     "metadata": {},
     "output_type": "execute_result"
    }
   ],
   "source": [
    "bytes.fromhex(\"\".join(list(df['hex_data']))[200:400])"
   ]
  },
  {
   "cell_type": "markdown",
   "metadata": {},
   "source": [
    "Well turns out we get a lot of junk - the protocol seems to be a bit more complex than just writing raw ASCII bytes. One pattern that you might recognise is that the low nibble seems to alternate between `D` or `9`, and the upper nibble seems to repeat itself:\n",
    "\n",
    "```\n",
    "6  6  3  3  7  7  4  4\n",
    "6D 69 3D 39 7D 79 4D 49\n",
    " D     D     D     D    \n",
    "    9     9     9     9 \n",
    "```"
   ]
  },
  {
   "cell_type": "code",
   "execution_count": 13,
   "metadata": {
    "scrolled": true
   },
   "outputs": [
    {
     "data": {
      "text/html": [
       "<div>\n",
       "<style scoped>\n",
       "    .dataframe tbody tr th:only-of-type {\n",
       "        vertical-align: middle;\n",
       "    }\n",
       "\n",
       "    .dataframe tbody tr th {\n",
       "        vertical-align: top;\n",
       "    }\n",
       "\n",
       "    .dataframe thead th {\n",
       "        text-align: right;\n",
       "    }\n",
       "</style>\n",
       "<table border=\"1\" class=\"dataframe\">\n",
       "  <thead>\n",
       "    <tr style=\"text-align: right;\">\n",
       "      <th></th>\n",
       "      <th>Time [s]</th>\n",
       "      <th>Packet ID</th>\n",
       "      <th>Address</th>\n",
       "      <th>Data</th>\n",
       "      <th>Read/Write</th>\n",
       "      <th>ACK/NAK</th>\n",
       "      <th>hex_data</th>\n",
       "      <th>high_nibble</th>\n",
       "      <th>low_nibble</th>\n",
       "    </tr>\n",
       "  </thead>\n",
       "  <tbody>\n",
       "    <tr>\n",
       "      <th>200</th>\n",
       "      <td>5.555094</td>\n",
       "      <td>213</td>\n",
       "      <td>0x4E</td>\n",
       "      <td>0x29</td>\n",
       "      <td>Write</td>\n",
       "      <td>NAK</td>\n",
       "      <td>29</td>\n",
       "      <td>2</td>\n",
       "      <td>9</td>\n",
       "    </tr>\n",
       "    <tr>\n",
       "      <th>201</th>\n",
       "      <td>5.555328</td>\n",
       "      <td>214</td>\n",
       "      <td>0x4E</td>\n",
       "      <td>0x0D</td>\n",
       "      <td>Write</td>\n",
       "      <td>NAK</td>\n",
       "      <td>0D</td>\n",
       "      <td>0</td>\n",
       "      <td>D</td>\n",
       "    </tr>\n",
       "    <tr>\n",
       "      <th>202</th>\n",
       "      <td>5.555558</td>\n",
       "      <td>215</td>\n",
       "      <td>0x4E</td>\n",
       "      <td>0x09</td>\n",
       "      <td>Write</td>\n",
       "      <td>NAK</td>\n",
       "      <td>09</td>\n",
       "      <td>0</td>\n",
       "      <td>9</td>\n",
       "    </tr>\n",
       "    <tr>\n",
       "      <th>203</th>\n",
       "      <td>5.555802</td>\n",
       "      <td>216</td>\n",
       "      <td>0x4E</td>\n",
       "      <td>0xCC</td>\n",
       "      <td>Write</td>\n",
       "      <td>ACK</td>\n",
       "      <td>CC</td>\n",
       "      <td>C</td>\n",
       "      <td>C</td>\n",
       "    </tr>\n",
       "    <tr>\n",
       "      <th>204</th>\n",
       "      <td>5.556032</td>\n",
       "      <td>217</td>\n",
       "      <td>0x4E</td>\n",
       "      <td>0xC8</td>\n",
       "      <td>Write</td>\n",
       "      <td>ACK</td>\n",
       "      <td>C8</td>\n",
       "      <td>C</td>\n",
       "      <td>8</td>\n",
       "    </tr>\n",
       "    <tr>\n",
       "      <th>...</th>\n",
       "      <td>...</td>\n",
       "      <td>...</td>\n",
       "      <td>...</td>\n",
       "      <td>...</td>\n",
       "      <td>...</td>\n",
       "      <td>...</td>\n",
       "      <td>...</td>\n",
       "      <td>...</td>\n",
       "      <td>...</td>\n",
       "    </tr>\n",
       "    <tr>\n",
       "      <th>395</th>\n",
       "      <td>7.604218</td>\n",
       "      <td>421</td>\n",
       "      <td>0x4E</td>\n",
       "      <td>0x7D</td>\n",
       "      <td>Write</td>\n",
       "      <td>NAK</td>\n",
       "      <td>7D</td>\n",
       "      <td>7</td>\n",
       "      <td>D</td>\n",
       "    </tr>\n",
       "    <tr>\n",
       "      <th>396</th>\n",
       "      <td>7.604448</td>\n",
       "      <td>423</td>\n",
       "      <td>0x4E</td>\n",
       "      <td>0x79</td>\n",
       "      <td>Write</td>\n",
       "      <td>Missing ACK/NAK</td>\n",
       "      <td>79</td>\n",
       "      <td>7</td>\n",
       "      <td>9</td>\n",
       "    </tr>\n",
       "    <tr>\n",
       "      <th>397</th>\n",
       "      <td>7.604682</td>\n",
       "      <td>424</td>\n",
       "      <td>0x4E</td>\n",
       "      <td>0x2D</td>\n",
       "      <td>Write</td>\n",
       "      <td>NAK</td>\n",
       "      <td>2D</td>\n",
       "      <td>2</td>\n",
       "      <td>D</td>\n",
       "    </tr>\n",
       "    <tr>\n",
       "      <th>398</th>\n",
       "      <td>7.604911</td>\n",
       "      <td>425</td>\n",
       "      <td>0x4E</td>\n",
       "      <td>0x29</td>\n",
       "      <td>Write</td>\n",
       "      <td>NAK</td>\n",
       "      <td>29</td>\n",
       "      <td>2</td>\n",
       "      <td>9</td>\n",
       "    </tr>\n",
       "    <tr>\n",
       "      <th>399</th>\n",
       "      <td>7.605151</td>\n",
       "      <td>426</td>\n",
       "      <td>0x4E</td>\n",
       "      <td>0x4D</td>\n",
       "      <td>Write</td>\n",
       "      <td>ACK</td>\n",
       "      <td>4D</td>\n",
       "      <td>4</td>\n",
       "      <td>D</td>\n",
       "    </tr>\n",
       "  </tbody>\n",
       "</table>\n",
       "<p>200 rows × 9 columns</p>\n",
       "</div>"
      ],
      "text/plain": [
       "     Time [s]  Packet ID Address  Data Read/Write          ACK/NAK hex_data  \\\n",
       "200  5.555094        213    0x4E  0x29      Write              NAK       29   \n",
       "201  5.555328        214    0x4E  0x0D      Write              NAK       0D   \n",
       "202  5.555558        215    0x4E  0x09      Write              NAK       09   \n",
       "203  5.555802        216    0x4E  0xCC      Write              ACK       CC   \n",
       "204  5.556032        217    0x4E  0xC8      Write              ACK       C8   \n",
       "..        ...        ...     ...   ...        ...              ...      ...   \n",
       "395  7.604218        421    0x4E  0x7D      Write              NAK       7D   \n",
       "396  7.604448        423    0x4E  0x79      Write  Missing ACK/NAK       79   \n",
       "397  7.604682        424    0x4E  0x2D      Write              NAK       2D   \n",
       "398  7.604911        425    0x4E  0x29      Write              NAK       29   \n",
       "399  7.605151        426    0x4E  0x4D      Write              ACK       4D   \n",
       "\n",
       "    high_nibble low_nibble  \n",
       "200           2          9  \n",
       "201           0          D  \n",
       "202           0          9  \n",
       "203           C          C  \n",
       "204           C          8  \n",
       "..          ...        ...  \n",
       "395           7          D  \n",
       "396           7          9  \n",
       "397           2          D  \n",
       "398           2          9  \n",
       "399           4          D  \n",
       "\n",
       "[200 rows x 9 columns]"
      ]
     },
     "execution_count": 13,
     "metadata": {},
     "output_type": "execute_result"
    }
   ],
   "source": [
    "df['high_nibble'] = df['hex_data'].map(lambda x: x[0])\n",
    "df['low_nibble'] = df['hex_data'].map(lambda x: x[1])\n",
    "df.iloc[200:400]"
   ]
  },
  {
   "cell_type": "markdown",
   "metadata": {},
   "source": [
    "With some intuition, if we extract all the high nibbles that were sent twice with low nibbles of `D` and then `9`, we get a hex string that is the text we are looking for!"
   ]
  },
  {
   "cell_type": "code",
   "execution_count": 14,
   "metadata": {},
   "outputs": [
    {
     "data": {
      "text/plain": [
       "b' govtech ctf  welcome to iot  username:  govtechstack  password:    G0vT3cH!3sP@$$w0rD key: deeda1137ab01202  Qns of the day ?????????????? When was govtech founded? p.s the time was 9:06:50 GMT+08 09/11/20 10:44:50       461177 09/11/20 10:45:50       107307 09/11/20 10:46:50       233790 09/11/20 10:47:50       722277 '"
      ]
     },
     "execution_count": 14,
     "metadata": {},
     "output_type": "execute_result"
    }
   ],
   "source": [
    "msg_nibbles = []\n",
    "for i in range(len(df) - 1):\n",
    "    if df['low_nibble'].iloc[i] == 'D' and df['low_nibble'].iloc[i+1] == '9':\n",
    "        msg_nibbles.append(df['high_nibble'].iloc[i])\n",
    "msg_hex = \"\".join(msg_nibbles)\n",
    "msg_bytes = bytes.fromhex(msg_hex)\n",
    "msg_bytes"
   ]
  },
  {
   "cell_type": "markdown",
   "metadata": {},
   "source": [
    "Why the weird protocol? It turns out that the 1602 LCD + I2C backpack setup was operating in '4-bit' mode. Each character byte to be printed on the LCD screen via I2C backpack are transmitted 4 bits at a time as the high nibble of a packet, and even then each nibble may need to be sent multiple times with appropriate timing and different 'command' low nibble due to I2C backpack specifications. You could learn more about this by inspecting the source code of the [Arduino library implementation for the I2C LCD](https://github.com/fdebrabander/Arduino-LiquidCrystal-I2C-library/blob/master/LiquidCrystal_I2C.cpp#L206):\n",
    "\n",
    "```c++\n",
    "void LiquidCrystal_I2C::send(uint8_t value, uint8_t mode) {\n",
    "    // For each character to be printed, writes the character in 2 batches of 4 bits each\n",
    "\tuint8_t highnib=value&0xf0;\n",
    "\tuint8_t lownib=(value<<4)&0xf0;\n",
    "\twrite4bits((highnib)|mode);\n",
    "\twrite4bits((lownib)|mode);\n",
    "}\n",
    "\n",
    "void LiquidCrystal_I2C::pulseEnable(uint8_t _data){\n",
    "    // Sends two I2C packets for each nibble with a different low command nibble\n",
    "\texpanderWrite(_data | En);\t// En high\n",
    "\tdelayMicroseconds(1);\t\t// enable pulse must be >450ns\n",
    "\n",
    "\texpanderWrite(_data & ~En);\t// En low\n",
    "\tdelayMicroseconds(50);\t\t// commands need > 37us to settle\n",
    "}\n",
    "```\n",
    "\n",
    "Other helpful resources I found after the CTF are available [here](https://os.mbed.com/users/wim/notebook/textlcd-enhanced/) and [here](https://diyi0t.com/lcd-display-tutorial-for-arduino-and-esp8266/). But for the purposes of the CTF, we have what we need, so don't think too much and carry on."
   ]
  },
  {
   "cell_type": "markdown",
   "metadata": {},
   "source": [
    "## RSA???"
   ]
  },
  {
   "cell_type": "markdown",
   "metadata": {},
   "source": [
    "Using the message dumped from the I2C packets, we can begin to reproduce the \"RSA token\" as mentioned in the challenge description."
   ]
  },
  {
   "cell_type": "code",
   "execution_count": 15,
   "metadata": {
    "scrolled": false
   },
   "outputs": [
    {
     "data": {
      "text/plain": [
       "[(0, 'govtech'),\n",
       " (1, 'ctf'),\n",
       " (2, 'welcome'),\n",
       " (3, 'to'),\n",
       " (4, 'iot'),\n",
       " (5, 'username:'),\n",
       " (6, 'govtechstack'),\n",
       " (7, 'password:'),\n",
       " (8, 'G0vT3cH!3sP@$$w0rD'),\n",
       " (9, 'key:'),\n",
       " (10, 'deeda1137ab01202'),\n",
       " (11, 'Qns'),\n",
       " (12, 'of'),\n",
       " (13, 'the'),\n",
       " (14, 'day'),\n",
       " (15, '??????????????'),\n",
       " (16, 'When'),\n",
       " (17, 'was'),\n",
       " (18, 'govtech'),\n",
       " (19, 'founded?'),\n",
       " (20, 'p.s'),\n",
       " (21, 'the'),\n",
       " (22, 'time'),\n",
       " (23, 'was'),\n",
       " (24, '9:06:50'),\n",
       " (25, 'GMT+08'),\n",
       " (26, '09/11/20'),\n",
       " (27, '10:44:50'),\n",
       " (28, '461177'),\n",
       " (29, '09/11/20'),\n",
       " (30, '10:45:50'),\n",
       " (31, '107307'),\n",
       " (32, '09/11/20'),\n",
       " (33, '10:46:50'),\n",
       " (34, '233790'),\n",
       " (35, '09/11/20'),\n",
       " (36, '10:47:50'),\n",
       " (37, '722277')]"
      ]
     },
     "execution_count": 15,
     "metadata": {},
     "output_type": "execute_result"
    }
   ],
   "source": [
    "msg_parts = [i for i in msg_bytes.decode('utf8').split(\" \") if len(i)]\n",
    "list(enumerate(msg_parts))"
   ]
  },
  {
   "cell_type": "code",
   "execution_count": 16,
   "metadata": {
    "scrolled": true
   },
   "outputs": [
    {
     "data": {
      "text/plain": [
       "('govtechstack', 'G0vT3cH!3sP@$$w0rD', 'deeda1137ab01202')"
      ]
     },
     "execution_count": 16,
     "metadata": {},
     "output_type": "execute_result"
    }
   ],
   "source": [
    "username = msg_parts[6]\n",
    "password = msg_parts[8]\n",
    "key = msg_parts[10]\n",
    "username, password, key"
   ]
  },
  {
   "cell_type": "markdown",
   "metadata": {},
   "source": [
    "Inside the message, we seem to have found the username and password for the web portal. We also have the same key as the `key.txt` that was behind the original token."
   ]
  },
  {
   "cell_type": "code",
   "execution_count": 17,
   "metadata": {},
   "outputs": [
    {
     "data": {
      "text/plain": [
       "'Qns of the day ?????????????? When was govtech founded? p.s the time was 9:06:50'"
      ]
     },
     "execution_count": 17,
     "metadata": {},
     "output_type": "execute_result"
    }
   ],
   "source": [
    "\" \".join(msg_parts[11:25])"
   ]
  },
  {
   "cell_type": "markdown",
   "metadata": {},
   "source": [
    "Not exactly sure what this does, but [a quick google](https://www.google.com/search?q=govtech+founded) tells us that Govtech was formally founded on 1st October 2016. Using that date and the time hint given we have a timestamp that we aren't too sure what we need to do with right now*.\n",
    "\n",
    "\\* DD/MM/YY format was guessed. We considered using MM/DD/YY when we were still deciding on a token generation algorithm."
   ]
  },
  {
   "cell_type": "code",
   "execution_count": 18,
   "metadata": {},
   "outputs": [],
   "source": [
    "founded_timestamp = \"01/10/16 09:06:50\""
   ]
  },
  {
   "cell_type": "code",
   "execution_count": 19,
   "metadata": {},
   "outputs": [
    {
     "data": {
      "text/plain": [
       "[('09/11/20 10:44:50', '461177'),\n",
       " ('09/11/20 10:45:50', '107307'),\n",
       " ('09/11/20 10:46:50', '233790'),\n",
       " ('09/11/20 10:47:50', '722277')]"
      ]
     },
     "execution_count": 19,
     "metadata": {},
     "output_type": "execute_result"
    }
   ],
   "source": [
    "token_history = [\n",
    "    (msg_parts[26+i] + \" \" + msg_parts[27+i], msg_parts[28+i])\n",
    "    for i in range(0,12,3)\n",
    "]\n",
    "token_history"
   ]
  },
  {
   "cell_type": "markdown",
   "metadata": {},
   "source": [
    "We are given 4 sets of timestamp and 6 digit tokens, which should be valid at the time of the data capture. Since we have the dates, this suggests that we need a [time-based one time password algorithm](https://en.wikipedia.org/wiki/Time-based_One-time_Password_algorithm) to convert a timestamp and a key to the valid token. Considering that the challenge description kept mentioning that the device was an \"RSA token\", the first thing that came to mind ([and to google](https://www.google.com/search?q=rsa+token)) was the RSA SecurID key that is often used as a second factor authentication in enterprise settings.\n",
    "\n",
    "Unfortunately, I was stuck here up until the end of the CTF and was unable to obtain the flag during contest time. There is an implementation of the RSA SecurID token but this implementation appears to use a supplementary PIN on top of the key and did not have an easy way to import the 64 bit key from earlier. I tried using [wikipedia's implementation of generic HMAC-based OTP](https://en.wikipedia.org/wiki/HMAC-based_One-time_Password_algorithm#HOTP_value) with different hash functions, origin times, periods, key byte orders and time byte orders but that had no luck either. \n",
    "\n",
    "The CTF ended, the \\#internet-of-things-spoilers channel on the CTF discord was opened and hints [were](https://discord.com/channels/773062343155908608/785159934798463017/785160413208641556) [given](https://discord.com/channels/773062343155908608/785159934798463017/785177932045090836). Turns out there was an [implementation of the RSA SecurID key generation algorithm](https://seclists.org/bugtraq/2000/Dec/459) available on a mailing list from way back in 2000*. After cleaning up some wrapped newlines and preliminary inspection of [`securid.c`](files/securid.c), this program ticked all the boxes that we needed: it generates tokens at a 1 minute interval (or 2 depending on setup) and effectively only uses 64 bits of a key (even though 320 bits are read from the input file). \n",
    "\n",
    "Note to self: OSINT harder.\n",
    "\n",
    "\\* Some [extra reading material](https://seclists.org/bugtraq/2001/Jan/87) gives interesting context and a nice history lesson"
   ]
  },
  {
   "cell_type": "markdown",
   "metadata": {},
   "source": [
    "Given this c file, I wanted to convert it into a shared library to make experimentation easier - the most important goal was to wrap `void securid_hash_time((unsigned long time, OCTET *hash, OCTET key)` in something that could be callable. Changes were made and a modified [`libsecurid.c`](files/libsecurid.c) was completed and compiled into `libsecurid.so`, which was then interfaced using python `ctypes`."
   ]
  },
  {
   "cell_type": "code",
   "execution_count": 20,
   "metadata": {},
   "outputs": [],
   "source": [
    "!./compile-libsecurid.sh"
   ]
  },
  {
   "cell_type": "code",
   "execution_count": 21,
   "metadata": {},
   "outputs": [],
   "source": [
    "from pathlib import Path\n",
    "import ctypes\n",
    "libsecurid = ctypes.CDLL(Path().absolute() / 'libsecurid.so')\n",
    "libsecurid.securid_hash.restype = ctypes.c_longlong\n",
    "def securid_hash(key, t):\n",
    "    # t = t & (-4)\n",
    "    res = libsecurid.securid_hash(ctypes.c_longlong(key), ctypes.c_long(t))\n",
    "    res_hex = bytes.fromhex(hex(res)[-12:])[::-1].hex()\n",
    "    return res_hex[:6], res_hex[6:]"
   ]
  },
  {
   "cell_type": "markdown",
   "metadata": {},
   "source": [
    "By studying `securid.c`, we know the original `securid` algorithm reads the first 64 bits of a key string from a keyfile and packs it into a 64 bit integer with little endian byte order. The algorithm uses a timer counter that increases every 2 minutes, and calculates a hash using both the key and the counter. Depending if the current minute is odd or even, a different part of the hash will be used to derive the token.\n",
    "\n",
    "After experimenting with the `securid` utility and various parameters, I found that the following changes allowed for generation of valid tokens which matched the tokens found earlier:\n",
    "- Skipping key secret decryption inside `unsigned char read_line (FILE *fi, OCTET *outb)` (@ line 196 of `securid.c`)\n",
    "- Skipping the minute offset `0x806880` used when calculating minutes since epoch (@ line 257 of `securid.c`)\n",
    "- Parsing the key in little endian when converting to 64 bit integer within python\n",
    "- Using epoch of the token as the \"Govtech founding\" timestamp within python, since everything is 50 seconds aligned!\n",
    "\n",
    "The token generation equation was:\n",
    "<!-- $$\n",
    "\\text{hash} = \\text{brainard_hash} \\left( \\text{key}_\\text{little endian},  4 \\Big\\lfloor \\frac{T_\\text{now} - T_\\text{founding}}{120} \\Big\\rfloor \\right)\n",
    "$$ -->\n",
    "<!-- <img src=\"https://render.githubusercontent.com/render/math?math=\\text{hash}%20=%20\\text{brainard_hash}%20\\left(%20\\text{key}_\\text{little%20endian},%20%204%20\\Big\\lfloor%20\\frac{T_\\text{now}%20-%20T_\\text{founding}}{120}%20\\Big\\rfloor%20\\right)\"> -->\n",
    "![Securid equation](files/images/securid-equation.svg)\n",
    "\n",
    "To confirm that the key is working, let's find what tokens would have been generated at the timestamps* from the I2C packet extraction.\n",
    "\n",
    "\\* We don't need to worry about timezones since both epoch and current time are at the same offset."
   ]
  },
  {
   "cell_type": "code",
   "execution_count": 22,
   "metadata": {},
   "outputs": [
    {
     "data": {
      "text/plain": [
       "(1475284010,\n",
       " [1604889890, 1604889950, 1604890010, 1604890070],\n",
       " ['461177', '107307', '233790', '722277'])"
      ]
     },
     "execution_count": 22,
     "metadata": {},
     "output_type": "execute_result"
    }
   ],
   "source": [
    "# Convert timestamps to seconds since epoch\n",
    "from datetime import datetime\n",
    "def date_string_to_epoch_seconds(date_string):\n",
    "    return int(datetime.strptime(date_string, '%d/%m/%y %H:%M:%S').timestamp())\n",
    "founded_t = date_string_to_epoch_seconds(founded_timestamp)\n",
    "token_ts = [date_string_to_epoch_seconds(i[0]) for i in token_history]\n",
    "tokens = [i[1] for i in token_history]\n",
    "founded_t, token_ts, tokens"
   ]
  },
  {
   "cell_type": "code",
   "execution_count": 23,
   "metadata": {
    "scrolled": true
   },
   "outputs": [
    {
     "data": {
      "text/plain": [
       "'0x212b07a13a1edde'"
      ]
     },
     "execution_count": 23,
     "metadata": {},
     "output_type": "execute_result"
    }
   ],
   "source": [
    "# Convert key to little endian int\n",
    "key_le = int(bytes.fromhex(key)[::-1].hex(), 16)\n",
    "hex(key_le)"
   ]
  },
  {
   "cell_type": "code",
   "execution_count": 24,
   "metadata": {},
   "outputs": [
    {
     "name": "stdout",
     "output_type": "stream",
     "text": [
      "Calculated: ('461177', '107307') Expected 461177\n",
      "Calculated: ('461177', '107307') Expected 107307\n",
      "Calculated: ('233790', '722277') Expected 233790\n",
      "Calculated: ('233790', '722277') Expected 722277\n"
     ]
    }
   ],
   "source": [
    "for token_t, token in zip(token_ts, tokens):\n",
    "    print('Calculated:', securid_hash(key_le, (token_t - founded_t) // 120 * 4), 'Expected', token)"
   ]
  },
  {
   "cell_type": "markdown",
   "metadata": {},
   "source": [
    "To get a token that is valid right now, we use the current timestamp! And some extra tokens for the next 2 minutes as well just in case they expire."
   ]
  },
  {
   "cell_type": "code",
   "execution_count": 25,
   "metadata": {},
   "outputs": [
    {
     "data": {
      "text/plain": [
       "['997494', '936939', '251677', '638773']"
      ]
     },
     "execution_count": 25,
     "metadata": {},
     "output_type": "execute_result"
    }
   ],
   "source": [
    "now_t = int(datetime.now().timestamp())\n",
    "valid_tokens = [\n",
    "    securid_hash(key_le, (now_t - founded_t) // 120 * 4),\n",
    "    securid_hash(key_le, (now_t + 120 - founded_t) // 120 * 4)\n",
    "]\n",
    "valid_tokens = [j for i in valid_tokens for j in i]\n",
    "valid_tokens"
   ]
  },
  {
   "cell_type": "markdown",
   "metadata": {},
   "source": [
    "Now we can submit the credentials and the token to the web portal."
   ]
  },
  {
   "cell_type": "code",
   "execution_count": 26,
   "metadata": {},
   "outputs": [],
   "source": [
    "import requests\n",
    "url = 'http://yhi8bpzolrog3yw17fe0wlwrnwllnhic.alttablabs.sg:40551/login'\n",
    "res = [\n",
    "    requests.post(url, data={\n",
    "        'username': username,\n",
    "        'password': password,\n",
    "        'token': valid_token\n",
    "    })\n",
    "    for valid_token in valid_tokens\n",
    "]"
   ]
  },
  {
   "cell_type": "code",
   "execution_count": 27,
   "metadata": {},
   "outputs": [
    {
     "data": {
      "text/plain": [
       "['application/zip', 'application/zip', 'application/zip', 'application/zip']"
      ]
     },
     "execution_count": 27,
     "metadata": {},
     "output_type": "execute_result"
    }
   ],
   "source": [
    "[\n",
    "    i.headers['content-type']\n",
    "    for i in res\n",
    "]"
   ]
  },
  {
   "cell_type": "markdown",
   "metadata": {},
   "source": [
    "A valid login request will be returned with a zip file download. We can load the zip into a proper file, and inside will be the flag!"
   ]
  },
  {
   "cell_type": "code",
   "execution_count": 28,
   "metadata": {},
   "outputs": [],
   "source": [
    "for i in res:\n",
    "    if i.headers['content-type'] == 'application/zip':\n",
    "        with open('success.zip', 'wb') as f:\n",
    "            f.write(i.content)\n",
    "        break"
   ]
  },
  {
   "cell_type": "code",
   "execution_count": 29,
   "metadata": {},
   "outputs": [
    {
     "name": "stdout",
     "output_type": "stream",
     "text": [
      "success.zip: Zip archive data, at least v2.0 to extract\n",
      "govtech-csg{!2c_rS@_Is_Qu!t3_c00I}"
     ]
    }
   ],
   "source": [
    "!file success.zip\n",
    "!unzip -p success.zip flag.txt"
   ]
  },
  {
   "cell_type": "markdown",
   "metadata": {},
   "source": [
    "## Summary"
   ]
  },
  {
   "cell_type": "markdown",
   "metadata": {},
   "source": [
    "The tl;dr Solution:\n",
    "- Deduce 1206 LCD + I2C backpack circuit and from `rsa_token_setup.png` and `welcome_msg.png` \n",
    "- Convert `capture.logicdata` into I2C packets using Saleae Logic\n",
    "- Convert I2C packets into printed characters by referring to hardware specification (and some intuition)\n",
    "- OSINT the RSA SecurID algorithm\n",
    "- Modify the RSA SecurID algorithm to fit the challenge setting\n",
    "- Generate token and submit to web portal\n",
    "\n",
    "I thought that this was an interesting multi-layered CTF challenge with an IOT/EE beginning, (somewhat?) OSINT middle and Crypto end. Quite a wild ride!"
   ]
  },
  {
   "cell_type": "markdown",
   "metadata": {},
   "source": [
    "## Bonus: Hardware Replay Message Reconstruction"
   ]
  },
  {
   "cell_type": "markdown",
   "metadata": {},
   "source": [
    "I happened to have a 1602 LCD + I2C backpack with me when I was doing the CTF. One of my first ideas on how to reconstruct the message printed on the LCD was to 'replay' the I2C packets to the physical screen! This meant that I had to recreate the data sent in each packet as well as the delay between packets (remember, the LCD screen protocol is sensitive to time and delays).\n",
    "\n",
    "To do this, I converted the table of packets into a series of instructions that could be stored inside an Arduino microcontroller. Specifically, for each packet I would store the hex byte that was sent, the delay in microseconds (up to 1000) to the next packet and the delay in milliseconds (up to 10000) to the next packet in three C arrays, which would eventually be converted into a header file for into the Arduino. We split the delay into a millisecond and microsecond part so that everything fits nicely into a 16 bit integer.\n",
    "\n",
    "One thing to note is that the timing of the bytes sent to the LCD is **very** crucial to the LCD working. During my initial exploration of this idea I had ignored the delay between packets that were sent in close succession to each other and sent the 200 or so bytes of data in a single I2C transmission with no delay between bytes. Unfortunately this means that the LCD doesn't accept the bytes properly and just prints gibberish. Even the delays of ~200 microseconds need to be preserved. Around 2 hours before the CTF was going to end I noticed [some suspicious delays inside the Arduino library implementation](https://github.com/fdebrabander/Arduino-LiquidCrystal-I2C-library/blob/master/LiquidCrystal_I2C.cpp#L238) and this led me to this final working method. "
   ]
  },
  {
   "cell_type": "code",
   "execution_count": 30,
   "metadata": {},
   "outputs": [
    {
     "data": {
      "text/html": [
       "<div>\n",
       "<style scoped>\n",
       "    .dataframe tbody tr th:only-of-type {\n",
       "        vertical-align: middle;\n",
       "    }\n",
       "\n",
       "    .dataframe tbody tr th {\n",
       "        vertical-align: top;\n",
       "    }\n",
       "\n",
       "    .dataframe thead th {\n",
       "        text-align: right;\n",
       "    }\n",
       "</style>\n",
       "<table border=\"1\" class=\"dataframe\">\n",
       "  <thead>\n",
       "    <tr style=\"text-align: right;\">\n",
       "      <th></th>\n",
       "      <th>Time [s]</th>\n",
       "      <th>Packet ID</th>\n",
       "      <th>Address</th>\n",
       "      <th>Data</th>\n",
       "      <th>Read/Write</th>\n",
       "      <th>ACK/NAK</th>\n",
       "      <th>hex_data</th>\n",
       "      <th>high_nibble</th>\n",
       "      <th>low_nibble</th>\n",
       "      <th>next_packet_time</th>\n",
       "      <th>delay</th>\n",
       "    </tr>\n",
       "  </thead>\n",
       "  <tbody>\n",
       "    <tr>\n",
       "      <th>0</th>\n",
       "      <td>1.396228</td>\n",
       "      <td>1</td>\n",
       "      <td>0x4E</td>\n",
       "      <td>0x00</td>\n",
       "      <td>Write</td>\n",
       "      <td>ACK</td>\n",
       "      <td>00</td>\n",
       "      <td>0</td>\n",
       "      <td>0</td>\n",
       "      <td>1.496450</td>\n",
       "      <td>0.100222</td>\n",
       "    </tr>\n",
       "    <tr>\n",
       "      <th>1</th>\n",
       "      <td>1.496450</td>\n",
       "      <td>2</td>\n",
       "      <td>0x4E</td>\n",
       "      <td>0x34</td>\n",
       "      <td>Write</td>\n",
       "      <td>ACK</td>\n",
       "      <td>34</td>\n",
       "      <td>3</td>\n",
       "      <td>4</td>\n",
       "      <td>1.496680</td>\n",
       "      <td>0.000230</td>\n",
       "    </tr>\n",
       "    <tr>\n",
       "      <th>2</th>\n",
       "      <td>1.496680</td>\n",
       "      <td>3</td>\n",
       "      <td>0x4E</td>\n",
       "      <td>0x30</td>\n",
       "      <td>Write</td>\n",
       "      <td>ACK</td>\n",
       "      <td>30</td>\n",
       "      <td>3</td>\n",
       "      <td>0</td>\n",
       "      <td>1.501438</td>\n",
       "      <td>0.004758</td>\n",
       "    </tr>\n",
       "    <tr>\n",
       "      <th>3</th>\n",
       "      <td>1.501438</td>\n",
       "      <td>4</td>\n",
       "      <td>0x4E</td>\n",
       "      <td>0x34</td>\n",
       "      <td>Write</td>\n",
       "      <td>ACK</td>\n",
       "      <td>34</td>\n",
       "      <td>3</td>\n",
       "      <td>4</td>\n",
       "      <td>1.501668</td>\n",
       "      <td>0.000229</td>\n",
       "    </tr>\n",
       "    <tr>\n",
       "      <th>4</th>\n",
       "      <td>1.501668</td>\n",
       "      <td>5</td>\n",
       "      <td>0x4E</td>\n",
       "      <td>0x30</td>\n",
       "      <td>Write</td>\n",
       "      <td>ACK</td>\n",
       "      <td>30</td>\n",
       "      <td>3</td>\n",
       "      <td>0</td>\n",
       "      <td>1.502052</td>\n",
       "      <td>0.000384</td>\n",
       "    </tr>\n",
       "  </tbody>\n",
       "</table>\n",
       "</div>"
      ],
      "text/plain": [
       "   Time [s]  Packet ID Address  Data Read/Write ACK/NAK hex_data high_nibble  \\\n",
       "0  1.396228          1    0x4E  0x00      Write     ACK       00           0   \n",
       "1  1.496450          2    0x4E  0x34      Write     ACK       34           3   \n",
       "2  1.496680          3    0x4E  0x30      Write     ACK       30           3   \n",
       "3  1.501438          4    0x4E  0x34      Write     ACK       34           3   \n",
       "4  1.501668          5    0x4E  0x30      Write     ACK       30           3   \n",
       "\n",
       "  low_nibble  next_packet_time     delay  \n",
       "0          0          1.496450  0.100222  \n",
       "1          4          1.496680  0.000230  \n",
       "2          0          1.501438  0.004758  \n",
       "3          4          1.501668  0.000229  \n",
       "4          0          1.502052  0.000384  "
      ]
     },
     "execution_count": 30,
     "metadata": {},
     "output_type": "execute_result"
    }
   ],
   "source": [
    "# Calculate time to next packet\n",
    "df['next_packet_time'] = df['Time [s]'].shift(-1).fillna(45)\n",
    "df['delay'] = df['next_packet_time'] - df['Time [s]'] \n",
    "df.head()"
   ]
  },
  {
   "cell_type": "code",
   "execution_count": 31,
   "metadata": {},
   "outputs": [
    {
     "data": {
      "text/html": [
       "<div>\n",
       "<style scoped>\n",
       "    .dataframe tbody tr th:only-of-type {\n",
       "        vertical-align: middle;\n",
       "    }\n",
       "\n",
       "    .dataframe tbody tr th {\n",
       "        vertical-align: top;\n",
       "    }\n",
       "\n",
       "    .dataframe thead th {\n",
       "        text-align: right;\n",
       "    }\n",
       "</style>\n",
       "<table border=\"1\" class=\"dataframe\">\n",
       "  <thead>\n",
       "    <tr style=\"text-align: right;\">\n",
       "      <th></th>\n",
       "      <th>Time [s]</th>\n",
       "      <th>Packet ID</th>\n",
       "      <th>Address</th>\n",
       "      <th>Data</th>\n",
       "      <th>Read/Write</th>\n",
       "      <th>ACK/NAK</th>\n",
       "      <th>hex_data</th>\n",
       "      <th>high_nibble</th>\n",
       "      <th>low_nibble</th>\n",
       "      <th>next_packet_time</th>\n",
       "      <th>delay</th>\n",
       "      <th>delay_us_total</th>\n",
       "      <th>delay_us</th>\n",
       "      <th>delay_ms</th>\n",
       "    </tr>\n",
       "  </thead>\n",
       "  <tbody>\n",
       "    <tr>\n",
       "      <th>0</th>\n",
       "      <td>1.396228</td>\n",
       "      <td>1</td>\n",
       "      <td>0x4E</td>\n",
       "      <td>0x00</td>\n",
       "      <td>Write</td>\n",
       "      <td>ACK</td>\n",
       "      <td>00</td>\n",
       "      <td>0</td>\n",
       "      <td>0</td>\n",
       "      <td>1.496450</td>\n",
       "      <td>0.100222</td>\n",
       "      <td>100222</td>\n",
       "      <td>222</td>\n",
       "      <td>100</td>\n",
       "    </tr>\n",
       "    <tr>\n",
       "      <th>1</th>\n",
       "      <td>1.496450</td>\n",
       "      <td>2</td>\n",
       "      <td>0x4E</td>\n",
       "      <td>0x34</td>\n",
       "      <td>Write</td>\n",
       "      <td>ACK</td>\n",
       "      <td>34</td>\n",
       "      <td>3</td>\n",
       "      <td>4</td>\n",
       "      <td>1.496680</td>\n",
       "      <td>0.000230</td>\n",
       "      <td>229</td>\n",
       "      <td>229</td>\n",
       "      <td>0</td>\n",
       "    </tr>\n",
       "    <tr>\n",
       "      <th>2</th>\n",
       "      <td>1.496680</td>\n",
       "      <td>3</td>\n",
       "      <td>0x4E</td>\n",
       "      <td>0x30</td>\n",
       "      <td>Write</td>\n",
       "      <td>ACK</td>\n",
       "      <td>30</td>\n",
       "      <td>3</td>\n",
       "      <td>0</td>\n",
       "      <td>1.501438</td>\n",
       "      <td>0.004758</td>\n",
       "      <td>4758</td>\n",
       "      <td>758</td>\n",
       "      <td>4</td>\n",
       "    </tr>\n",
       "    <tr>\n",
       "      <th>3</th>\n",
       "      <td>1.501438</td>\n",
       "      <td>4</td>\n",
       "      <td>0x4E</td>\n",
       "      <td>0x34</td>\n",
       "      <td>Write</td>\n",
       "      <td>ACK</td>\n",
       "      <td>34</td>\n",
       "      <td>3</td>\n",
       "      <td>4</td>\n",
       "      <td>1.501668</td>\n",
       "      <td>0.000229</td>\n",
       "      <td>229</td>\n",
       "      <td>229</td>\n",
       "      <td>0</td>\n",
       "    </tr>\n",
       "    <tr>\n",
       "      <th>4</th>\n",
       "      <td>1.501668</td>\n",
       "      <td>5</td>\n",
       "      <td>0x4E</td>\n",
       "      <td>0x30</td>\n",
       "      <td>Write</td>\n",
       "      <td>ACK</td>\n",
       "      <td>30</td>\n",
       "      <td>3</td>\n",
       "      <td>0</td>\n",
       "      <td>1.502052</td>\n",
       "      <td>0.000384</td>\n",
       "      <td>384</td>\n",
       "      <td>384</td>\n",
       "      <td>0</td>\n",
       "    </tr>\n",
       "  </tbody>\n",
       "</table>\n",
       "</div>"
      ],
      "text/plain": [
       "   Time [s]  Packet ID Address  Data Read/Write ACK/NAK hex_data high_nibble  \\\n",
       "0  1.396228          1    0x4E  0x00      Write     ACK       00           0   \n",
       "1  1.496450          2    0x4E  0x34      Write     ACK       34           3   \n",
       "2  1.496680          3    0x4E  0x30      Write     ACK       30           3   \n",
       "3  1.501438          4    0x4E  0x34      Write     ACK       34           3   \n",
       "4  1.501668          5    0x4E  0x30      Write     ACK       30           3   \n",
       "\n",
       "  low_nibble  next_packet_time     delay  delay_us_total  delay_us  delay_ms  \n",
       "0          0          1.496450  0.100222          100222       222       100  \n",
       "1          4          1.496680  0.000230             229       229         0  \n",
       "2          0          1.501438  0.004758            4758       758         4  \n",
       "3          4          1.501668  0.000229             229       229         0  \n",
       "4          0          1.502052  0.000384             384       384         0  "
      ]
     },
     "execution_count": 31,
     "metadata": {},
     "output_type": "execute_result"
    }
   ],
   "source": [
    "# Calculate us and ms to next packet\n",
    "# Make sure everything is less than 10 000 to avoid int overflow when we compile it\n",
    "df['delay_us_total'] = (df['delay'] * 1000000).astype(int).clip(lower=1, upper=10000000)\n",
    "df['delay_us'] = df['delay_us_total'].map(lambda x: x % 1000)\n",
    "df['delay_ms'] = df['delay_us_total'].map(lambda x: x // 1000)\n",
    "df.head()"
   ]
  },
  {
   "cell_type": "code",
   "execution_count": 32,
   "metadata": {
    "scrolled": true
   },
   "outputs": [
    {
     "data": {
      "text/html": [
       "<div>\n",
       "<style scoped>\n",
       "    .dataframe tbody tr th:only-of-type {\n",
       "        vertical-align: middle;\n",
       "    }\n",
       "\n",
       "    .dataframe tbody tr th {\n",
       "        vertical-align: top;\n",
       "    }\n",
       "\n",
       "    .dataframe thead th {\n",
       "        text-align: right;\n",
       "    }\n",
       "</style>\n",
       "<table border=\"1\" class=\"dataframe\">\n",
       "  <thead>\n",
       "    <tr style=\"text-align: right;\">\n",
       "      <th></th>\n",
       "      <th>Time [s]</th>\n",
       "      <th>Packet ID</th>\n",
       "      <th>Address</th>\n",
       "      <th>Data</th>\n",
       "      <th>Read/Write</th>\n",
       "      <th>ACK/NAK</th>\n",
       "      <th>hex_data</th>\n",
       "      <th>high_nibble</th>\n",
       "      <th>low_nibble</th>\n",
       "      <th>next_packet_time</th>\n",
       "      <th>delay</th>\n",
       "      <th>delay_us_total</th>\n",
       "      <th>delay_us</th>\n",
       "      <th>delay_ms</th>\n",
       "      <th>msgs</th>\n",
       "    </tr>\n",
       "  </thead>\n",
       "  <tbody>\n",
       "    <tr>\n",
       "      <th>0</th>\n",
       "      <td>1.396228</td>\n",
       "      <td>1</td>\n",
       "      <td>0x4E</td>\n",
       "      <td>0x00</td>\n",
       "      <td>Write</td>\n",
       "      <td>ACK</td>\n",
       "      <td>00</td>\n",
       "      <td>0</td>\n",
       "      <td>0</td>\n",
       "      <td>1.496450</td>\n",
       "      <td>0.100222</td>\n",
       "      <td>100222</td>\n",
       "      <td>222</td>\n",
       "      <td>100</td>\n",
       "      <td>0</td>\n",
       "    </tr>\n",
       "    <tr>\n",
       "      <th>1</th>\n",
       "      <td>1.496450</td>\n",
       "      <td>2</td>\n",
       "      <td>0x4E</td>\n",
       "      <td>0x34</td>\n",
       "      <td>Write</td>\n",
       "      <td>ACK</td>\n",
       "      <td>34</td>\n",
       "      <td>3</td>\n",
       "      <td>4</td>\n",
       "      <td>1.496680</td>\n",
       "      <td>0.000230</td>\n",
       "      <td>229</td>\n",
       "      <td>229</td>\n",
       "      <td>0</td>\n",
       "      <td>52</td>\n",
       "    </tr>\n",
       "    <tr>\n",
       "      <th>2</th>\n",
       "      <td>1.496680</td>\n",
       "      <td>3</td>\n",
       "      <td>0x4E</td>\n",
       "      <td>0x30</td>\n",
       "      <td>Write</td>\n",
       "      <td>ACK</td>\n",
       "      <td>30</td>\n",
       "      <td>3</td>\n",
       "      <td>0</td>\n",
       "      <td>1.501438</td>\n",
       "      <td>0.004758</td>\n",
       "      <td>4758</td>\n",
       "      <td>758</td>\n",
       "      <td>4</td>\n",
       "      <td>48</td>\n",
       "    </tr>\n",
       "    <tr>\n",
       "      <th>3</th>\n",
       "      <td>1.501438</td>\n",
       "      <td>4</td>\n",
       "      <td>0x4E</td>\n",
       "      <td>0x34</td>\n",
       "      <td>Write</td>\n",
       "      <td>ACK</td>\n",
       "      <td>34</td>\n",
       "      <td>3</td>\n",
       "      <td>4</td>\n",
       "      <td>1.501668</td>\n",
       "      <td>0.000229</td>\n",
       "      <td>229</td>\n",
       "      <td>229</td>\n",
       "      <td>0</td>\n",
       "      <td>52</td>\n",
       "    </tr>\n",
       "    <tr>\n",
       "      <th>4</th>\n",
       "      <td>1.501668</td>\n",
       "      <td>5</td>\n",
       "      <td>0x4E</td>\n",
       "      <td>0x30</td>\n",
       "      <td>Write</td>\n",
       "      <td>ACK</td>\n",
       "      <td>30</td>\n",
       "      <td>3</td>\n",
       "      <td>0</td>\n",
       "      <td>1.502052</td>\n",
       "      <td>0.000384</td>\n",
       "      <td>384</td>\n",
       "      <td>384</td>\n",
       "      <td>0</td>\n",
       "      <td>48</td>\n",
       "    </tr>\n",
       "  </tbody>\n",
       "</table>\n",
       "</div>"
      ],
      "text/plain": [
       "   Time [s]  Packet ID Address  Data Read/Write ACK/NAK hex_data high_nibble  \\\n",
       "0  1.396228          1    0x4E  0x00      Write     ACK       00           0   \n",
       "1  1.496450          2    0x4E  0x34      Write     ACK       34           3   \n",
       "2  1.496680          3    0x4E  0x30      Write     ACK       30           3   \n",
       "3  1.501438          4    0x4E  0x34      Write     ACK       34           3   \n",
       "4  1.501668          5    0x4E  0x30      Write     ACK       30           3   \n",
       "\n",
       "  low_nibble  next_packet_time     delay  delay_us_total  delay_us  delay_ms  \\\n",
       "0          0          1.496450  0.100222          100222       222       100   \n",
       "1          4          1.496680  0.000230             229       229         0   \n",
       "2          0          1.501438  0.004758            4758       758         4   \n",
       "3          4          1.501668  0.000229             229       229         0   \n",
       "4          0          1.502052  0.000384             384       384         0   \n",
       "\n",
       "   msgs  \n",
       "0     0  \n",
       "1    52  \n",
       "2    48  \n",
       "3    52  \n",
       "4    48  "
      ]
     },
     "execution_count": 32,
     "metadata": {},
     "output_type": "execute_result"
    }
   ],
   "source": [
    "# Convert the hex data sent to an integer\n",
    "df['msgs'] = df['hex_data'].map(lambda x: int(x, 16))\n",
    "df.head()"
   ]
  },
  {
   "cell_type": "code",
   "execution_count": 33,
   "metadata": {},
   "outputs": [
    {
     "name": "stdout",
     "output_type": "stream",
     "text": [
      "#include <avr/pgmspace.h>\n",
      "const int PROGMEM msg_len = 1443;\n",
      "const uint8_t PROGMEM msgs[1443] = {0, 52, 48, 52, 48, 52, 48, 36, 32, 36, 32, 132, 128, 4, 0, 196, ...\n",
      "const uint16_t PROGMEM delay_us[1443] = {222, 229, 758, 229, 384, 229, 389, 229, 384, 229, 234, 229,...\n",
      "const uint16_t PROGMEM delay_ms[1443] = {100, 0, 4, 0, 0, 0, 0, 0, 0, 0, 0, 0, 0, 0, 0, 0, 0, 0, 0, ...\n"
     ]
    }
   ],
   "source": [
    "# Generate the replay.h file for the microcontroller\n",
    "fields = ['msgs', 'delay_us', 'delay_ms']\n",
    "datatypes = ['uint8_t', 'uint16_t', 'uint16_t']\n",
    "code = []\n",
    "code.append(\"#include <avr/pgmspace.h>\")\n",
    "code.append(f\"const int PROGMEM msg_len = {len(df)};\")\n",
    "for field, datatype in zip(fields, datatypes):\n",
    "    code.append(\n",
    "        f\"const {datatype} PROGMEM {field}[{len(df[field])}] = \" +\n",
    "        \"{\" +\n",
    "        \", \".join([\n",
    "            str(i)\n",
    "            for i in list(df[field])\n",
    "        ]) +\n",
    "        \"};\"\n",
    "    )\n",
    "print(\n",
    "    \"\\n\".join([\n",
    "        line[:100] + (\"\" if len(line) < 100 else \"...\")\n",
    "        for line in code\n",
    "    ])\n",
    ")"
   ]
  },
  {
   "cell_type": "code",
   "execution_count": 36,
   "metadata": {},
   "outputs": [],
   "source": [
    "with open('hardware-replay/replay.h', 'w') as f:\n",
    "    f.write(\"\\n\".join(code))"
   ]
  },
  {
   "cell_type": "markdown",
   "metadata": {},
   "source": [
    "Now, we just need to program a microcontroller to replay packets to the LCD. Source code for this is available inside [`hardware-replay/hardware-replay.ino`](files/hardware-replay/hardware-replay.ino). As a side note, I had to learnnow to [store arduino variables in ROM](https://www.arduino.cc/reference/en/language/variables/utilities/progmem/) to fit the entire payload inside the microcontroller - the payload would not fit into the [2.5kb of RAM available in an Ardunio Micro](https://store.arduino.cc/usa/arduino-micro) but it would work if we used the 32kb of ROM.\n",
    "\n",
    "![Hardware replay](files/images/hardware-replay.png)\n",
    "\n",
    "And success! We get the same message from earlier and can move onto the crypto part of the challenge. [Full video can be found here.](https://youtu.be/HGdp8noYVfE)"
   ]
  }
 ],
 "metadata": {
  "kernelspec": {
   "display_name": "Python 3",
   "language": "python",
   "name": "python3"
  },
  "language_info": {
   "codemirror_mode": {
    "name": "ipython",
    "version": 3
   },
   "file_extension": ".py",
   "mimetype": "text/x-python",
   "name": "python",
   "nbconvert_exporter": "python",
   "pygments_lexer": "ipython3",
   "version": "3.6.9"
  }
 },
 "nbformat": 4,
 "nbformat_minor": 4
}
