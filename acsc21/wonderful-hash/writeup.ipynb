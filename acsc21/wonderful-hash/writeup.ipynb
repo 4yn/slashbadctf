{
 "cells": [
  {
   "cell_type": "markdown",
   "source": [
    "# Wonderful Hash\n",
    "\n",
    "> CRYPTO | 340\n",
    "> \n",
    "> My hash function is composed of AES, DES and RC4. It is Wonderful!\n",
    "> \n",
    "> `nc wonderful-hash.chal.acsc.asia 10217`\n",
    "> \n",
    "> Attachment: wonderful_hash.tar.gz (md5 0ee465ff6b0833676da8c8cc799747c2)"
   ],
   "metadata": {}
  },
  {
   "cell_type": "markdown",
   "source": [
    "- There is a weird hash function in the python code given that:\n",
    "  - Pads the input message and splitting into 16 byte blocks\n",
    "  - Passes each block through `block_hash` to produce 6 bytes of output\n",
    "  - XOR-s the hashes of all block to produce a final hash"
   ],
   "metadata": {}
  },
  {
   "cell_type": "code",
   "execution_count": 1,
   "source": [
    "from Crypto.Cipher import AES, ARC4, DES\n",
    "\n",
    "BLOCK = 16\n",
    "\n",
    "def bxor(a, b):\n",
    "  res = [c1 ^ c2 for (c1, c2) in zip(a, b)]\n",
    "  return bytes(res)\n",
    "\n",
    "# null blocks pulled out from original code to increase speed\n",
    "aes_seed = b\"\\x00\" * AES.block_size\n",
    "arc4_seed = b\"\\x00\" * DES.key_size\n",
    "des_seed = b\"\\x00\" * DES.block_size\n",
    "\n",
    "def block_hash(data):\n",
    "  data = AES.new(data, AES.MODE_ECB).encrypt(aes_seed)\n",
    "  data = ARC4.new(data).encrypt(arc4_seed)\n",
    "  data = DES.new(data, DES.MODE_ECB).encrypt(des_seed)\n",
    "  return data[:-2]\n",
    "\n",
    "def hash(data):\n",
    "  length = len(data)\n",
    "  if length % BLOCK != 0:\n",
    "    pad_len = BLOCK - length % BLOCK\n",
    "    data += bytes([pad_len] * pad_len)\n",
    "    length += pad_len\n",
    "  block_cnt = length // BLOCK\n",
    "  blocks = [data[i * BLOCK:(i + 1) * BLOCK] for i in range(block_cnt)]\n",
    "  res = b\"\\x00\" * BLOCK\n",
    "  for block in blocks:\n",
    "    res = bxor(res, block_hash(block))\n",
    "  return res"
   ],
   "outputs": [],
   "metadata": {}
  },
  {
   "cell_type": "markdown",
   "source": [
    "- The python service can run an arbitary command in shell\n",
    "- To change the command string, the new command must have the same length of `417` and hash of `152d18d3ed93` as the original"
   ],
   "metadata": {}
  },
  {
   "cell_type": "code",
   "execution_count": 2,
   "source": [
    "import string\n",
    "\n",
    "cmd = (b\"echo 'There are a lot of Capture The Flag (CTF) competitions in \"\n",
    "       b\"our days, some of them have excelent tasks, but in most cases \"\n",
    "       b\"they're forgotten just after the CTF finished. We decided to make\"\n",
    "       b\" some kind of CTF archive and of course, it'll be too boring to \"\n",
    "       b\"have just an archive, so we made a place, where you can get some \"\n",
    "       b\"another CTF-related info - current overall Capture The Flag team \"\n",
    "       b\"rating, per-team statistics etc'\")\n",
    "\n",
    "def check(cmd, new_cmd):\n",
    "  if len(cmd) != len(new_cmd):\n",
    "    return False\n",
    "  if hash(cmd) != hash(new_cmd):\n",
    "    return False\n",
    "  for c in new_cmd:\n",
    "    if chr(c) not in string.printable:\n",
    "      return False\n",
    "  return True\n",
    "\n",
    "original_cmd_hash = hash(cmd)\n",
    "\n",
    "len(cmd), original_cmd_hash.hex()"
   ],
   "outputs": [
    {
     "output_type": "execute_result",
     "data": {
      "text/plain": [
       "(417, '152d18d3ed93')"
      ]
     },
     "metadata": {},
     "execution_count": 2
    }
   ],
   "metadata": {}
  },
  {
   "cell_type": "markdown",
   "source": [
    "- Our new command can look like\n",
    "  - Head portion to print flag `cat flag;`\n",
    "  - Command to \"swallow\" the rest of the command text `echo  ` (2 spaces, total 1 block so far)\n",
    "  - Some extra padding to leave an even number of remaining blocks `aaaaaaaaaaaaaaaa` (16 `a`s)\n",
    "  - 2 blocks to will brute force and align hash\n",
    "  - Remaining even number of blocks which will we fill with spaces\n",
    "    - All the block's hashes will be the same\n",
    "    - Because there is an even number, the hash will cancel out after XOR and we can ignore\n",
    "  - Tail to pad to ensure correct padding ` ` (1 space)"
   ],
   "metadata": {}
  },
  {
   "cell_type": "code",
   "execution_count": 3,
   "source": [
    "payload_head = b\"cat flag; echo  \" + b\"a\" * BLOCK\n",
    "payload_brute = b\"?\" * BLOCK * 2\n",
    "payload_blank = b\" \" * BLOCK * 22\n",
    "payload_tail = b\" \"\n",
    "\n",
    "assert(len(payload_head) % BLOCK == 0)\n",
    "assert(len(payload_tail) == len(cmd) % BLOCK)\n",
    "assert(len(payload_head + payload_brute + payload_blank + payload_tail) == len(cmd))"
   ],
   "outputs": [],
   "metadata": {}
  },
  {
   "cell_type": "markdown",
   "source": [
    "- The remainder of the crafted payload has hash `abbcbb066edf`\n",
    "- To make the final command match original hash, we need to find two blocks which will eventually produce hash `abbcbb066edf`"
   ],
   "metadata": {}
  },
  {
   "cell_type": "code",
   "execution_count": 4,
   "source": [
    "before_brute_hash = hash(payload_head + payload_blank + payload_tail)\n",
    "brute_goal_hash = bxor(original_cmd_hash, before_brute_hash)\n",
    "\n",
    "print(f\"\"\"\n",
    "Hash of original cmd    : {original_cmd_hash.hex()}\n",
    "Hash of head and tail   : {before_brute_hash.hex()}\n",
    "Hash required for brute : {brute_goal_hash.hex()}\n",
    "\"\"\".strip())"
   ],
   "outputs": [
    {
     "output_type": "stream",
     "name": "stdout",
     "text": [
      "Hash of original cmd    : 152d18d3ed93\n",
      "Hash of head and tail   : be91a3d5834c\n",
      "Hash required for brute : abbcbb066edf\n"
     ]
    }
   ],
   "metadata": {}
  },
  {
   "cell_type": "markdown",
   "source": [
    "- It is not possible to bryte force 2.8e14 hashes to find one hash that will match the goal\n",
    "- However, since we have 2 blocks to work with, we can do a \"meet in the middle\" strategy\n",
    "  - We precompute 1.7e7 1-block hashes\n",
    "  - For each hash `h_a`, to produce the goal we will need another block with 1-block hash `h_b = bxor(h_a, goal)` to obtain our goal hash\n",
    "  - If `h_b` is among the precomputed hashes, we have our desired blocks of text"
   ],
   "metadata": {}
  },
  {
   "cell_type": "code",
   "execution_count": 5,
   "source": [
    "print(f\"\"\"\n",
    "2 ** (6 * 8)      = {2 ** (6 * 8):e}\n",
    "2 ** (6 * 8 // 2) = {2 ** (6 * 8 // 2):e}\n",
    "\"\"\".strip())"
   ],
   "outputs": [
    {
     "output_type": "stream",
     "name": "stdout",
     "text": [
      "2 ** (6 * 8)      = 2.814750e+14\n",
      "2 ** (6 * 8 // 2) = 1.677722e+07\n"
     ]
    }
   ],
   "metadata": {}
  },
  {
   "cell_type": "markdown",
   "source": [
    "- For redundancy, we precompte 5e7 hashes to increase the chances of finding our desired hash\n",
    "- Run with `process_map` to calculate hashes with multiprocessing for speedup\n",
    "  - This took 10 minutes on a 8-core cloud data analysis kernel\n",
    "- Time to brute force!"
   ],
   "metadata": {}
  },
  {
   "cell_type": "code",
   "execution_count": 6,
   "source": [
    "from tqdm.auto import tqdm\n",
    "from tqdm.contrib.concurrent import process_map\n",
    "\n",
    "sm_max = 10 ** 3\n",
    "lg_max = 5 * 10 ** 4\n",
    "\n",
    "def brute_hash(lg):\n",
    "  res = []\n",
    "  for x in range(lg * sm_max, (lg + 1) * sm_max):\n",
    "    h_x = block_hash((\"@\" + str(x)).zfill(16).encode())\n",
    "    res.append((h_x, x))\n",
    "  return res\n",
    "\n",
    "ACTUAL = False\n",
    "\n",
    "if ACTUAL:\n",
    "  # This was run on the cloud kernel\n",
    "  precomp = process_map(brute_hash, range(lg_max), max_workers=8, chunksize=10)\n",
    "  cache = {\n",
    "    a: b\n",
    "    for i in precomp for a, b, in i\n",
    "  }\n",
    "else:\n",
    "  # Important results exported from cloud kernel\n",
    "  cache = {\n",
    "    hash((\"@\" + str(13698420)).zfill(16).encode()): 13698420,\n",
    "    hash((\"@\" + str(46842521)).zfill(16).encode()): 46842521\n",
    "  }\n",
    "\n",
    "# Would be around 5e7, but when I ran this it was 5 less due to actual collision\n",
    "len(cache) "
   ],
   "outputs": [
    {
     "output_type": "execute_result",
     "data": {
      "text/plain": [
       "2"
      ]
     },
     "metadata": {},
     "execution_count": 6
    }
   ],
   "metadata": {}
  },
  {
   "cell_type": "markdown",
   "source": [
    "- Now find which strings to use for a collision"
   ],
   "metadata": {}
  },
  {
   "cell_type": "code",
   "execution_count": 7,
   "source": [
    "# This took around 50s on the cloud kernel\n",
    "for h, x in tqdm(cache.items()):\n",
    "    if bxor(brute_goal_hash, h) in cache:\n",
    "        y = cache[bxor(brute_goal_hash, h)]\n",
    "        print(x, y)\n",
    "        break"
   ],
   "outputs": [
    {
     "output_type": "stream",
     "name": "stderr",
     "text": [
      "  0%|          | 0/2 [00:00<?, ?it/s]"
     ]
    },
    {
     "output_type": "stream",
     "name": "stdout",
     "text": [
      "13698420 46842521\n"
     ]
    },
    {
     "output_type": "stream",
     "name": "stderr",
     "text": [
      "\n"
     ]
    }
   ],
   "metadata": {}
  },
  {
   "cell_type": "markdown",
   "source": [
    "- Now we sanity check and make sure that the forged command matches"
   ],
   "metadata": {}
  },
  {
   "cell_type": "code",
   "execution_count": 8,
   "source": [
    "a_soln = 13698420\n",
    "b_soln = 46842521\n",
    "\n",
    "soln = (\n",
    "  payload_head +\n",
    "  (\"@\" + str(a_soln)).zfill(16).encode() +\n",
    "  (\"@\" + str(b_soln)).zfill(16).encode() + \n",
    "  payload_blank +\n",
    "  payload_tail\n",
    ")\n",
    "\n",
    "print(f\"\"\"\n",
    "Original hash : {hash(cmd).hex()}\n",
    "Original len  : {len(cmd)}\n",
    "Forged cmd    : {soln.decode()[:70]}...\n",
    "Forged hash   : {hash(soln).hex()}\n",
    "Forged len    : {len(soln)}\n",
    "Check         : {check(soln, cmd)}\n",
    "\"\"\")"
   ],
   "outputs": [
    {
     "output_type": "stream",
     "name": "stdout",
     "text": [
      "\n",
      "Original hash : 152d18d3ed93\n",
      "Original len  : 417\n",
      "Forged cmd    : cat flag; echo  aaaaaaaaaaaaaaaa0000000@136984200000000@46842521      ...\n",
      "Forged hash   : 152d18d3ed93\n",
      "Forged len    : 417\n",
      "Check         : True\n",
      "\n"
     ]
    }
   ],
   "metadata": {}
  },
  {
   "cell_type": "markdown",
   "source": [
    "- Now connect to service and claim flag!"
   ],
   "metadata": {}
  },
  {
   "cell_type": "code",
   "execution_count": 9,
   "source": [
    "from pwn import *\n",
    "\n",
    "r = remote(\"wonderful-hash.chal.acsc.asia\", 10217)\n",
    "r.recvuntil(\"> \")\n",
    "r.sendline(\"S\")\n",
    "r.sendline(soln)\n",
    "r.recvuntil(\"> \")\n",
    "r.sendline(\"E\")\n",
    "flag = r.recv().decode()\n",
    "\n",
    "print(flag)"
   ],
   "outputs": [
    {
     "output_type": "stream",
     "name": "stdout",
     "text": [
      "[x] Opening connection to wonderful-hash.chal.acsc.asia on port 10217\n",
      "[x] Opening connection to wonderful-hash.chal.acsc.asia on port 10217: Trying 35.200.79.53\n",
      "[+] Opening connection to wonderful-hash.chal.acsc.asia on port 10217: Done\n",
      "ACSC{M1Tm_i5_FunNY_But_Painfu1}\n",
      "\n"
     ]
    }
   ],
   "metadata": {}
  },
  {
   "cell_type": "markdown",
   "source": [
    "Flag: `ACSC{M1Tm_i5_FunNY_But_Painfu1}`"
   ],
   "metadata": {}
  }
 ],
 "metadata": {
  "orig_nbformat": 4,
  "language_info": {
   "name": "python",
   "version": "3.9.2",
   "mimetype": "text/x-python",
   "codemirror_mode": {
    "name": "ipython",
    "version": 3
   },
   "pygments_lexer": "ipython3",
   "nbconvert_exporter": "python",
   "file_extension": ".py"
  },
  "kernelspec": {
   "name": "python3",
   "display_name": "Python 3.9.2 64-bit ('base': conda)"
  },
  "interpreter": {
   "hash": "ba4985b013d52bd6424c48022e2eb894d697d177d60817c6fcc2819191fa581a"
  }
 },
 "nbformat": 4,
 "nbformat_minor": 2
}